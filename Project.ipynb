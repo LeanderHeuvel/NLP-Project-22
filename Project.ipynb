{
 "cells": [
  {
   "cell_type": "code",
   "execution_count": 10,
   "id": "744343a9",
   "metadata": {},
   "outputs": [
    {
     "name": "stdout",
     "output_type": "stream",
     "text": [
      "Requirement already satisfied: requests in c:\\users\\jaspe\\anaconda3\\lib\\site-packages (2.25.1)\n",
      "Requirement already satisfied: chardet<5,>=3.0.2 in c:\\users\\jaspe\\anaconda3\\lib\\site-packages (from requests) (4.0.0)\n",
      "Requirement already satisfied: idna<3,>=2.5 in c:\\users\\jaspe\\anaconda3\\lib\\site-packages (from requests) (2.10)\n",
      "Requirement already satisfied: certifi>=2017.4.17 in c:\\users\\jaspe\\anaconda3\\lib\\site-packages (from requests) (2021.10.8)\n",
      "Requirement already satisfied: urllib3<1.27,>=1.21.1 in c:\\users\\jaspe\\anaconda3\\lib\\site-packages (from requests) (1.26.4)\n"
     ]
    }
   ],
   "source": [
    "# !pip install requests\n",
    "# !pip install beautifulsoup4"
   ]
  },
  {
   "cell_type": "code",
   "execution_count": 30,
   "id": "1e0e8804",
   "metadata": {},
   "outputs": [
    {
     "name": "stdout",
     "output_type": "stream",
     "text": [
      "Employers posted a million fewer job openings in August in a sign that the hot U.S. labor market is cooling off and the Federal Reserve is making progress in its war on inflation.\n",
      "The number of job openings fell by more than 1 million in August, according to data published Tuesday by the Bureau of Labor Statistics. Aside from the outset of the coronavirus pandemic, it’s the largest monthly decline in decades.\n",
      "Overall job openings still remained higher than normal at around 10 million, while only 6 million Americans were unemployed. Those and other measures of the labor market, such as the 3.7% national unemployment rate, suggest the economy is in strong shape.\n",
      "But the sharp decline in job openings prompted some economists to warn that the Federal Reserve should not continue to hike interest rates at its current three-quarter-point pace.\n",
      "“Going forward, they want to take the more dovish path and particularly at the end of the year reassess where things are,” Mike Konczal, director of macroeconomic analysis at the Roosevelt Institute, said in an interview.\n",
      "“There’s been a lot of tightening already put into motion and it’s going to act with a lag,” Konczal said. “It’s good to see openings come down a bit, but we don’t want them to overshoot or go down too fast.”\n",
      "Higher interest rates work against inflation basically by sucking money out of the economy. Borrowing gets more expensive, leading to less spending and eventually lower prices as a result. The only problem is that reducing demand for goods and services could cause businesses to lay off workers.\n",
      "Since the Fed started hiking rates this year, mortgage costs have doubled, contributing to a drop in construction spending. Monthly hires are slightly down from their February peak and workers have been a bit less likely to quit their jobs.\n",
      "Tight labor markets have made hiring more difficult for businesses, prompting Republican lawmakers to claim government spending made workers too picky about what jobs they would take. But the Federal Reserve has faced relatively little political blowback as it actively undercuts workers in its fight against inflation.\n",
      "“When Wall Street and corporations run the economy, no matter what goes wrong, working people always pay the price,” Sen. Sherrod Brown (D-Ohio) said last month in one of the few Democratic responses to the Fed’s latest rate increase.\n",
      "Fed Chair Jerome Powell said during a press conference last month, however, that he and his colleagues would resist pausing their campaign against inflation, even though it’s possible they’ll cause a recession.\n",
      "“The historical record cautions strongly against prematurely loosening policy,” Powell said.\n",
      "HuffPost readers: Have you gotten laid off due to economic conditions? Tell us about it ― email arthur@huffpost.com. Please include your phone number if you’re willing to be interviewed.\n",
      "Powell has said he thinks the Fed can achieve a “soft landing” for the economy, slowing it down enough to reduce price pressure without causing widespread mass layoffs. He and other Fed officials have said their efforts could destroy job openings without destroying actual jobs. \n",
      "“Job openings are incredibly high relative to the number of people looking for work,” Powell said. “It’s plausible, I’ll say, that job openings could come down significantly ― and they need to ― without as much of an increase in unemployment as has happened in earlier historical episodes.”\n",
      "But Powell admitted that he didn’t know whether the Fed’s forecasts were reasonable or whether higher interest rates would eventually tip the economy into a recession.\n",
      "It’s possible that Powell will achieve the soft landing as advertised. Nick Bunker, an economist at the job listings website Indeed.com, wrote that Tuesday’s report should be a cause for celebration over at the Eccles Building, where the central bank has its headquarters.\n",
      "“The heat of the labor market is slowly coming down to a slow boil as demand for hiring new workers fades,” Bunker wrote Tuesday. “This is still very much a job seekers’ labor market, just one with fewer advantages for workers than a few months ago.”\n"
     ]
    }
   ],
   "source": [
    "import requests\n",
    "from bs4 import BeautifulSoup\n",
    "\n",
    "URL = \"https://www.huffpost.com/entry/job-openings-federal-reserve_n_633c89d4e4b04cf8f3677d0d\"\n",
    "page = requests.get(URL)\n",
    "\n",
    "soup = BeautifulSoup(page.content, 'html.parser')\n",
    "body = soup.find('section', class_='entry__content-list js-entry-content js-cet-subunit')\n",
    "content = body.find_all('div', class_='primary-cli cli cli-text')\n",
    "\n",
    "for i in content:\n",
    "    print(i.text)\n"
   ]
  },
  {
   "cell_type": "code",
   "execution_count": null,
   "id": "bd2e79e7",
   "metadata": {},
   "outputs": [],
   "source": []
  }
 ],
 "metadata": {
  "kernelspec": {
   "display_name": "Python 3",
   "language": "python",
   "name": "python3"
  },
  "language_info": {
   "codemirror_mode": {
    "name": "ipython",
    "version": 3
   },
   "file_extension": ".py",
   "mimetype": "text/x-python",
   "name": "python",
   "nbconvert_exporter": "python",
   "pygments_lexer": "ipython3",
   "version": "3.8.8"
  }
 },
 "nbformat": 4,
 "nbformat_minor": 5
}
