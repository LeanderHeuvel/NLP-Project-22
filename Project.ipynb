{
 "cells": [
  {
   "cell_type": "code",
   "execution_count": 10,
   "id": "744343a9",
   "metadata": {},
   "outputs": [
    {
     "name": "stdout",
     "output_type": "stream",
     "text": [
      "Requirement already satisfied: requests in c:\\users\\jaspe\\anaconda3\\lib\\site-packages (2.25.1)\n",
      "Requirement already satisfied: chardet<5,>=3.0.2 in c:\\users\\jaspe\\anaconda3\\lib\\site-packages (from requests) (4.0.0)\n",
      "Requirement already satisfied: idna<3,>=2.5 in c:\\users\\jaspe\\anaconda3\\lib\\site-packages (from requests) (2.10)\n",
      "Requirement already satisfied: certifi>=2017.4.17 in c:\\users\\jaspe\\anaconda3\\lib\\site-packages (from requests) (2021.10.8)\n",
      "Requirement already satisfied: urllib3<1.27,>=1.21.1 in c:\\users\\jaspe\\anaconda3\\lib\\site-packages (from requests) (1.26.4)\n"
     ]
    }
   ],
   "source": [
    "# !pip install requests\n",
    "# !pip install beautifulsoup4"
   ]
  },
  {
   "cell_type": "code",
   "execution_count": 209,
   "id": "1e0e8804",
   "metadata": {},
   "outputs": [
    {
     "name": "stdout",
     "output_type": "stream",
     "text": [
      "{'is_sarcastic': 1, 'headline': 'dad clarifies this not a food stop', 'article_link': 'https://www.theonion.com/dad-clarifies-this-not-a-food-stop-1819576557', 'article_text': '\"We are neither post-racial nor post-gender,\" Rep. Donna Edwards (D-Md.) proclaims in a new essay taking on Congress for not addressing inequality. One of the major barriers is that America\\'s elected officials don\\'t represent the most disenfranchised populations, Edwards argues in the Cosmopolitan magazine piece, published on Tuesday.\"Can we pass equal pay laws and give women control of their own health-care decisions when women represent just 20 percent of Congress?\" she says. Even when women get elected to office, men still hold the large majority of leadership positions, The New York Times pointed out last year.Edwards, who lost a Senate primary race to Rep. Chris Van Hollen (D-Md.), specifically criticized Democrats for not being inclusive of the voters who have traditionally been loyal to them.\"The Democratic Party will not survive the 21st century with the votes of people of color without the real leadership of people of color, especially black women, at every level.\"The essay is reminiscent of Edwards\\' senate campaign. One male elected official criticized her for invoking \"identity politics.\" \"Race does matter,\" she said during one debate.\"It\\'s time that we had the ability to speak for ourselves.\"Edwards\\' recent legislative efforts have included a bill addressing police brutality, the protection of Historically Black Colleges, and the push to encourage women and minorities to pursue careers in science and math. Read her full essay here.'}\n"
     ]
    }
   ],
   "source": [
    "import requests\n",
    "from bs4 import BeautifulSoup\n",
    "\n",
    "URL = \"https://www.huffingtonpost.com/entry/donna-edwards-inequality_us_57455f7fe4b055bb1170b207\"\n",
    "page = requests.get(URL)\n",
    "\n",
    "soup = BeautifulSoup(page.content, 'html.parser')\n",
    "body = soup.find('section', class_='entry__content-list js-entry-content js-cet-subunit')\n",
    "content = body.find_all('div', class_='primary-cli cli cli-text')\n",
    "\n",
    "article_text = ''\n",
    "\n",
    "for i in content:\n",
    "    article_text += i.text\n",
    "# print(article_text)   \n",
    "\n",
    "data[\"article_text\"] = article_text\n",
    "print(data)\n",
    "# output: json format --> \"body\" : \"Employers posted a million fewer job openings...\"\n",
    "# dictionary gebruiken!\n",
    "# per dictionary (=artikel) de body tekst toevoegen\n",
    "# dode linkjes toevoegen aan nieuwe lijst met headlines\n"
   ]
  },
  {
   "cell_type": "code",
   "execution_count": 218,
   "id": "13fd5da2",
   "metadata": {},
   "outputs": [],
   "source": [
    "import json\n",
    "from tqdm import tqdm  \n",
    "\n",
    "# Opening JSON file\n",
    "f = open('archive\\Sarcasm_Headlines_Dataset_v2.json')\n",
    "\n",
    "# load data and remove broken urls:\n",
    "full_data = []\n",
    "\n",
    "with open(\"archive\\Sarcasm_Headlines_Dataset_v2.json\") as file:\n",
    "    for line in file:\n",
    "        data = json.loads(line)\n",
    "        full_data.append(data)"
   ]
  },
  {
   "cell_type": "code",
   "execution_count": 219,
   "id": "6db196be",
   "metadata": {
    "scrolled": true
   },
   "outputs": [
    {
     "name": "stderr",
     "output_type": "stream",
     "text": [
      "\r",
      "  0%|                                                                                           | 0/10 [00:00<?, ?it/s]"
     ]
    },
    {
     "name": "stdout",
     "output_type": "stream",
     "text": [
      "https://www.theonion.com/thirtysomething-scientists-unveil-doomsday-clock-of-hai-1819586205  not working..\n"
     ]
    },
    {
     "name": "stderr",
     "output_type": "stream",
     "text": [
      "\r",
      " 20%|████████████████▌                                                                  | 2/10 [00:00<00:03,  2.43it/s]"
     ]
    },
    {
     "name": "stdout",
     "output_type": "stream",
     "text": [
      "\"We are neither post-racial nor post-gender,\" Rep. Donna Edwards (D-Md.) proclaims in a new essay taking on Congress for not addressing inequality. One of the major barriers is that America's elected officials don't represent the most disenfranchised populations, Edwards argues in the Cosmopolitan magazine piece, published on Tuesday.\"Can we pass equal pay laws and give women control of their own health-care decisions when women represent just 20 percent of Congress?\" she says. Even when women get elected to office, men still hold the large majority of leadership positions, The New York Times pointed out last year.Edwards, who lost a Senate primary race to Rep. Chris Van Hollen (D-Md.), specifically criticized Democrats for not being inclusive of the voters who have traditionally been loyal to them.\"The Democratic Party will not survive the 21st century with the votes of people of color without the real leadership of people of color, especially black women, at every level.\"The essay is reminiscent of Edwards' senate campaign. One male elected official criticized her for invoking \"identity politics.\" \"Race does matter,\" she said during one debate.\"It's time that we had the ability to speak for ourselves.\"Edwards' recent legislative efforts have included a bill addressing police brutality, the protection of Historically Black Colleges, and the push to encourage women and minorities to pursue careers in science and math. Read her full essay here.\n",
      "https://www.huffingtonpost.com/entry/donna-edwards-inequality_us_57455f7fe4b055bb1170b207  working!\n"
     ]
    },
    {
     "name": "stderr",
     "output_type": "stream",
     "text": [
      " 40%|█████████████████████████████████▏                                                 | 4/10 [00:02<00:03,  1.86it/s]"
     ]
    },
    {
     "name": "stdout",
     "output_type": "stream",
     "text": [
      "Vegetables don't have to be boring or relegated to a side dish. From roasted broccoli with chipotle honey butter to balsamic glazed roasted beets, these recipes are so flavorful and satisfying, they could carry an entire meal. 1. Roasted Broccoli with Chipotle Honey ButterIn this recipe, broccoli florets are tossed in a sweet, spicy and smoky chipotle-honey butter before roasting. It's as delicious as it sounds, and the broccoli has enough flavor to carry an entire meal. Serve it as a main course with rice or as a side dish to simply grilled fish or meat. GET THE RECIPE2. Golden Roasted Cauliflower with Pecorino Romano CheeseWant to get your family to love cauliflower? Try roasting it and tossing it with cheese. It worked for me. GET THE RECIPE3. Asian Kale Slaw with Creamy Ginger Peanut DressingBelieve or not, this salad will have you eating your vegetables (and, most surprisingly, your kale) with pleasure and abandon. It's meant to be a side dish, but if you're anything like me, you'll probably find yourself eating the whole lot of it for dinner. GET THE RECIPE4. Balsamic-Glazed Roasted BeetsIf you're a beet lover like I am, you're going to love (and maybe even obsess over) these simply prepared beets. They're oven-roasted, which intensifies their natural sweetness, and then tossed in a tart and syrupy balsamic reduction. GET THE RECIPE5. Stir-Fried Szechuan Green Beans with Shiitake MushroomsGive vegetables the spotlight with this easy and authentic Szechuan dish. It makes a delicious side dish or vegetarian main course with rice or noodles. GET THE RECIPE6. Roasted Brussels Sprouts with Bacon, Pecans & Maple SyrupWhat's not to love about golden roasted brussels sprouts with smoky bacon, toasted pecans and maple syrup? It's hard to resist eating the entire pan right out of the oven! GET THE RECIPE7. Carrot Slaw with Cranberries, Toasted Walnuts & Citrus VinaigretteDried cranberries and toasted walnuts make this carrot slaw colorful and crunchy. I like to serve it with a crusty baguette for a light lunch or as a healthy side to sandwiches or burgers. GET THE RECIPE8. Cauliflower Purée with ThymeThis cauliflower purée is creamy and comforting, and it just happens to taste remarkably like mashed potatoes. It also has the benefit of being easier to make, healthier and lower in carbs. But don't make it just for that reason -- it's delicious in its own right. GET THE RECIPE9. Carrot & Sweet Potato SoupThis warming soup, made with carrots, sweet potatoes, apples and honey, has a secret ingredient: curry powder. It doesn't give the soup an Indian flavor like you might think, but instead lends a subtle hint of autumn spice.  GET THE RECIPE\n",
      "https://www.huffingtonpost.com/entry/eat-your-veggies-9-delici_b_8899742.html  working!\n",
      "PROVIDENCE, RI—In spite of his best efforts to brave the ongoing winter storm and freezing temperatures, the inclement weather currently affecting the Northeast has left Providence-area liar Tim Carlson unable to commute to his office, the habitual deceiver reported to his colleagues today. “They haven’t been able to plow my street yet and the snow drifts have to be two feet high in some places, so I don’t really think there’s any way for me to make it in,” said an email sent from the man who spent 45 minutes attempting to dislodge his car from a snowbank and who routinely fabricates stories. “On top of that, the buses don’t seem to be running in my area, or else I definitely would have been in by now. This is really a mess. I’m so sorry, everyone. Wish I could be there.” Carlson also confirmed that the weather had left his apartment’s electricity somewhat spotty, preventing the unrepentant phony from doing any work from home.\n",
      "https://local.theonion.com/inclement-weather-prevents-liar-from-getting-to-work-1819576031  working!\n"
     ]
    },
    {
     "name": "stderr",
     "output_type": "stream",
     "text": [
      "\r",
      " 50%|█████████████████████████████████████████▌                                         | 5/10 [00:02<00:01,  2.54it/s]"
     ]
    },
    {
     "name": "stdout",
     "output_type": "stream",
     "text": [
      "PATERSON, NJ—Family sources told reporters Tuesday that local mother Karen Burkhart came fairly close to using the term “streaming” correctly during a recent conversation. “She likes that Orange Is The New Black show and told us that she started ‘stream-watching’ a couple of episodes,” said daughter Melanie Burkhart, who was reportedly surprised by her mother’s nearly accurate usage of the technical jargon. “I thought, wow, she actually got really close to the actual meaning of the word. She almost nailed it. And this is the woman who asked if the internet was as good as the online. It’s certainly the most precise she’s been in a long time.” At press time, Burkhart’s children decided to give it to her, claiming that she got close enough.\n",
      "https://www.theonion.com/mother-comes-pretty-close-to-using-word-streaming-cor-1819575546  working!\n"
     ]
    },
    {
     "name": "stderr",
     "output_type": "stream",
     "text": [
      "\r",
      " 60%|█████████████████████████████████████████████████▊                                 | 6/10 [00:03<00:02,  1.67it/s]"
     ]
    },
    {
     "name": "stdout",
     "output_type": "stream",
     "text": [
      "To what extent do you own your inheritance? Life is cumulative. At the end of our lives, we take all that we’ve earned, learned, and collected and pass it along to those that carry on our legacy. Recently, while doing research on my family like so many do on the internet, I pieced together parts of my family history. Decades of census reports track the progress of my ancestors from their arrival to America from Europe and Canada in the early 1900’s through the steel mills of central New England, each generation moving up in education and class. My family history embodies America’s promise. My great-grandfather, Anthony Golaszewski, an immigrant from Poland arrived at Ellis Island in 1907. With the help of a relative, he landed a job in a steel mill in Worcester, MA where he lived for the rest of his life. Like many immigrants at the time, he lived on U.S. soil for decades before becoming a citizen.In 1938, Anthony’s daughter, Helen, married Wallace Polewaczyk, who also worked in Worcester’s steel mills, and moved into a triple-decker home in the Polish neighborhood. While they never owned property, they lived a modest life that fulfilled the dreams that carried Anthony across the Atlantic.Anthony’s granddaughter, Irene, in 1969 married my father, John Cormier, a second generation American of Italian and French Canadian heritage. My mother graduated from high school and my father earned two master’s degrees. Together they ascended to the next level of the American dream, purchasing their first home and, years later, a second home by the ocean shortly after their fourth child was born (that’s me).My research also uncovered a few painful parts of my family history.My older brother was arrested for cocaine possession in 1989. As an 11-year-old, I read about his arrest in our local paper, a traumatic moment that altered my understanding of addiction and its impact on our family.Between the lines of my family history lies an unspoken but potent truth in my inheritance. More than my thinning crown or prominently bridged nose, a defining characteristic has been handed down to me through my ancestry.My family history embodies white America’s promise.As I track the progress of my family, each data point has an implicit racial component that adds to the legacy I inherited. While we’re a family that has few material heirlooms and even fewer trust funds, I benefit from an inheritance that has provided me with a level of comfort, access and power directly tied to our whiteness.It’s not shocking or newsworthy to hear that race impacts one’s lived experience or privilege. That seems obvious, though it’s not always acknowledged or accepted by my fellow white brothers and sisters. While it’s true that my life will forever be linked to the economic stability and supportive environment in which I was raised, it’s not simply about wealth and asset accumulation. It’s broader than that. And all of it can be tied to the fact that my ancestors were – and I am – white.When Anthony came to America of his own accord in 1907, he depended upon the coterie of Polish relatives and familial acquaintances to start his life and find housing in the New World. This network of support is as American as Ellis Island and as critical to immigrants today as it was to Anthony. Even though Massachusetts was one of the first states to ban slavery and repeal Jim Crow laws, housing discrimination based on race was still legal until 1948, and continued through racist practices like redlining for decades after that. Anthony had access to reliable housing which aided his ability to get a steady job that sustained him and his family throughout his life.My grandparents could marry in 1938 because they were both white and born in a state without anti-miscegenation laws. Massachusetts’ infamous “1913 law” that effectively banned interracial marriage was not fully repealed until 2008. As a gay man, I am keenly aware of the importance of marriage, and the economic stability and social acceptance that it can provide. Helen and Wallace had access to rights and benefits that were denied to mixed race couples.When my parents married in 1969, they both had access to education that helped them advance their careers. At the same time, Boston area schools were failing generations of African-Americans (see also: the 1974 Boston busing riots). My siblings and I went to public elementary schools that continued to struggle to fully integrate in the 1970’s and 80’s.In 1988, the so-called “war on drugs” targeted communities with a racial bias that disproportionally incarcerated African-Americans. Federal penalties for crack cocaine were 100 times harsher than those for powder cocaine. Had my brother been caught with crack instead of powder cocaine, our family would likely have been drained financially by legal fees and emotionally by frequent trips to prison for years or decades.This is not to say that my family was free of struggle and challenges. When Anthony arrived in this country, Polish immigrants were overwhelmingly poor and worked in grueling conditions in industrial factories – which undoubtedly contributed to the high rates of alcoholism, violence, and domestic abuse in their community and within my family.So, what now? What do I – and others who recognize the lived and inherited components of being white – do now?For starters, we can admit this openly and push back when we hear comments about boot straps and self-made men (spoiler alert: they don’t exist). We can find our own ways of authentically owning our racial inheritance, including fighting racism and white supremacy.The question posed to us is more about the future than the past. It’s not enough to simply acknowledge the privilege that comes with being white. What we do with this perspective throughout our lives will be the legacy we leave behind. Awareness effects action.Because life is cumulative. And what we pass along will define our legacy.\n",
      "https://www.huffingtonpost.com/entry/my-white-inheritance_us_59230747e4b07617ae4cbe1a  working!\n"
     ]
    },
    {
     "name": "stderr",
     "output_type": "stream",
     "text": [
      "\r",
      " 70%|██████████████████████████████████████████████████████████                         | 7/10 [00:04<00:02,  1.32it/s]"
     ]
    },
    {
     "name": "stdout",
     "output_type": "stream",
     "text": [
      "Even with years of experience, the process of reviewing your records and filing your tax return can be stressful. With the April 15 tax deadline getting close, consider trying these five strategies that may help you lower your 2014 taxes, enhance your retirement readiness and help you get more organized for 2015.1. Leverage your retirement accountsIf you currently have an individual retirement account (IRA), you have up until April 15to make any contributions for the 2014 tax year. That means you may be able to lower your taxable income for 2014. The contribution limit to an IRA for 2014 is $5,500 (or $6,500 for those over 50) so try to reach that number before the deadline. Eligibility for an IRA tax deduction depends on your marital status and whether you or your spouse has a retirement plan available at work (such as a 401(k) account).If you don't have an IRA, begin planning for tax seasons to come by taking full advantage of tax-advantaged retirement accounts such as a 401(k), especially if your employer offers a match program. Doing this will help reduce stress as you file your taxes next April, as well as relieve future stress around retirement planning.If you're self-employed, there's also still time to open and fund an SEP IRA (Simplified Employee Pension Individual Retirement Account) for 2014. You can invest up to 25 percent of your self-employment income or $52,000, whichever is less (this will go up to $53,000 for 2015). Contributing money automatically out of your paycheck to a workplace retirement plan such as a 401(k) provides you with tax-deferred growth on savings while also lowering your taxable income for the year. The money you contribute to your 401(k) is made on a pre-tax basis and grows income tax-deferred, which means that you generally don't pay taxes on the contributions and earnings until you withdraw these funds, typically at retirement age.2. Get organizedWhether you will be hiring a professional or completing your return on your own, organize your records in a clear manner to ensure that you have all of the documents you need. Otherwise, you might fail to report all of the income, interest or dividends you earned to the Internal Revenue Service (IRS). This could result in federal income tax penalties and interest or, in the worst case, a tax audit.In order to avoid any issues, review a copy of last year's tax return and put together a list of every source of income you reported. Then, make sure you have all the documents -- 1099s, W-2s, interest statements -- that align with these sources for the year. If you made new investments last year or earned income from any new employers, double-check that you have those records too.To make sure you haven't missed any expenses you can write off or income you need to include, consider using an online tax checklist. Tax software programs could be another viable option as they ask a variety of questions that could help remind you about purchases that affect your tax bill.3. Take advantage of workplace benefitsIf you run your own or operate a side business, you may be able to write off many costs by claiming a variety of deductions for business expenses. Examples of these would include travel expenses or costs associated with running and maintaining your home office. If you work for a company and used a flexible spending account (FSA) to help pay for health care or child care expenses last year, the amount you contributed to the account is not subject to tax. This means that your taxable earnings may be significantly less than you think. It is however, important to remember that you will forfeit any funds you contribute but don't end up spending.4. Don't go it aloneIf you're confused about completing any portion of your tax return, don't wing it. Call in a trained tax professional for assistance. This is the time of year when many people look at their finances as a whole, so it is also a good time to consider talking to a financial advisor to discuss your current finances, retirement readiness and long-term financial security. Comprehensive financial planning often requires the help of a professional, especially as retirement approaches. 5. Start planning for next year, this year While you're dealing with your taxes, think about how relieved you would be if you were better prepared a year from now. The key to making your next tax return season less stressful is to stay one step ahead by getting organized and having a plan.A little bit of work in advance can save a lot of time and effort in the long run. Start by collecting receipts in envelopes or files labeled with specific tax categories, such as work expenses, medical expenses or investments. Keeping digital files is another good way to stay organized. The key is to have an organization system that works for you throughout the upcoming year and can help you stay better organized next tax season.Also, take a look at your periodic tax withdrawals to make sure they are appropriate. Did you get a lot of money back this year, or owe money? If so, you may want to adjust your deductions so that next year you are more on target.These tips can make filing your return a less stressful process and build your long-term retirement security at the same time. If you thoroughly prepare, take advantage of tax-advantaged savings vehicles, and stay organized, you put yourself in a position to save time and money in the long run.This is not intended to be legal and/or tax advice.James Nichols is head of Retirement Income and Advice Strategy for Retirement Solutions at Voya Financial, one of the largest retirement platforms, product and service providers in the United States. In his role, Nichols is responsible for overseeing Voya's advice and guidance platform to meet the evolving needs of approximately 48,000 institutional clients and over five million individual customers. Nichols is also responsible for developing and executing Voya's retirement income strategy, which seeks to provide retirement income and advice solutions for all Americans.James Nichols is a registered representative of Voya Financial Advisors, Inc. and Voya Retirement Advisors, LLC (members SIPC)\n",
      "https://www.huffingtonpost.com/entry/5-ways-to-file-your-taxes_b_6957316.html  working!\n",
      "LONDON—Analysts are predicting that the $3 billion Sir  Richard Branson has pledged for developing energy sources to combat global warming could come close to matching the amount the entrepreneur, adventurer, and Virgin CEO has already spent on elaborate balloon-based excursions.\n",
      "https://www.theonion.com/richard-bransons-global-warming-donation-nearly-as-much-1819568749  working!\n"
     ]
    },
    {
     "name": "stderr",
     "output_type": "stream",
     "text": [
      "100%|██████████████████████████████████████████████████████████████████████████████████| 10/10 [00:04<00:00,  2.13it/s]"
     ]
    },
    {
     "name": "stdout",
     "output_type": "stream",
     "text": [
      "COLUMBUS, OH—With its membership swelling in recent months, the mysterious organization that secretly pulls the levers of American power was forced to suspend its weekly meeting Monday, having grown too big to fit inside Marriott Conference Room B. \"To successfully carry out our clandestine operations and continue maintaining the ignorance of the masses, we will now require the full amenities of Conference Room A,\" said an unidentified man, who is believed to have covertly orchestrated the economic collapse of Iceland last year. \"We must postpone the Cataclysmic Event until such time as a more comfortable meeting space is available.\" According to confidential records, the hidden regime's enrollment has more than doubled since it gained free access to the Marriott's swimming pool and gym facilities.\n",
      "https://politics.theonion.com/shadow-government-getting-too-large-to-meet-in-marriott-1819570731  working!\n",
      "https://www.huffingtonpost.comhttp://pubx.co/6IXxhm  not working..\n"
     ]
    },
    {
     "name": "stderr",
     "output_type": "stream",
     "text": [
      "\n"
     ]
    }
   ],
   "source": [
    "# print(full_data[:10])\n",
    "broken_urls = []\n",
    "\n",
    "for item in tqdm(full_data[:10]):\n",
    "    URL = item['article_link']\n",
    "#     print(URL)\n",
    "    try:\n",
    "        page = requests.get(URL)\n",
    "        page.raise_for_status()\n",
    "    \n",
    "        soup = BeautifulSoup(page.content, 'html.parser')\n",
    "        \n",
    "        if \"huffingtonpost\" in URL:\n",
    "            body = soup.find('section', class_='entry__content-list js-entry-content js-cet-subunit')\n",
    "            content = body.find_all('div', class_='primary-cli cli cli-text')\n",
    "\n",
    "            article_text = ''\n",
    "\n",
    "            for i in content:\n",
    "                article_text += i.text\n",
    "                \n",
    "            print(article_text)\n",
    "            item[\"article_text\"] = article_text\n",
    "                \n",
    "        elif \"theonion\" in URL:\n",
    "            soup = BeautifulSoup(page.content, 'html.parser')\n",
    "            body = soup.find('p', class_='sc-77igqf-0 bOfvBY')\n",
    "            \n",
    "            article_text = body.text\n",
    "            print(article_text)\n",
    "            item[\"article_text\"] = article_text\n",
    "            \n",
    "    except:\n",
    "        print(URL,' not working..')\n",
    "        broken_urls.append(URL)\n",
    "        item[\"article_text\"] = ''\n",
    "    else:\n",
    "        print(URL,' working!')\n"
   ]
  },
  {
   "cell_type": "code",
   "execution_count": 220,
   "id": "bd2e79e7",
   "metadata": {},
   "outputs": [
    {
     "name": "stdout",
     "output_type": "stream",
     "text": [
      "[{'is_sarcastic': 1, 'headline': 'thirtysomething scientists unveil doomsday clock of hair loss', 'article_link': 'https://www.theonion.com/thirtysomething-scientists-unveil-doomsday-clock-of-hai-1819586205', 'article_text': ''}, {'is_sarcastic': 0, 'headline': 'dem rep. totally nails why congress is falling short on gender, racial equality', 'article_link': 'https://www.huffingtonpost.com/entry/donna-edwards-inequality_us_57455f7fe4b055bb1170b207', 'article_text': '\"We are neither post-racial nor post-gender,\" Rep. Donna Edwards (D-Md.) proclaims in a new essay taking on Congress for not addressing inequality. One of the major barriers is that America\\'s elected officials don\\'t represent the most disenfranchised populations, Edwards argues in the Cosmopolitan magazine piece, published on Tuesday.\"Can we pass equal pay laws and give women control of their own health-care decisions when women represent just 20 percent of Congress?\" she says. Even when women get elected to office, men still hold the large majority of leadership positions, The New York Times pointed out last year.Edwards, who lost a Senate primary race to Rep. Chris Van Hollen (D-Md.), specifically criticized Democrats for not being inclusive of the voters who have traditionally been loyal to them.\"The Democratic Party will not survive the 21st century with the votes of people of color without the real leadership of people of color, especially black women, at every level.\"The essay is reminiscent of Edwards\\' senate campaign. One male elected official criticized her for invoking \"identity politics.\" \"Race does matter,\" she said during one debate.\"It\\'s time that we had the ability to speak for ourselves.\"Edwards\\' recent legislative efforts have included a bill addressing police brutality, the protection of Historically Black Colleges, and the push to encourage women and minorities to pursue careers in science and math. Read her full essay here.'}, {'is_sarcastic': 0, 'headline': 'eat your veggies: 9 deliciously different recipes', 'article_link': 'https://www.huffingtonpost.com/entry/eat-your-veggies-9-delici_b_8899742.html', 'article_text': \"Vegetables don't have to be boring or relegated to a side dish. From roasted broccoli with chipotle honey butter to balsamic glazed roasted beets, these recipes are so flavorful and satisfying, they could carry an entire meal. 1. Roasted Broccoli with Chipotle Honey ButterIn this recipe, broccoli florets are tossed in a sweet, spicy and smoky chipotle-honey butter before roasting. It's as delicious as it sounds, and the broccoli has enough flavor to carry an entire meal. Serve it as a main course with rice or as a side dish to simply grilled fish or meat. GET THE RECIPE2. Golden Roasted Cauliflower with Pecorino Romano CheeseWant to get your family to love cauliflower? Try roasting it and tossing it with cheese. It worked for me. GET THE RECIPE3. Asian Kale Slaw with Creamy Ginger Peanut DressingBelieve or not, this salad will have you eating your vegetables (and, most surprisingly, your kale) with pleasure and abandon. It's meant to be a side dish, but if you're anything like me, you'll probably find yourself eating the whole lot of it for dinner. GET THE RECIPE4. Balsamic-Glazed Roasted BeetsIf you're a beet lover like I am, you're going to love (and maybe even obsess over) these simply prepared beets. They're oven-roasted, which intensifies their natural sweetness, and then tossed in a tart and syrupy balsamic reduction. GET THE RECIPE5. Stir-Fried Szechuan Green Beans with Shiitake MushroomsGive vegetables the spotlight with this easy and authentic Szechuan dish. It makes a delicious side dish or vegetarian main course with rice or noodles. GET THE RECIPE6. Roasted Brussels Sprouts with Bacon, Pecans & Maple SyrupWhat's not to love about golden roasted brussels sprouts with smoky bacon, toasted pecans and maple syrup? It's hard to resist eating the entire pan right out of the oven! GET THE RECIPE7. Carrot Slaw with Cranberries, Toasted Walnuts & Citrus VinaigretteDried cranberries and toasted walnuts make this carrot slaw colorful and crunchy. I like to serve it with a crusty baguette for a light lunch or as a healthy side to sandwiches or burgers. GET THE RECIPE8. Cauliflower Purée with ThymeThis cauliflower purée is creamy and comforting, and it just happens to taste remarkably like mashed potatoes. It also has the benefit of being easier to make, healthier and lower in carbs. But don't make it just for that reason -- it's delicious in its own right. GET THE RECIPE9. Carrot & Sweet Potato SoupThis warming soup, made with carrots, sweet potatoes, apples and honey, has a secret ingredient: curry powder. It doesn't give the soup an Indian flavor like you might think, but instead lends a subtle hint of autumn spice.  GET THE RECIPE\"}, {'is_sarcastic': 1, 'headline': 'inclement weather prevents liar from getting to work', 'article_link': 'https://local.theonion.com/inclement-weather-prevents-liar-from-getting-to-work-1819576031', 'article_text': 'PROVIDENCE, RI—In spite of his best efforts to brave the ongoing winter storm and freezing temperatures, the inclement weather currently affecting the Northeast has left Providence-area liar Tim Carlson unable to commute to his office, the habitual deceiver reported to his colleagues today. “They haven’t been able to plow my street yet and the snow drifts have to be two feet high in some places, so I don’t really think there’s any way for me to make it in,” said an email sent from the man who spent 45 minutes attempting to dislodge his car from a snowbank and who routinely fabricates stories. “On top of that, the buses don’t seem to be running in my area, or else I definitely would have been in by now. This is really a mess. I’m so sorry, everyone. Wish I could be there.” Carlson also confirmed that the weather had left his apartment’s electricity somewhat spotty, preventing the unrepentant phony from doing any work from home.'}, {'is_sarcastic': 1, 'headline': \"mother comes pretty close to using word 'streaming' correctly\", 'article_link': 'https://www.theonion.com/mother-comes-pretty-close-to-using-word-streaming-cor-1819575546', 'article_text': 'PATERSON, NJ—Family sources told reporters Tuesday that local mother Karen Burkhart came fairly close to using the term “streaming” correctly during a recent conversation. “She likes that Orange Is The New Black show and told us that she started ‘stream-watching’ a couple of episodes,” said daughter Melanie Burkhart, who was reportedly surprised by her mother’s nearly accurate usage of the technical jargon. “I thought, wow, she actually got really close to the actual meaning of the word. She almost nailed it. And this is the woman who asked if the internet was as good as the online. It’s certainly the most precise she’s been in a long time.” At press time, Burkhart’s children decided to give it to her, claiming that she got close enough.'}, {'is_sarcastic': 0, 'headline': 'my white inheritance', 'article_link': 'https://www.huffingtonpost.com/entry/my-white-inheritance_us_59230747e4b07617ae4cbe1a', 'article_text': 'To what extent do you own your inheritance? Life is cumulative. At the end of our lives, we take all that we’ve earned, learned, and collected and pass it along to those that carry on our legacy. Recently, while doing research on my family like so many do on the internet, I pieced together parts of my family history. Decades of census reports track the progress of my ancestors from their arrival to America from Europe and Canada in the early 1900’s through the steel mills of central New England, each generation moving up in education and class. My family history embodies America’s promise. My great-grandfather, Anthony Golaszewski, an immigrant from Poland arrived at Ellis Island in 1907. With the help of a relative, he landed a job in a steel mill in Worcester, MA where he lived for the rest of his life. Like many immigrants at the time, he lived on U.S. soil for decades before becoming a citizen.In 1938, Anthony’s daughter, Helen, married Wallace Polewaczyk, who also worked in Worcester’s steel mills, and moved into a triple-decker home in the Polish neighborhood. While they never owned property, they lived a modest life that fulfilled the dreams that carried Anthony across the Atlantic.Anthony’s granddaughter, Irene, in 1969 married my father, John Cormier, a second generation American of Italian and French Canadian heritage. My mother graduated from high school and my father earned two master’s degrees. Together they ascended to the next level of the American dream, purchasing their first home and, years later, a second home by the ocean shortly after their fourth child was born (that’s me).My research also uncovered a few painful parts of my family history.My older brother was arrested for cocaine possession in 1989. As an 11-year-old, I read about his arrest in our local paper, a traumatic moment that altered my understanding of addiction and its impact on our family.Between the lines of my family history lies an unspoken but potent truth in my inheritance. More than my thinning crown or prominently bridged nose, a defining characteristic has been handed down to me through my ancestry.My family history embodies white America’s promise.As I track the progress of my family, each data point has an implicit racial component that adds to the legacy I inherited. While we’re a family that has few material heirlooms and even fewer trust funds, I benefit from an inheritance that has provided me with a level of comfort, access and power directly tied to our whiteness.It’s not shocking or newsworthy to hear that race impacts one’s lived experience or privilege. That seems obvious, though it’s not always acknowledged or accepted by my fellow white brothers and sisters. While it’s true that my life will forever be linked to the economic stability and supportive environment in which I was raised, it’s not simply about wealth and asset accumulation. It’s broader than that. And all of it can be tied to the fact that my ancestors were – and I am – white.When Anthony came to America of his own accord in 1907, he depended upon the coterie of Polish relatives and familial acquaintances to start his life and find housing in the New World. This network of support is as American as Ellis Island and as critical to immigrants today as it was to Anthony. Even though Massachusetts was one of the first states to ban slavery and repeal Jim Crow laws, housing discrimination based on race was still legal until 1948, and continued through racist practices like redlining for decades after that. Anthony had access to reliable housing which aided his ability to get a steady job that sustained him and his family throughout his life.My grandparents could marry in 1938 because they were both white and born in a state without anti-miscegenation laws. Massachusetts’ infamous “1913 law” that effectively banned interracial marriage was not fully repealed until 2008. As a gay man, I am keenly aware of the importance of marriage, and the economic stability and social acceptance that it can provide. Helen and Wallace had access to rights and benefits that were denied to mixed race couples.When my parents married in 1969, they both had access to education that helped them advance their careers. At the same time, Boston area schools were failing generations of African-Americans (see also: the 1974 Boston busing riots). My siblings and I went to public elementary schools that continued to struggle to fully integrate in the 1970’s and 80’s.In 1988, the so-called “war on drugs” targeted communities with a racial bias that disproportionally incarcerated African-Americans. Federal penalties for crack cocaine were 100 times harsher than those for powder cocaine. Had my brother been caught with crack instead of powder cocaine, our family would likely have been drained financially by legal fees and emotionally by frequent trips to prison for years or decades.This is not to say that my family was free of struggle and challenges. When Anthony arrived in this country, Polish immigrants were overwhelmingly poor and worked in grueling conditions in industrial factories – which undoubtedly contributed to the high rates of alcoholism, violence, and domestic abuse in their community and within my family.So, what now? What do I – and others who recognize the lived and inherited components of being white – do now?For starters, we can admit this openly and push back when we hear comments about boot straps and self-made men (spoiler alert: they don’t exist). We can find our own ways of authentically owning our racial inheritance, including fighting racism and white supremacy.The question posed to us is more about the future than the past. It’s not enough to simply acknowledge the privilege that comes with being white. What we do with this perspective throughout our lives will be the legacy we leave behind. Awareness effects action.Because life is cumulative. And what we pass along will define our legacy.'}, {'is_sarcastic': 0, 'headline': '5 ways to file your taxes with less stress', 'article_link': 'https://www.huffingtonpost.com/entry/5-ways-to-file-your-taxes_b_6957316.html', 'article_text': \"Even with years of experience, the process of reviewing your records and filing your tax return can be stressful. With the April 15 tax deadline getting close, consider trying these five strategies that may help you lower your 2014 taxes, enhance your retirement readiness and help you get more organized for 2015.1. Leverage your retirement accountsIf you currently have an individual retirement account (IRA), you have up until April 15to make any contributions for the 2014 tax year. That means you may be able to lower your taxable income for 2014. The contribution limit to an IRA for 2014 is $5,500 (or $6,500 for those over 50) so try to reach that number before the deadline. Eligibility for an IRA tax deduction depends on your marital status and whether you or your spouse has a retirement plan available at work (such as a 401(k) account).If you don't have an IRA, begin planning for tax seasons to come by taking full advantage of tax-advantaged retirement accounts such as a 401(k), especially if your employer offers a match program. Doing this will help reduce stress as you file your taxes next April, as well as relieve future stress around retirement planning.If you're self-employed, there's also still time to open and fund an SEP IRA (Simplified Employee Pension Individual Retirement Account) for 2014. You can invest up to 25 percent of your self-employment income or $52,000, whichever is less (this will go up to $53,000 for 2015). Contributing money automatically out of your paycheck to a workplace retirement plan such as a 401(k) provides you with tax-deferred growth on savings while also lowering your taxable income for the year. The money you contribute to your 401(k) is made on a pre-tax basis and grows income tax-deferred, which means that you generally don't pay taxes on the contributions and earnings until you withdraw these funds, typically at retirement age.2. Get organizedWhether you will be hiring a professional or completing your return on your own, organize your records in a clear manner to ensure that you have all of the documents you need. Otherwise, you might fail to report all of the income, interest or dividends you earned to the Internal Revenue Service (IRS). This could result in federal income tax penalties and interest or, in the worst case, a tax audit.In order to avoid any issues, review a copy of last year's tax return and put together a list of every source of income you reported. Then, make sure you have all the documents -- 1099s, W-2s, interest statements -- that align with these sources for the year. If you made new investments last year or earned income from any new employers, double-check that you have those records too.To make sure you haven't missed any expenses you can write off or income you need to include, consider using an online tax checklist. Tax software programs could be another viable option as they ask a variety of questions that could help remind you about purchases that affect your tax bill.3. Take advantage of workplace benefitsIf you run your own or operate a side business, you may be able to write off many costs by claiming a variety of deductions for business expenses. Examples of these would include travel expenses or costs associated with running and maintaining your home office. If you work for a company and used a flexible spending account (FSA) to help pay for health care or child care expenses last year, the amount you contributed to the account is not subject to tax. This means that your taxable earnings may be significantly less than you think. It is however, important to remember that you will forfeit any funds you contribute but don't end up spending.4. Don't go it aloneIf you're confused about completing any portion of your tax return, don't wing it. Call in a trained tax professional for assistance. This is the time of year when many people look at their finances as a whole, so it is also a good time to consider talking to a financial advisor to discuss your current finances, retirement readiness and long-term financial security. Comprehensive financial planning often requires the help of a professional, especially as retirement approaches. 5. Start planning for next year, this year While you're dealing with your taxes, think about how relieved you would be if you were better prepared a year from now. The key to making your next tax return season less stressful is to stay one step ahead by getting organized and having a plan.A little bit of work in advance can save a lot of time and effort in the long run. Start by collecting receipts in envelopes or files labeled with specific tax categories, such as work expenses, medical expenses or investments. Keeping digital files is another good way to stay organized. The key is to have an organization system that works for you throughout the upcoming year and can help you stay better organized next tax season.Also, take a look at your periodic tax withdrawals to make sure they are appropriate. Did you get a lot of money back this year, or owe money? If so, you may want to adjust your deductions so that next year you are more on target.These tips can make filing your return a less stressful process and build your long-term retirement security at the same time. If you thoroughly prepare, take advantage of tax-advantaged savings vehicles, and stay organized, you put yourself in a position to save time and money in the long run.This is not intended to be legal and/or tax advice.James Nichols is head of Retirement Income and Advice Strategy for Retirement Solutions at Voya Financial, one of the largest retirement platforms, product and service providers in the United States. In his role, Nichols is responsible for overseeing Voya's advice and guidance platform to meet the evolving needs of approximately 48,000 institutional clients and over five million individual customers. Nichols is also responsible for developing and executing Voya's retirement income strategy, which seeks to provide retirement income and advice solutions for all Americans.James Nichols is a registered representative of Voya Financial Advisors, Inc. and Voya Retirement Advisors, LLC (members SIPC)\"}, {'is_sarcastic': 1, 'headline': \"richard branson's global-warming donation nearly as much as cost of failed balloon trips\", 'article_link': 'https://www.theonion.com/richard-bransons-global-warming-donation-nearly-as-much-1819568749', 'article_text': 'LONDON—Analysts are predicting that the $3 billion Sir\\xa0 Richard Branson has pledged for developing energy sources to combat global warming could come close to matching the amount the entrepreneur, adventurer, and Virgin CEO has already spent on elaborate balloon-based excursions.'}, {'is_sarcastic': 1, 'headline': 'shadow government getting too large to meet in marriott conference room b', 'article_link': 'https://politics.theonion.com/shadow-government-getting-too-large-to-meet-in-marriott-1819570731', 'article_text': 'COLUMBUS, OH—With its membership swelling in recent months, the mysterious organization that secretly pulls the levers of American power was forced to suspend its weekly meeting Monday, having grown too big to fit inside Marriott Conference Room B. \"To successfully carry out our clandestine operations and continue maintaining the ignorance of the masses, we will now require the full amenities of Conference Room A,\" said an unidentified man, who is believed to have covertly orchestrated the economic collapse of Iceland last year. \"We must postpone the Cataclysmic Event until such time as a more comfortable meeting space is available.\" According to confidential records, the hidden regime\\'s enrollment has more than doubled since it gained free access to the Marriott\\'s swimming pool and gym facilities.'}, {'is_sarcastic': 0, 'headline': 'lots of parents know this scenario', 'article_link': 'https://www.huffingtonpost.comhttp://pubx.co/6IXxhm', 'article_text': ''}]\n",
      "2\n"
     ]
    }
   ],
   "source": [
    "print(full_data[:10])\n",
    "print(len(broken_urls))"
   ]
  },
  {
   "cell_type": "code",
   "execution_count": null,
   "id": "81a06bb4",
   "metadata": {},
   "outputs": [],
   "source": []
  }
 ],
 "metadata": {
  "kernelspec": {
   "display_name": "Python 3",
   "language": "python",
   "name": "python3"
  },
  "language_info": {
   "codemirror_mode": {
    "name": "ipython",
    "version": 3
   },
   "file_extension": ".py",
   "mimetype": "text/x-python",
   "name": "python",
   "nbconvert_exporter": "python",
   "pygments_lexer": "ipython3",
   "version": "3.8.8"
  }
 },
 "nbformat": 4,
 "nbformat_minor": 5
}
