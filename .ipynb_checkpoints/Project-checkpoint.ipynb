{
 "cells": [
  {
   "cell_type": "code",
   "execution_count": 10,
   "id": "744343a9",
   "metadata": {},
   "outputs": [
    {
     "name": "stdout",
     "output_type": "stream",
     "text": [
      "Requirement already satisfied: requests in c:\\users\\jaspe\\anaconda3\\lib\\site-packages (2.25.1)\n",
      "Requirement already satisfied: chardet<5,>=3.0.2 in c:\\users\\jaspe\\anaconda3\\lib\\site-packages (from requests) (4.0.0)\n",
      "Requirement already satisfied: idna<3,>=2.5 in c:\\users\\jaspe\\anaconda3\\lib\\site-packages (from requests) (2.10)\n",
      "Requirement already satisfied: certifi>=2017.4.17 in c:\\users\\jaspe\\anaconda3\\lib\\site-packages (from requests) (2021.10.8)\n",
      "Requirement already satisfied: urllib3<1.27,>=1.21.1 in c:\\users\\jaspe\\anaconda3\\lib\\site-packages (from requests) (1.26.4)\n"
     ]
    }
   ],
   "source": [
    "# !pip install requests\n",
    "# !pip install beautifulsoup4"
   ]
  },
  {
   "cell_type": "code",
   "execution_count": 194,
   "id": "1e0e8804",
   "metadata": {},
   "outputs": [
    {
     "name": "stdout",
     "output_type": "stream",
     "text": [
      "PATERSON, NJ—Family sources told reporters Tuesday that local mother Karen Burkhart came fairly close to using the term “streaming” correctly during a recent conversation. “She likes that Orange Is The New Black show and told us that she started ‘stream-watching’ a couple of episodes,” said daughter Melanie Burkhart, who was reportedly surprised by her mother’s nearly accurate usage of the technical jargon. “I thought, wow, she actually got really close to the actual meaning of the word. She almost nailed it. And this is the woman who asked if the internet was as good as the online. It’s certainly the most precise she’s been in a long time.” At press time, Burkhart’s children decided to give it to her, claiming that she got close enough.\n"
     ]
    }
   ],
   "source": [
    "import requests\n",
    "from bs4 import BeautifulSoup\n",
    "\n",
    "URL = \"https://www.theonion.com/mother-comes-pretty-close-to-using-word-streaming-cor-1819575546\"\n",
    "page = requests.get(URL)\n",
    "\n",
    "soup = BeautifulSoup(page.content, 'html.parser')\n",
    "body = soup.find('p', class_='sc-77igqf-0 bOfvBY')\n",
    "# content = body.find_all('div', class_='sc-77igqf-0 bOfvBY')\n",
    "\n",
    "print(body.text)\n",
    "# print(content.text)\n",
    "# for i in content:\n",
    "#     print(i.text)\n",
    "    \n",
    "# output: json format --> \"body\" : \"Employers posted a million fewer job openings...\"\n",
    "# dictionary gebruiken!\n",
    "# per dictionary (=artikel) de body tekst toevoegen\n",
    "# dode linkjes toevoegen aan nieuwe lijst met headlines\n"
   ]
  },
  {
   "cell_type": "code",
   "execution_count": 198,
   "id": "71a6ca96",
   "metadata": {},
   "outputs": [],
   "source": [
    "import json\n",
    "from tqdm import tqdm  \n",
    "\n",
    "# Opening JSON file\n",
    "f = open('archive\\Sarcasm_Headlines_Dataset_v2.json')\n",
    "\n",
    "# load data and remove broken urls:\n",
    "full_data = []\n",
    "\n",
    "with open(\"archive\\Sarcasm_Headlines_Dataset_v2.json\") as file:\n",
    "    for line in file:\n",
    "        data = json.loads(line)\n",
    "        full_data.append(data)\n",
    "    "
   ]
  },
  {
   "cell_type": "code",
   "execution_count": 197,
   "id": "b90bdb6a",
   "metadata": {
    "scrolled": true
   },
   "outputs": [
    {
     "name": "stderr",
     "output_type": "stream",
     "text": [
      "  2%|█▋                                                                                | 2/100 [00:00<00:11,  8.25it/s]"
     ]
    },
    {
     "name": "stdout",
     "output_type": "stream",
     "text": [
      "https://www.theonion.com/thirtysomething-scientists-unveil-doomsday-clock-of-hai-1819586205  not working..\n",
      "\"We are neither post-racial nor post-gender,\" Rep. Donna Edwards (D-Md.) proclaims in a new essay taking on Congress for not addressing inequality. \n",
      "One of the major barriers is that America's elected officials don't represent the most disenfranchised populations, Edwards argues in the Cosmopolitan magazine piece, published on Tuesday.\n",
      "\"Can we pass equal pay laws and give women control of their own health-care decisions when women represent just 20 percent of Congress?\" she says. Even when women get elected to office, men still hold the large majority of leadership positions, The New York Times pointed out last year.\n",
      "Edwards, who lost a Senate primary race to Rep. Chris Van Hollen (D-Md.), specifically criticized Democrats for not being inclusive of the voters who have traditionally been loyal to them.\n",
      "\"The Democratic Party will not survive the 21st century with the votes of people of color without the real leadership of people of color, especially black women, at every level.\"\n",
      "The essay is reminiscent of Edwards' senate campaign. One male elected official criticized her for invoking \"identity politics.\" \n",
      "\"Race does matter,\" she said during one debate.\"It's time that we had the ability to speak for ourselves.\"\n",
      "Edwards' recent legislative efforts have included a bill addressing police brutality, the protection of Historically Black Colleges, and the push to encourage women and minorities to pursue careers in science and math. \n",
      "Read her full essay here.\n",
      "https://www.huffingtonpost.com/entry/donna-edwards-inequality_us_57455f7fe4b055bb1170b207  working!\n"
     ]
    },
    {
     "name": "stderr",
     "output_type": "stream",
     "text": [
      "  4%|███▎                                                                              | 4/100 [00:00<00:14,  6.53it/s]"
     ]
    },
    {
     "name": "stdout",
     "output_type": "stream",
     "text": [
      "Vegetables don't have to be boring or relegated to a side dish. From roasted broccoli with chipotle honey butter to balsamic glazed roasted beets, these recipes are so flavorful and satisfying, they could carry an entire meal. \n",
      "1. Roasted Broccoli with Chipotle Honey Butter\n",
      "\n",
      "In this recipe, broccoli florets are tossed in a sweet, spicy and smoky chipotle-honey butter before roasting. It's as delicious as it sounds, and the broccoli has enough flavor to carry an entire meal. Serve it as a main course with rice or as a side dish to simply grilled fish or meat. GET THE RECIPE\n",
      "2. Golden Roasted Cauliflower with Pecorino Romano Cheese\n",
      "\n",
      "Want to get your family to love cauliflower? Try roasting it and tossing it with cheese. It worked for me. GET THE RECIPE\n",
      "3. Asian Kale Slaw with Creamy Ginger Peanut Dressing\n",
      "\n",
      "Believe or not, this salad will have you eating your vegetables (and, most surprisingly, your kale) with pleasure and abandon. It's meant to be a side dish, but if you're anything like me, you'll probably find yourself eating the whole lot of it for dinner. GET THE RECIPE\n",
      "4. Balsamic-Glazed Roasted Beets\n",
      "\n",
      "If you're a beet lover like I am, you're going to love (and maybe even obsess over) these simply prepared beets. They're oven-roasted, which intensifies their natural sweetness, and then tossed in a tart and syrupy balsamic reduction. GET THE RECIPE\n",
      "5. Stir-Fried Szechuan Green Beans with Shiitake Mushrooms\n",
      "\n",
      "Give vegetables the spotlight with this easy and authentic Szechuan dish. It makes a delicious side dish or vegetarian main course with rice or noodles. GET THE RECIPE\n",
      "6. Roasted Brussels Sprouts with Bacon, Pecans & Maple Syrup\n",
      "\n",
      "What's not to love about golden roasted brussels sprouts with smoky bacon, toasted pecans and maple syrup? It's hard to resist eating the entire pan right out of the oven! GET THE RECIPE\n",
      "7. Carrot Slaw with Cranberries, Toasted Walnuts & Citrus Vinaigrette\n",
      "\n",
      "Dried cranberries and toasted walnuts make this carrot slaw colorful and crunchy. I like to serve it with a crusty baguette for a light lunch or as a healthy side to sandwiches or burgers. GET THE RECIPE\n",
      "8. Cauliflower Purée with Thyme\n",
      "\n",
      "This cauliflower purée is creamy and comforting, and it just happens to taste remarkably like mashed potatoes. It also has the benefit of being easier to make, healthier and lower in carbs. But don't make it just for that reason -- it's delicious in its own right. GET THE RECIPE\n",
      "9. Carrot & Sweet Potato Soup\n",
      "\n",
      "This warming soup, made with carrots, sweet potatoes, apples and honey, has a secret ingredient: curry powder. It doesn't give the soup an Indian flavor like you might think, but instead lends a subtle hint of autumn spice.  GET THE RECIPE\n",
      "https://www.huffingtonpost.com/entry/eat-your-veggies-9-delici_b_8899742.html  working!\n",
      "PROVIDENCE, RI—In spite of his best efforts to brave the ongoing winter storm and freezing temperatures, the inclement weather currently affecting the Northeast has left Providence-area liar Tim Carlson unable to commute to his office, the habitual deceiver reported to his colleagues today. “They haven’t been able to plow my street yet and the snow drifts have to be two feet high in some places, so I don’t really think there’s any way for me to make it in,” said an email sent from the man who spent 45 minutes attempting to dislodge his car from a snowbank and who routinely fabricates stories. “On top of that, the buses don’t seem to be running in my area, or else I definitely would have been in by now. This is really a mess. I’m so sorry, everyone. Wish I could be there.” Carlson also confirmed that the weather had left his apartment’s electricity somewhat spotty, preventing the unrepentant phony from doing any work from home.\n",
      "https://local.theonion.com/inclement-weather-prevents-liar-from-getting-to-work-1819576031  working!\n"
     ]
    },
    {
     "name": "stderr",
     "output_type": "stream",
     "text": [
      "  6%|████▉                                                                             | 6/100 [00:00<00:13,  7.02it/s]"
     ]
    },
    {
     "name": "stdout",
     "output_type": "stream",
     "text": [
      "PATERSON, NJ—Family sources told reporters Tuesday that local mother Karen Burkhart came fairly close to using the term “streaming” correctly during a recent conversation. “She likes that Orange Is The New Black show and told us that she started ‘stream-watching’ a couple of episodes,” said daughter Melanie Burkhart, who was reportedly surprised by her mother’s nearly accurate usage of the technical jargon. “I thought, wow, she actually got really close to the actual meaning of the word. She almost nailed it. And this is the woman who asked if the internet was as good as the online. It’s certainly the most precise she’s been in a long time.” At press time, Burkhart’s children decided to give it to her, claiming that she got close enough.\n",
      "https://www.theonion.com/mother-comes-pretty-close-to-using-word-streaming-cor-1819575546  working!\n",
      "To what extent do you own your inheritance? \n",
      "Life is cumulative. At the end of our lives, we take all that we’ve earned, learned, and collected and pass it along to those that carry on our legacy. Recently, while doing research on my family like so many do on the internet, I pieced together parts of my family history. Decades of census reports track the progress of my ancestors from their arrival to America from Europe and Canada in the early 1900’s through the steel mills of central New England, each generation moving up in education and class. \n",
      "My family history embodies America’s promise. \n",
      "My great-grandfather, Anthony Golaszewski, an immigrant from Poland arrived at Ellis Island in 1907. With the help of a relative, he landed a job in a steel mill in Worcester, MA where he lived for the rest of his life. Like many immigrants at the time, he lived on U.S. soil for decades before becoming a citizen.\n",
      "In 1938, Anthony’s daughter, Helen, married Wallace Polewaczyk, who also worked in Worcester’s steel mills, and moved into a triple-decker home in the Polish neighborhood. While they never owned property, they lived a modest life that fulfilled the dreams that carried Anthony across the Atlantic.\n",
      "Anthony’s granddaughter, Irene, in 1969 married my father, John Cormier, a second generation American of Italian and French Canadian heritage. My mother graduated from high school and my father earned two master’s degrees. Together they ascended to the next level of the American dream, purchasing their first home and, years later, a second home by the ocean shortly after their fourth child was born (that’s me).\n",
      "My research also uncovered a few painful parts of my family history.\n",
      "My older brother was arrested for cocaine possession in 1989. As an 11-year-old, I read about his arrest in our local paper, a traumatic moment that altered my understanding of addiction and its impact on our family.\n",
      "Between the lines of my family history lies an unspoken but potent truth in my inheritance. More than my thinning crown or prominently bridged nose, a defining characteristic has been handed down to me through my ancestry.\n",
      "My family history embodies white America’s promise.\n",
      "As I track the progress of my family, each data point has an implicit racial component that adds to the legacy I inherited. While we’re a family that has few material heirlooms and even fewer trust funds, I benefit from an inheritance that has provided me with a level of comfort, access and power directly tied to our whiteness.\n",
      "It’s not shocking or newsworthy to hear that race impacts one’s lived experience or privilege. That seems obvious, though it’s not always acknowledged or accepted by my fellow white brothers and sisters. While it’s true that my life will forever be linked to the economic stability and supportive environment in which I was raised, it’s not simply about wealth and asset accumulation. It’s broader than that. And all of it can be tied to the fact that my ancestors were – and I am – white.\n",
      "When Anthony came to America of his own accord in 1907, he depended upon the coterie of Polish relatives and familial acquaintances to start his life and find housing in the New World. This network of support is as American as Ellis Island and as critical to immigrants today as it was to Anthony. Even though Massachusetts was one of the first states to ban slavery and repeal Jim Crow laws, housing discrimination based on race was still legal until 1948, and continued through racist practices like redlining for decades after that. Anthony had access to reliable housing which aided his ability to get a steady job that sustained him and his family throughout his life.\n",
      "My grandparents could marry in 1938 because they were both white and born in a state without anti-miscegenation laws. Massachusetts’ infamous “1913 law” that effectively banned interracial marriage was not fully repealed until 2008. As a gay man, I am keenly aware of the importance of marriage, and the economic stability and social acceptance that it can provide. Helen and Wallace had access to rights and benefits that were denied to mixed race couples.\n",
      "When my parents married in 1969, they both had access to education that helped them advance their careers. At the same time, Boston area schools were failing generations of African-Americans (see also: the 1974 Boston busing riots). My siblings and I went to public elementary schools that continued to struggle to fully integrate in the 1970’s and 80’s.\n",
      "In 1988, the so-called “war on drugs” targeted communities with a racial bias that disproportionally incarcerated African-Americans. Federal penalties for crack cocaine were 100 times harsher than those for powder cocaine. Had my brother been caught with crack instead of powder cocaine, our family would likely have been drained financially by legal fees and emotionally by frequent trips to prison for years or decades.\n",
      "This is not to say that my family was free of struggle and challenges. When Anthony arrived in this country, Polish immigrants were overwhelmingly poor and worked in grueling conditions in industrial factories – which undoubtedly contributed to the high rates of alcoholism, violence, and domestic abuse in their community and within my family.\n",
      "So, what now? What do I – and others who recognize the lived and inherited components of being white – do now?\n",
      "For starters, we can admit this openly and push back when we hear comments about boot straps and self-made men (spoiler alert: they don’t exist). We can find our own ways of authentically owning our racial inheritance, including fighting racism and white supremacy.\n",
      "The question posed to us is more about the future than the past. It’s not enough to simply acknowledge the privilege that comes with being white. What we do with this perspective throughout our lives will be the legacy we leave behind. Awareness effects action.\n",
      "Because life is cumulative. And what we pass along will define our legacy.\n",
      "https://www.huffingtonpost.com/entry/my-white-inheritance_us_59230747e4b07617ae4cbe1a  working!\n"
     ]
    },
    {
     "name": "stderr",
     "output_type": "stream",
     "text": [
      "\r",
      "  7%|█████▋                                                                            | 7/100 [00:00<00:13,  7.00it/s]"
     ]
    },
    {
     "name": "stdout",
     "output_type": "stream",
     "text": [
      "Even with years of experience, the process of reviewing your records and filing your tax return can be stressful. With the April 15 tax deadline getting close, consider trying these five strategies that may help you lower your 2014 taxes, enhance your retirement readiness and help you get more organized for 2015.\n",
      "1. Leverage your retirement accounts\n",
      "If you currently have an individual retirement account (IRA), you have up until April 15to make any contributions for the 2014 tax year. That means you may be able to lower your taxable income for 2014. The contribution limit to an IRA for 2014 is $5,500 (or $6,500 for those over 50) so try to reach that number before the deadline. Eligibility for an IRA tax deduction depends on your marital status and whether you or your spouse has a retirement plan available at work (such as a 401(k) account).\n",
      "If you don't have an IRA, begin planning for tax seasons to come by taking full advantage of tax-advantaged retirement accounts such as a 401(k), especially if your employer offers a match program. Doing this will help reduce stress as you file your taxes next April, as well as relieve future stress around retirement planning.\n",
      "If you're self-employed, there's also still time to open and fund an SEP IRA (Simplified Employee Pension Individual Retirement Account) for 2014. You can invest up to 25 percent of your self-employment income or $52,000, whichever is less (this will go up to $53,000 for 2015). \n",
      "Contributing money automatically out of your paycheck to a workplace retirement plan such as a 401(k) provides you with tax-deferred growth on savings while also lowering your taxable income for the year. The money you contribute to your 401(k) is made on a pre-tax basis and grows income tax-deferred, which means that you generally don't pay taxes on the contributions and earnings until you withdraw these funds, typically at retirement age.\n",
      "2. Get organized\n",
      "Whether you will be hiring a professional or completing your return on your own, organize your records in a clear manner to ensure that you have all of the documents you need. Otherwise, you might fail to report all of the income, interest or dividends you earned to the Internal Revenue Service (IRS). This could result in federal income tax penalties and interest or, in the worst case, a tax audit.\n",
      "In order to avoid any issues, review a copy of last year's tax return and put together a list of every source of income you reported. Then, make sure you have all the documents -- 1099s, W-2s, interest statements -- that align with these sources for the year. If you made new investments last year or earned income from any new employers, double-check that you have those records too.\n",
      "To make sure you haven't missed any expenses you can write off or income you need to include, consider using an online tax checklist. Tax software programs could be another viable option as they ask a variety of questions that could help remind you about purchases that affect your tax bill.\n",
      "3. Take advantage of workplace benefits\n",
      "If you run your own or operate a side business, you may be able to write off many costs by claiming a variety of deductions for business expenses. Examples of these would include travel expenses or costs associated with running and maintaining your home office. \n",
      "If you work for a company and used a flexible spending account (FSA) to help pay for health care or child care expenses last year, the amount you contributed to the account is not subject to tax. This means that your taxable earnings may be significantly less than you think. It is however, important to remember that you will forfeit any funds you contribute but don't end up spending.\n",
      "4. Don't go it alone\n",
      "If you're confused about completing any portion of your tax return, don't wing it. Call in a trained tax professional for assistance. This is the time of year when many people look at their finances as a whole, so it is also a good time to consider talking to a financial advisor to discuss your current finances, retirement readiness and long-term financial security. Comprehensive financial planning often requires the help of a professional, especially as retirement approaches. \n",
      "5. Start planning for next year, this year \n",
      "While you're dealing with your taxes, think about how relieved you would be if you were better prepared a year from now. The key to making your next tax return season less stressful is to stay one step ahead by getting organized and having a plan.\n",
      "A little bit of work in advance can save a lot of time and effort in the long run. Start by collecting receipts in envelopes or files labeled with specific tax categories, such as work expenses, medical expenses or investments. Keeping digital files is another good way to stay organized. The key is to have an organization system that works for you throughout the upcoming year and can help you stay better organized next tax season.\n",
      "Also, take a look at your periodic tax withdrawals to make sure they are appropriate. Did you get a lot of money back this year, or owe money? If so, you may want to adjust your deductions so that next year you are more on target.\n",
      "These tips can make filing your return a less stressful process and build your long-term retirement security at the same time. If you thoroughly prepare, take advantage of tax-advantaged savings vehicles, and stay organized, you put yourself in a position to save time and money in the long run.\n",
      "This is not intended to be legal and/or tax advice.\n",
      "James Nichols is head of Retirement Income and Advice Strategy for Retirement Solutions at Voya Financial, one of the largest retirement platforms, product and service providers in the United States. In his role, Nichols is responsible for overseeing Voya's advice and guidance platform to meet the evolving needs of approximately 48,000 institutional clients and over five million individual customers. Nichols is also responsible for developing and executing Voya's retirement income strategy, which seeks to provide retirement income and advice solutions for all Americans.\n",
      "James Nichols is a registered representative of Voya Financial Advisors, Inc. and Voya Retirement Advisors, LLC (members SIPC)\n",
      "https://www.huffingtonpost.com/entry/5-ways-to-file-your-taxes_b_6957316.html  working!\n",
      "LONDON—Analysts are predicting that the $3 billion Sir  Richard Branson has pledged for developing energy sources to combat global warming could come close to matching the amount the entrepreneur, adventurer, and Virgin CEO has already spent on elaborate balloon-based excursions.\n",
      "https://www.theonion.com/richard-bransons-global-warming-donation-nearly-as-much-1819568749  working!\n"
     ]
    },
    {
     "name": "stderr",
     "output_type": "stream",
     "text": [
      "\r",
      "  9%|███████▍                                                                          | 9/100 [00:01<00:11,  7.89it/s]"
     ]
    },
    {
     "name": "stdout",
     "output_type": "stream",
     "text": [
      "COLUMBUS, OH—With its membership swelling in recent months, the mysterious organization that secretly pulls the levers of American power was forced to suspend its weekly meeting Monday, having grown too big to fit inside Marriott Conference Room B. \"To successfully carry out our clandestine operations and continue maintaining the ignorance of the masses, we will now require the full amenities of Conference Room A,\" said an unidentified man, who is believed to have covertly orchestrated the economic collapse of Iceland last year. \"We must postpone the Cataclysmic Event until such time as a more comfortable meeting space is available.\" According to confidential records, the hidden regime's enrollment has more than doubled since it gained free access to the Marriott's swimming pool and gym facilities.\n",
      "https://politics.theonion.com/shadow-government-getting-too-large-to-meet-in-marriott-1819570731  working!\n",
      "https://www.huffingtonpost.comhttp://pubx.co/6IXxhm  not working..\n"
     ]
    },
    {
     "name": "stderr",
     "output_type": "stream",
     "text": [
      "\r",
      " 11%|████████▉                                                                        | 11/100 [00:02<00:29,  2.99it/s]"
     ]
    },
    {
     "name": "stdout",
     "output_type": "stream",
     "text": [
      "It is often said that foster children are amazingly resilient. In this Huffington Post Gay Voices RaiseAChild.US “Let Love Define Family™” series installment, contributing writer David Humiston shares the story of how one couple are continually inspired by the resilience of their five adopted children.\n",
      "Erika Hile is a father in Indiana. Yep, that’s right, I said “father.” This may come as a surprise considering that Erika is one half of a same-sex lesbian couple who have adopted five children. But at the time, the state of Indiana adoption forms had yet to catch up with the realities of modern families even though placements in same-sex parent households had long been highly and specifically sought, especially for children whohave been abused.\n",
      "Erika and wife Taylor never spoke of whether they would raise children together. It was always a matter of when, who, and how many, which, Erika confides, was always “as many as possible.” They were also in agreement that older children would be best for them, because they were eager to engage the family in a variety of activities. Both parents are passionate caregivers who say that, as much as they affectionately give to their brood, their return reward is vastly greater. The strength and resilience that their children express have been a source of unending pride and encouragement to them. Erika confesses that they have made, and continue to make, her a better person on a daily basis.\n",
      "Erika is already a great person. At her county library, she is in charge of teen programming, and she has a natural inclination for communal involvement and active learning activities. She and Taylor take their kids to museums, musical events, art programs, and even black tie affairs. A true southern woman, Erika insists in instilling the values of etiquette and its associated charms while still encouraging creative thought, education, and exploration. How does she do at that daunting task? Well, consider the story she shared of her eldest child, a boy who had been in 14 schools already by the time he came to Erika and Taylor. In 7th grade at the time, he was only reading at a kindergarten level and there were worries that he would ever have a “normal” educational experience. As a result of collective efforts, this young man is now in 10th grade, reading at grade level, in mainstream classes, and playing football for his high school. As Erika related to me, “Just a few days ago, we were joking around about a state-wide meeting in which I was asked to speak. Jokingly, I said that I would be ‘famous’ one day, and that he should pay attention. He instantly got serious and said, ‘Mom, you and Mom have always been famous. You have been looked up to, emulated (yes, he said emulated!), and cherished...from me since the day you taught me to read.’ For that moment, we have been forever grateful.”\n",
      "Two of Erika and Taylor’s children are sibling girls who came from abusive male environments. Erika explains that abused girls and abused boys often blossom better in family environments where both parents are unthreatening to them. According to Erika, social workers report many of the longest and best placements for children with such family arrangements. In fact, a caseworker once told Erika that “Children are naturally resilient, but it’s a shame that they have to be.” Seeing this resilience in their own children is what motivates Erika and Taylor to be the best parents they can be, regardless of how their family roles were once recognized by the state.\n",
      "RaiseAChild.US is the nationwide leader in the recruitment and support of LGBT and all prospective parents interested in building families through fostering and adoption to meet the needs of the 400,000 children in the foster care system. RaiseAChild.US recruits, educates, and nurtures supportive relationships equally with all prospective foster and adoptive parents while partnering with agencies to improve the process of advancing foster children to safe, loving and permanent homes. For information about how you can become a foster or adoptive parent, please visit www.RaiseAChild.US.\n",
      "https://www.huffingtonpost.com/entry/this-lesbian-is-considered-a-father-in-indiana-and-an-amazing-one-at-that_us_55b0ecb7e4b07af29d579269  working!\n"
     ]
    },
    {
     "name": "stderr",
     "output_type": "stream",
     "text": [
      "\r",
      " 12%|█████████▋                                                                       | 12/100 [00:03<00:36,  2.42it/s]"
     ]
    },
    {
     "name": "stdout",
     "output_type": "stream",
     "text": [
      "When Amanda Peet’s daughter first asked her about “s-e-x,” she came up with a creative answer.\n",
      "Appearing on “Conan” on Monday, the actress spoke about having “the talk” with her kids, and things got pretty funny. \n",
      "Peet and her husband, “Game of Thrones” showrunner David Benioff, have three children ― 10-year-old Frances aka “Frankie,” 7-year-old Molly and 2-year-old Henry. When Frankie was about 6 years old, she asked her mom for the first time, “What is sex?” \n",
      "“I didn’t know what to do, so I just said, ‘It’s a special hug,’” Peet recalled. Conan and his guest got a kick out of imagining the “special hug.” But the mom said the answer has come back to haunt her, as her daughter starts to ask more specific questions.\n",
      "Good luck, Amanda!\n",
      "https://www.huffingtonpost.com/entry/amanda-peet-told-her-daughter-sex-is-a-special-hug_us_59131898e4b0a58297e12f68  working!\n"
     ]
    },
    {
     "name": "stderr",
     "output_type": "stream",
     "text": [
      "\r",
      " 13%|██████████▌                                                                      | 13/100 [00:04<00:54,  1.58it/s]"
     ]
    },
    {
     "name": "stdout",
     "output_type": "stream",
     "text": [
      "Christopher F. Basler, PhD. Professor of MicrobiologyIcahn School of Medicine at Mount Sinai\n",
      "After more than a decade of vigorous research into the deadly Ebola virus, a handful of potential treatment therapies appear to finally be on the horizon.\n",
      "But as is always the case with clinical trials, there are no guarantees of success.\n",
      "This month I and my colleagues at the Icahn School of Medicine at Mount Sinai, along with researchers from Washington University School of Medicine in St. Louis, published results in the journal Cell Host & Microbe of a major discovery into how the Ebola virus cripples the human immune defense system.\n",
      "Our team was the first ever to identify the mechanism by which Ebola works. We discovered that the potent virus creates two key proteins that disable human messenger proteins whose function is to alert nearby cells to threat. We're working with the pharmaceutical company Microbiotix, located in Worcester, Mass., to develop a drug that disables the viral proteins and potentially halts the virus from growing in human hosts.\n",
      "Demand for Ebola treatments have shot up in recent months after more than 1,400 people in West Africa died in the worst Ebola outbreak ever recorded. So far only one drug has been administered to stricken patients, ZMapp, made by San Diego company Mapp Biopharmaceutical Inc. But the drug, a tri-antibody cocktail designed to bind to the surfaceprotein of the Ebola virus, remains experimental and, despite the fact that its two first recipients survived, its effectiveness in humans remains uncertain.\n",
      "A cure for Ebola has still not been found partly because large pharmaceutical companies have been reluctant to invest in a drug with a small market size. But fortunately, the National Institutes of Health (NIH) and the U.S. Department of Defense invested a lot of money in basic research and drug and vaccine development for these viruses over the past 10 to 15 years, and clearly that's paid off. Now there are a number of candidate vaccines and therapies that work in animals. I think that's very significant progress.\n",
      "Tekmira Pharmaceuticals, a Canadian company, recently reported that its drug saved the lives of monkeys infected with lethal doses of a closely related virus, Marburg. The primates lived even when they received the drug three days after infection. Tekmira started the first clinical trials of an experimental Ebola drug last month, but the trial was halted because some people participating in the study suffered from inflammation. The U.S. Food and Drug Administration (F.D.A.) gave the green light this month for the drug to be tested on people who already have the Ebola virus.\n",
      "Aside from fully understanding the basic science of how Ebola travels in humans, we researchers face other challenges in finding a cure such as making a drug that works days after a person has been infected with the virus, and designing a drug that can be taken in pill form rather than intravenously.\n",
      "But these are small concerns compared with a decade ago when Ebola drug development was almost nonexistent.\n",
      "We've turned a corner. We now know there are ways to treat Ebola. We just have to come up with therapies that work in people.\n",
      "About Christopher Basler, PhD: Dr. Basler has devoted his career to the study of Ebola and Marburg viruses since 2000. He heads several government-funded projects charged with studying the Ebola and Marburg viruses and developing drugs to fight them. One, financed by the DOD, focuses on bats, which are resistant to the two viruses. Dr. Basler is also a researcher of the Mount Sinai Global Health and Emerging Pathogens Institute.\n",
      "https://www.huffingtonpost.com/entry/what-to-know-regarding-cu_b_5767826.html  working!\n"
     ]
    },
    {
     "name": "stderr",
     "output_type": "stream",
     "text": [
      "\r",
      " 14%|███████████▎                                                                     | 14/100 [00:05<01:05,  1.30it/s]"
     ]
    },
    {
     "name": "stdout",
     "output_type": "stream",
     "text": [
      "CLEVELAND ― New Jersey Gov. Chris Christie (R) suggested during a speech at the 2016 Republican National Convention on Tuesday that presumptive Democratic presidential nominee Hillary Clinton was to blame for the kidnapping of hundreds of Nigerian schoolgirls by the Islamic extremist group Boko Haram.\n",
      "Christie said “every region of the world has been infected with her flawed judgment,” citing Clinton’s resistance to adding Boko Haram to the terrorist watch list.\n",
      "“What happened because of this reckless action by the candidate who is the self-proclaimed champion of women around the world? These terrorists abducted hundreds of innocent young girls two years ago,” Christie said. “These schoolgirls are still missing today.\n",
      "“What was the solution from the Obama/Clinton team? A hashtag campaign!” Christie continued, referencing the #BringBackOurGirls campaign that went viral in 2014.\n",
      "Christie also condemned Clinton’s actions in Libya during her time as secretary of state, saying they allowed the Islamic State, a terror group also referred to as ISIS or ISIL, to dominate the country.\n",
      "https://www.huffingtonpost.com/entry/chris-christie-hillary-clinton-boko-haram_us_578ea51be4b04ca54ebf5d97  working!\n"
     ]
    },
    {
     "name": "stderr",
     "output_type": "stream",
     "text": [
      "\r",
      " 15%|████████████▏                                                                    | 15/100 [00:06<00:58,  1.46it/s]"
     ]
    },
    {
     "name": "stdout",
     "output_type": "stream",
     "text": [
      "DEARBORN, MI—The Ford Motor Company announced Wednesday that it has developed a new SUV that will be powered exclusively by gasoline, a 100 percent reliable, oil-based energy source. “We’re very proud to introduce the Ford Petrola, a vehicle that runs on a specialized fuel derived almost entirely from naturally occurring organic compounds,” said Raj Nair, the company’s vice president of global product development. “Whether you’re commuting to work or heading out for a little adventure on the weekend, just fill the Petrola with gasoline and you’ll be ready to go. Best of all, this pure hydrocarbon fuel source is currently available at more than 100,000 filling stations across America.” Nair also noted that prototypes of the new vehicle have been able to travel more than 300 miles on a single “power charge” of gasoline.\n",
      "https://www.theonion.com/ford-develops-new-suv-that-runs-purely-on-gasoline-1819575454  working!\n"
     ]
    },
    {
     "name": "stderr",
     "output_type": "stream",
     "text": [
      "\r",
      " 16%|████████████▉                                                                    | 16/100 [00:07<01:07,  1.24it/s]"
     ]
    },
    {
     "name": "stdout",
     "output_type": "stream",
     "text": [
      "Uber CEO Travis Kalanick is resigning from President Donald Trump’s economic advisory council, according to the company.\n",
      "Kalanick announced the decision in a memo to Uber employees Thursday afternoon, explaining he wanted to distance both himself and the ride-hailing company from the anti-Muslim executive order Trump signed last Friday.\n",
      "“Joining the group was not meant to be an endorsement of the President or his agenda” Kalanick wrote, in a copy of the memo obtained by The Huffington Post, “but unfortunately it has been misinterpreted to be exactly that.”\n",
      "Kalanick faced increased pressure from users and employees alike this week over what some saw as a meek response to Trump’s immigration ban. In the letter, he addresses some Uber employees directly, apparently immigrants themselves.\n",
      "“Immigration and openness to refugees is an important part of our country’s success and quite honestly to Uber’s,” he said. “I am incredibly proud to work directly with people like Thuan and Emil, both of whom were refugees who came here to build a better life for themselves. I know it has been a tough week for many of you and your families, as well as many thousands of drivers whose stories are heartfelt and heart-wrenching.” \n",
      "Last weekend, angry Uber users began a movement to #DeleteUber from their phones after the company deliberately turned off surge pricing during a taxi strike at New York’s JFK airport. The taxi drivers were striking in solidarity with the thousands of protesters gathered there to demonstrate against Trump’s immigration ban. \n",
      "The movement drove more than 200,000 Uber customers to delete their accounts before Kalanick resigned, notes The New York Times.\n",
      "Independent Drivers Guild founder Jim Conigliaro Jr. stood by Kalanick’s decision in a statement emailed to HuffPost late Thursday. The group represents around 50,000 Uber drivers in New York City and is an affiliate of the Machinists Union.\n",
      "“This is an important show of solidarity with the immigrant drivers who helped build Uber and number over 40,000 in New York City alone,” he said. “We are heartened that Uber has listened to the drivers and the community on this important issue that is so integral to the promise of the American dream.”\n",
      "Here’s a copy of the letter Kalanick sent Uber employees: \n",
      "Dear Team,\n",
      "Earlier today I spoke briefly with the President about the immigration executive order and its issues for our community. I also let him know that I would not be able to participate on his economic council. Joining the group was not meant to be an endorsement of the President or his agenda but unfortunately it has been misinterpreted to be exactly that.\n",
      "I spent a lot of time thinking about this and mapping it to our values. There are a couple that are particularly relevant:\n",
      "Inside Out - The implicit assumption that Uber (or I) was somehow endorsing the Administration’s agenda has created a perception-reality gap between who people think we are, and who we actually are.\n",
      "Just Change - We must believe that the actions we take ultimately move the ball forward. There are many ways we will continue to advocate for just change on immigration but staying on the council was going to get in the way of that. The executive order is hurting many people in communities all across America. Families are being separated, people are stranded overseas and there’s a growing fear the U.S. is no longer a place that welcomes immigrants.\n",
      "Immigration and openness to refugees is an important part of our country’s success and quite honestly to Uber’s. I am incredibly proud to work directly with people like Thuan and Emil, both of whom were refugees who came here to build a better life for themselves. I know it has been a tough week for many of you and your families, as well as many thousands of drivers whose stories are heartfelt and heart-wrenching.\n",
      "Please know, your questions and stories on Tuesday, along with what I heard from drivers, have kept me resilient and reminded me of one of our most essential cultural values, Be Yourself. We will fight for the rights of immigrants in our communities so that each of us can be who we are with optimism and hope for the future.\n",
      "This article has been updated with the number of accounts Uber lost as a result of #DeleteUber.\n",
      "https://www.huffingtonpost.com/entry/uber-ceo-travis-kalanick-resign-trump-council_us_5893a883e4b09bd304ba71a5  working!\n"
     ]
    },
    {
     "name": "stderr",
     "output_type": "stream",
     "text": [
      "\r",
      " 17%|█████████████▊                                                                   | 17/100 [00:07<00:56,  1.48it/s]"
     ]
    },
    {
     "name": "stdout",
     "output_type": "stream",
     "text": [
      "BROOKINGS, SD—Local 11-year-old Dylan Adams entered the stage in childhood development Wednesday in which a boy feels the uncontrollable desire to run, jump, and touch the top of every doorframe he encounters. \"It is perfectly natural for young males to start exhibiting a tendency to touch things that are slightly higher than they can reach from a normal standing position,\" child psychologist Gerald Bakerfield said. \"In many cases, the child is experimenting with his newfound ability to make his own choices, whether that means jumping to touch ceilings, street signs, or low-hanging tree branches.\" Bakerfield added that Adams would soon progress from the jumping-and-touching-doorways phase to the crossing-your-arms-over-your-chest-turning-around-and-pawing-at-the-back-of-your-own-shoulders-to-make-it-seem-like-you're-making-out-with-someone phase.\n",
      "https://www.theonion.com/area-boy-enters-jumping-and-touching-tops-of-doorways-p-1819570282  working!\n"
     ]
    },
    {
     "name": "stderr",
     "output_type": "stream",
     "text": [
      "\r",
      " 18%|██████████████▌                                                                  | 18/100 [00:08<00:51,  1.59it/s]"
     ]
    },
    {
     "name": "stdout",
     "output_type": "stream",
     "text": [
      "https://local.theonion.com/area-man-does-most-of-his-traveling-by-gurney-1819588424  not working..\n"
     ]
    },
    {
     "name": "stderr",
     "output_type": "stream",
     "text": [
      "\r",
      " 19%|███████████████▍                                                                 | 19/100 [00:09<00:58,  1.39it/s]"
     ]
    },
    {
     "name": "stdout",
     "output_type": "stream",
     "text": [
      "I am Pushpa Rani. I live in the Naya Mishri village in South-Central Bangladesh. I am 50 years old, but I have had to spend my life crawling around like a child. Can you imagine? I am physically disabled. I had pneumonia when I was 8 years old, my situation deteriorated drastically, and I became extremely weak. Eventually, I lost all movement in my legs. \n",
      "I was married when I was only 12 years old. Due to my disability, my father had to give 66 decimals of land to the groom as a dowry. I had my first child when I was 13; my second when I was 15. My husband was a day laborer. Most of the people here struggle to earn a living. They either work in fishing boats or as day laborers, earning around 4 dollars a day. It's also a disaster-prone area. Once there was a huge flood and I had to crawl through knee-deep water to find temporary shelter on high land. We found a tree and my father helped me up. I clung there for 5 hours until the water level dropped. Many other natural disasters, including strong and devastating cyclones, have hit this area. I've seen many people die or also became disabled.\n",
      "The sufferings I have been through are indescribable. In all seasons, whether winter or rain, I have to crawl to move from one place to another. I crawl to the toilet like a child. Going to the toilet during the rainy season is the most challenging part. I get wet and dirty. I don't have many clothes and so I can't put on dry or clean ones. \n",
      "I am dependent on my husband. He would have to collect drinking water from a school far from our home before he went to work. The only water I could access was from a pond near our house. Very often the water was inadequate. My husband would sometimes be away for several nights for work. During those times my sufferings knew no bounds. I couldn't wash clothes; I couldn't wash myself. Now we have a deep tube well for 100 people, but I still feel very sad when I think of those days; I can't resist my tears recalling those griefs. \n",
      "As a mother, I couldn't give my children what they deserve from me. My disability has deprived them of a normal life. Can you imagine, as a mother, how that makes me feel? They couldn't study. I had to arrange my son's marriage when he was only 14 so that his wife could assist me at home. Can you imagine how selfish that is as a mother to do to your own son? I thought there was no-one like me. I still shed tears recalling those days. My husband and daughter-in-law help me in all aspects. Without their assistance my life could be harder than it is now. However, I am still very weak. Weak in a sense that I can't participate in the decision-making process in my family. My husband, son and daughter-in-law take all the decisions. My opinions are mostly disregarded. Even if I disagree with them I don't oppose their decisions because I am totally dependent on them.\n",
      "I consider disability as the greatest disaster in my life. I can't take a bath daily, I can't access the water, I can't go to the toilet normally, I can't move from one place to another, I can't raise my voice in my family or make decisions. I am dependent. \n",
      "I rarely go out of the house. The social discrimination that surrounds disability excludes me from society and has left me isolated. I had no awareness of social issues or my rights as a person. \n",
      "With the help of ADD International, I joined a self-help group and then later a disabled person's organization. This engagement with other disabled people has enlightened me. It fills me with a feeling of unity and strength. \n",
      "My time with ADD International has brought a change in me. I have learned many things about disability rights, water sanitation, government services and facilities, hygienic practices and economic empowerment. Now I speak out in public forums. I don't feel helpless. The unity of our organization gives me the strength and hope for a better life. I have learned that the government is providing various services and facilities for disabled people, including a disability allowance. There is much more that the government and local councils could do to make my life less challenging, like providing a wheel chair so that I can move around easily.\n",
      "I am one of many in Bangladesh and around the world who does not have equal access to a range of basic rights and resources. Millions are being left behind in an age when no-one should have to go without. As part of the United Nations Sustainable Development Goals, we have an opportunity to tackle the root causes and consequences of poverty, exclusion and marginalization. The 15-year framework can bring improvements to my life. In particular, SDG 6.2 (access to sanitation and hygiene) is very important to me: I would like a sanitary toilet attached to my house so I can go to the toilet with dignity. SDG 16.7 (inclusive decision-making) matters a lot to me too. I want to participate in community and societal matters. I want a voice and to be a partner in ensuring the goals leave no person with disabilities behind.\n",
      "This article is part of the Leave No One Behind series, which puts a spotlight on people facing the worst levels of poverty, marginalization and exclusion. These powerful stories help bring to life how the Sustainable Development Goals and Paris Climate Agreement can make a meaningful difference in people´s lives. If you would like to contribute an article, please contact the Leave No One Behind Partnership.\n",
      "https://www.huffingtonpost.com/entry/leave-no-person-with-disabilites_b_14631778.html  working!\n"
     ]
    },
    {
     "name": "stderr",
     "output_type": "stream",
     "text": [
      "\r",
      " 20%|████████████████▏                                                                | 20/100 [00:10<01:09,  1.14it/s]"
     ]
    },
    {
     "name": "stdout",
     "output_type": "stream",
     "text": [
      "There are few spaces left in the world that are free of cell phones. Lin-Manuel Miranda wants the theater to remain one of those spaces. \n",
      "After Tuesday night's performance of Miranda's record-breaking smash musical \"Hamilton,\" the playwright and actor sent a message to fans via Twitter, making it clear how he feels about audience members who are compelled to snap a verboten picture of his show. \n",
      "Seriously, is it so hard to resist the urge to document everything for approximately two and a half hours, especially when most theaters expressly forbid the taking of photographs or use of recording devices during the show?\n",
      "While it may seem innocent to want to Instagram Daveed Diggs' super-fast rap as the Marquis de Lafayette, as Playbill.com explains, there's usually some copyright and intellectual property issues that make that a terrible, terrible idea.\n",
      "And aside from the legal implications, it is -- how shall we put this -- rude as hell to put a phone between yourself and a work of art that many, many people have dedicated countless hours to in order to provide this one-of-a-kind experience for you. Sure, the curtain of \"Hamilton\" will rise and fall the next night, and the one after that, but the beauty of live theater is that this very performance, with this very crowd, can only happen once in the entire history of the universe. Don't muddle it by bringing social media into it -- just appreciate the performance, and soak it all in, for what it is.\n",
      "Beyond all that, do you really think your smartphone is going to capture a better-looking shot than all the widely available professional photos of what might be the most famous Broadway show right now? Are you that guy that holds his iPhone up above a concert crowd, blocking the view for an entire song so you can put it on YouTube later? Do you really want to be that guy? \n",
      "Better to hang out in your $1,000 seat, realize how lucky you are to be alive right now, and keep that phone in your pocket. When it comes to seeing \"Hamilton\" for the first time, you will not want to throw away your shot. \n",
      "Now back to your regularly scheduled Miranda tweets, where he can resume being a bright ray of sunshine in this dark world:\n",
      "And if you need even more convincing, let Patti LuPone's knack for confiscating theater patrons' phones be your last warning.\n",
      "https://www.huffingtonpost.com/entry/lin-manuel-miranda-would-like-to-remind-you-to-put-your-phone-away_us_5733306be4b096e9f0933e98  working!\n"
     ]
    },
    {
     "name": "stderr",
     "output_type": "stream",
     "text": [
      "\r",
      " 21%|█████████████████                                                                | 21/100 [00:11<01:18,  1.01it/s]"
     ]
    },
    {
     "name": "stdout",
     "output_type": "stream",
     "text": [
      "NEW YORK -– The horrific deaths of James Foley and Steven Sotloff in Syria brought worldwide attention to the dangers journalists face in war zones. The beheadings reflected an alarming trend in 2014 in which international journalists were increasingly targeted and killed. \n",
      "There were at least 60 journalists killed globally in connection to their work in 2014, according to an annual report from the Committee to Protect Journalists, an organization that advocates for press freedom around the world. The latest death was Afghan cameraman Zubair Hatami, who died Saturday from injuries he sustained in a Taliban attack. \n",
      "Committee to Protect Journalists is still investigating whether the deaths of 18 journalists were related to their work. Reporters Without Borders recently cited 66 journalist killings in its 2014 survey. The difference likely results from each organization's methodology and the ongoing investigation of some cases. \n",
      "Syria, mired in civil war since 2011, ranked as the most dangerous country for journalists for the third year in a row. Seventeen journalists were killed in the war-torn country this year, bringing the total to 79 in the conflict. \n",
      "The organization found four journalists and three media workers killed covering the war in Gaza, five journalists in Iraq, and five journalists and two media workers in Ukraine. \n",
      "While this year’s overall toll is down from the 70 killed in 2013, the Committee to Protect Journalists found that international journalists were more frequently targeted this year than in the past. \n",
      "“Reflecting in part the increasingly volatile nature of conflict zones in which Westerners are often deliberately targeted, about one quarter of the journalists killed this year were members of the international press, about double the proportion CPJ has documented in recent years,” the report concluded. “Over time, according to CPJ research, about nine out of every 10 journalists killed are local people covering local stories.”\n",
      "As threats against international correspondents grew in 2014, the organization noted that “the overwhelming majority of journalists under threat for their work continue to be local.”\n",
      "https://www.huffingtonpost.com/entry/journalists-killed-2014_n_6368532.html  working!\n"
     ]
    },
    {
     "name": "stderr",
     "output_type": "stream",
     "text": [
      "\r",
      " 22%|█████████████████▊                                                               | 22/100 [00:11<01:04,  1.22it/s]"
     ]
    },
    {
     "name": "stdout",
     "output_type": "stream",
     "text": [
      "SIBERIA—Stressing that the edict had come down from the top commanders within the Russian military complex, a video game guard told reporters Tuesday that he was under strict orders to repeatedly pace the same stretch of hallway. “I was given specific instructions to continually walk down this 50-foot corridor, pause for a few moments at the end to inspect the wall, turn around very slowly, and return to the opposite end of the hallway, without ever straying from this routine,” said the guard, who reportedly complied fully with additional orders to leave his back exposed to several key air ducts and unlocked doors that could be accessed from outside the base. “It’s of the utmost importance to this compound’s security and the success of the mission that I closely follow the directive and never stray from my commanding officer’s explicit instructions. After all, if I shirk my duty in any way, an intruder could easily enter the next room, where one of my comrades is walking down an identical hallway in the opposite direction.” At press time, the guard had reportedly continued to follow protocol by shouting, “What was that?” at a disturbance, looking around in concern for several seconds, and then continuing on his way.\n",
      "https://www.theonion.com/guard-in-video-game-under-strict-orders-to-repeatedly-p-1819577045  working!\n"
     ]
    },
    {
     "name": "stderr",
     "output_type": "stream",
     "text": [
      "\r",
      " 23%|██████████████████▋                                                              | 23/100 [00:12<00:58,  1.32it/s]"
     ]
    },
    {
     "name": "stdout",
     "output_type": "stream",
     "text": [
      "In the Andes Mountains of Peru, living in extreme poverty, Filomena Taipe Mendoza, 116 years old, is in the running to become the world's oldest living person. \n",
      "If her claim proves to be true, it would make her three months older than Misao Okawa of Japan, who currently holds the record for the oldest living person according to Guinness World Records and the Gerontology Research Group.\n",
      "Image Source: AFP\n",
      "Mrs. Mendoza lives in the tiny village of Huancavelica, one of the poorest cities in Peru. Her age was reportedly discovered when she left her village to pick up a new type of retirement check for seniors living in poverty. BBC News reports that Peru's National Identity Register claims that her ID card indicates that she was born on December 20, 1897.\n",
      "\"I am not of the past century, young man, but the other one... I am very old,\" she told an official accompanying her to cash her first check according to Agence France-Presse (AFP).\n",
      "Eat From the Garden, Don't Eat Processed Food\n",
      "What is Filomena Taipe Mendoza's secret to such a long life? According to BBC News, she attributes it to the following:\n",
      " Eating a natural diet of potatoes, goat meat, sheep's milk, goat cheese and beans Cooking only items she grows from her own garden Never eating processed foods\n",
      "While we wait for officials from Guinness World Records and the Gerontology Research Group to verify Mrs. Mendoza's claim, we can take this opportunity to spotlight the rare group of individuals known as supercentenarians in order to learn their secrets for living long and healthy lives. \n",
      "Supercentenarians are the elite group of people who have reached the 110-year milestone. According to the Gerontology Research Group (GRG), there are 74 verified living supercentenarians in the world and 71 of them are female. The GRG reports that there are probably hundreds more supercentenarians that have yet to be verified.\n",
      "Lots of Sushi and Lots of Sleep\n",
      "Leading the pack is Misao Okawa. According to Guinness World Records, she is the current verified oldest living person at 116 years and 64 days. She was born on March 5, 1898, at a time when Queen Victoria was still on the throne. \n",
      "Image Source: Reuters\n",
      "She resides in Osaka with her two daughters, one son, four grandchildren, and six great grandchildren. \n",
      "So what is Misao Okawa's secret to longevity? Guinness World Records reports that she attributes it to the following diet and lifestyle:\n",
      " Three large meals a day Eight hours of sleep a night Lots of sushi\n",
      "Misao Okawa's advice is rather simple. \"Eat and sleep and you will live a long time,\" she said in an interview to The Telegraph, \"You have to learn to relax.\" \n",
      "In addition to her regimen of sleep and sushi, Mrs. Okawa maintains a healthy lifestyle of physical activity. The Telegraph recounts one remarkable story of her strength of body and character. When she was 102, she fell and broke her leg. After returning to the nursing home from the hospital, she was seen doing leg squats to help herself recover. \n",
      "Mrs. Okawa is a prime example of Japan's healthy aging citizens. According to the GRG, Japan boasts the highest population of verified supercentenarians in the world. \n",
      "In John Robbin's book Healthy at 100, he talks about the specific group of centenarians in Okinawa, Japan, the place where more people live to 100 than anywhere else in the world. In fact, fifteen percent of the world's documented supercentenarians live in Okinawa. In his book Robbins describes the Okinawan Centenarian Study, which researched human longevity from a group of over 900 centenarians. \n",
      "The study found that, first, genetics was an important factor for longevity. In addition to genetics, cultural habits such as hara hachi bu (eating only until being 80 percent full) and the maintenance of a healthy lifestyle by keeping physically active were key reasons that Okinawans retained remarkable health. \n",
      "While Misao Okawa is the oldest living person, she does not hold the record for being the oldest person ever recorded. That title goes to France's Jeanne Calment according to Guinness World Records. Mrs. Calment died on August 4, 1997 at the impressive age of 122. \n",
      "Eat Two Pounds of Chocolate and Take Up Fencing\n",
      "Jeanne Calment was born in February 21, 1875, in Arles, France. Her date of birth falls one year before Alexander Graham Bell patented the telephone.\n",
      "In her New York Times obituary, it recounts how in her preteens she met Vincent Van Gogh, describing him later as ''very ugly, ungracious, impolite, sick -- I forgive him, they called him loco.''\n",
      "Mrs. Calment at age 22 in 1897 and at age 122 in 1997\n",
      "Her secret to staying young as reported in her obituary was a most unconventional list of diet and lifestyle habits: \n",
      " Drinking Port wine Eating two pounds of chocolate per week Treating her skin with olive oil  Taking up fencing at 85 Riding her bike until she was 100 Smoking until she was 117\n",
      "Yet despite her smoking and addiction to chocolate, her long life continued to surpass expectations. As recounted in her obituary, to one man's financial disappointment her age not only surpassed his expectations but also his own lifespan.\n",
      "When Mrs. Calment was 90, lawyer André-Francois Raffray, bought the apartment in which Mrs. Calment had lived. However, there was one provision. He would have to pay her 2,500 francs a month (the equivalent of $400 today) until she died and then the apartment would belong to him. He agreed.\n",
      "Year after year after year Mr. Raffray paid the monthly allowance, and Mrs. Calment went right on living. At the age of 77, Mr. Raffray died and his widow continued to pay her. When Mrs. Calment died 32 years later, the total payment came to $180,000 -- more than double the original price of the apartment. \n",
      "Although Mrs. Calment, being the wife of a well-to-do shop owner, never had to work, this did not mean that her life was without hardships. Her husband died in 1942 after consuming a dessert of spoiled preserved cherries. Their daughter, Yvonne, had only one son, Frédéric Billot, whom Mrs. Calment raised after Yvonne died of pneumonia at age 36. In 1960, Frédéric Billot died, also at age 36, without children in an automobile accident. A Long Life Is One of Persistence, Not Just Attitude\n",
      "Living with and through tragedies is a theme found also in Filomena Taipe Mendoza's life in Peru. \"I had a very hard life, I was a very young widow with nine dependent children and I worked hard to raise them. Only three of them are alive,\" she said to Peru's Ministry of Development as reported in Agence France-Presse.\n",
      "In their book The Longevity Project, the authors Drs. Howard Friedman and Leslie Martin consider what role tragedy and having a worry-free life plays in living longer. They discuss the findings of an eight-decade study of 1,528 participants that was begun by Dr. Lewis Terman in California in 1921. \n",
      "In reviewing the factors that have an effect on predictions of living longer, the authors state: \"It was not those who took life easy, played it safe, or avoided stress who lived the longest.\" They explain that instead those who live longer had \"an often-complex pattern of persistence, prudence, hard work, and close involvement with friends and communities.\" The authors explain that because of their perseverance they \"found their way back to these healthy paths each time they were pushed off the road.\"\n",
      "If Filomena Taipe Mendoza's claim is verified, then as the oldest living person, her life really does exemplify this fact.\n",
      "Living in extreme poverty with her new pension check she will now receive about 250 nuevo soles (about $90) per month and obtain free medical care. \n",
      "According to Agence France-Presse, when asked if there was anything she wished for, she replied: \"I wish I still had teeth.\"\n",
      "https://www.huffingtonpost.com/entry/healthy-living-news_b_5301711.html  working!\n",
      "https://www.huffingtonpost.comhttps://www.thedodo.com/backpack-cat-sad-rescue-1366450339.html  not working..\n"
     ]
    },
    {
     "name": "stderr",
     "output_type": "stream",
     "text": [
      "\r",
      " 25%|████████████████████▎                                                            | 25/100 [00:13<00:54,  1.39it/s]"
     ]
    },
    {
     "name": "stdout",
     "output_type": "stream",
     "text": [
      "Republicans rejoiced when they thought Bill Clinton had called President Barack Obama’s signature healthcare law “the craziest thing in the world.”\n",
      "Clinton shot down their giddiness on Wednesday, insisting that, “I strongly supported that bill.” As The Huffington Post’s Jeff Young points out, it’s clear that he had been referring to some of the legislation’s shortcomings, not the law in its entirety.\n",
      "One of the problems with Obamacare, Clinton had said Monday, is the gap in coverage between people who qualify for Medicaid or Medicare and those who don’t but cannot afford some of the higher premiums required. That gap exists in part because states can choose whether or not to expand Medicare for their residents ― and many Republican governors and lawmakers have not.\n",
      "The former president said on Wednesday that his wife, Democratic presidential nominee Hillary Clinton, is aiming to close that gap. \n",
      " “There are problems with [Obamacare],” he said. “Republicans want to repeal the law, their idea of solving the problem is to take 20 million who got insurance and take it away from them... Hillary’s idea is recognize what the problem is.”\n",
      "Some of the ways she is promising to improve on the existing law are making prescription drugs cheaper, allowing people over 55 to purchase Medicare, and pushing more states to expand Medicaid.\n",
      "https://www.huffingtonpost.com/entry/bill-clinton-obamacare-support_us_57f616dae4b05f39c51e4cbe  working!\n"
     ]
    },
    {
     "name": "stderr",
     "output_type": "stream",
     "text": [
      "\r",
      " 26%|█████████████████████                                                            | 26/100 [00:14<00:46,  1.58it/s]"
     ]
    },
    {
     "name": "stdout",
     "output_type": "stream",
     "text": [
      "WASHINGTON, DC—Although Secret Service Special Agent Michael Schilling is adept at assuming a low profile while protecting the president, he can't help betraying his admiration for his idol, comedian and former Blankman star David Alan Grier, sources said Tuesday. \"While on counter-sniper duty, sometimes Michael will get on the headset and talk about what hilarious thing Grier did in a similar situation on DAG,\" said fellow agent John Matthews, referring to the short-lived 2000 sitcom in which Grier played a Secret Service agent. \"We can't even file a simple report without him relating everything to an In Living Color sketch.\" Schilling is currently facing disciplinary suspension after he followed Dick Cheney to the podium before a recent speech to insist that the vice president borrow one of his DVDs of DAG's first season.\n",
      "https://www.theonion.com/secret-service-agent-not-so-secret-about-being-david-al-1819568489  working!\n"
     ]
    },
    {
     "name": "stderr",
     "output_type": "stream",
     "text": [
      "\r",
      " 27%|█████████████████████▊                                                           | 27/100 [00:15<01:00,  1.20it/s]"
     ]
    },
    {
     "name": "stdout",
     "output_type": "stream",
     "text": [
      "For those of you who feel like you are caught in a Trump avalanche, know that you are. You want desperately to get out, but it seems that every time you start to wriggle your limbs, you precipitate another large chunk of snow dislodging and burying you even deeper. You may want to stop struggling, hold your breath, and pray for hibernation to take over, until spring (and sanity) arrives. Good luck. That won’t happen, but it might make you feel better to know that your feelings are are shared by millions.\n",
      "Like countless others, I’ve been trying to figure this whole thing out: How did it happen? Why did it happen? Where did we go wrong? Has the world gone mad? If the world hasn’t, have I, personally, gone mad? What is this country I have been living in?\n",
      "I’ll share some of my thoughts with you. A note to Readers: We are all drowning in Trump news/analysis. Feel free to skip this post and wait for the next one, which will have nothing to do with Trump. I won’t be hurt. I would skip this, if I were you.\n",
      "First piece of advice: Do NOT wait for Trump’s supporters to see the light. He is exactly the personality they adored during the campaign. The promises that they cared about seem to be materializing. He promised them a wall, and he is serious about that. He promised them a conservative Supreme Court nominee, and he has delivered. He promised to get rid of unsavory illegals, and he is trying, even if a lot of savory ones are getting caught up in the process. He promised to eradicate ISIS. While he hasn’t actually done anything about that, he’s been sucking up to the military big time, and that sends a message that ISIS’ days are numbered. He promised people jobs. He has done virtually nothing about that, but he has signed presidential orders and made big noises about bringing back 19th century technology, and those who had such jobs are overjoyed.\n",
      "Best of all, he has given his supporters an enemy they can understand: the media, meaning any media that questions either his policies, his capability for the job, or the veracity of his statements. The bottom line is, he has done enough to keep the groupies in line.\n",
      "“But,” some of you are asking, “What about Russia!” Trump supporters aren’t concerned. Please understand that for many Trump supporters, Russia is merely an abstract concept. Supporters feed on a hatred/fear toward radical Islamic terror, with an emphasis on Muslim. Russians look too much like them. They don’t elicit the same fear/loathing as Muslims do.\n",
      "“Wait!” you yell, “What about Bannon and Miller and Conway and the other goons who work for him?! They are SCARY DUDES!” Trump supporters aren’t concerned. They don’t believe that their man is second to anyone or defers to anyone. He is the Dude in Charge. He calls the shots. He makes all the decisions. Bannon, Miller, Conway and all the rest of them serve him.\n",
      "“He lies! He lies!” you are screaming apoplectically. No, actually Trump’s supporters don’t know that. Their news sources don’t tell them that Trump lies. Trump supporters see the world through a lense of Fox, Limbaugh and his ilk, and websites such as Breitbart, Drudge Report, WSJ Opinion Journal, The Blaze. Anti-Trump forces listen to CNN/MSNBC, NPR, and websites such as Vox, Huffington Post, Daily Beast, Politico, Slate. So, while we identify Hillary as a potentially outstanding president who won the popular vote by almost three million and lost the election due to an antiquated electoral college system, they still see her as demon spawn who, had she won, would have ended the free world as we know it. Thankfully, their hero prevailed to save the day and their butts.\n",
      "The divide is huge and widening. It isn’t due to what is important to people. We all want secure borders. We all want economic and national security. We all want our children’s lives to be better than ours were. The divide is caused almost entirely by the news sources we trust. News sources used to be pretty much neutral. Now, there are fewer and fewer neutral sources. And, as time goes on, the sources that exist are becoming even more polarized. And more and more of what used to be neutral in our lives is becoming politicized. Neutral political space, with the the possibility of dialogue and compromise, is becoming an endangered species.\n",
      "If it sounds like I’m throwing in the political towel, I’m not. I’m cheering for the journalists ( and some members of Congress) who are spending an enormous amount of time and energy to uncover the truth about Trump/Russia ties, as well as Trump’s financial entanglements that are becoming even more of a conflict as time goes by.\n",
      "I’m cheering for the handful of GOP Congressmen who are principled enough (and courageous enough) to raise questions and demand answers. I’m cheering for the ordinary people all over the country who have shown up at town halls and have strongly voiced their concerns to their elected representatives. I’m cheering for every person who makes a phone call, writes a letter, holds a placard.\n",
      "I am especially cheering for that tiny group of people who are willing to check with news sources other than the ones they usually listen to or read. They won’t change their opinions. Opinions are almost impossible to change. But maybe they will have a slightly better understanding of who those people are who stand on the other side of the divide.\n",
      "https://www.huffingtonpost.com/entry/this-new-orange-era-the-growing-divide_us_58ab5a60e4b03250fc905df4  working!\n"
     ]
    },
    {
     "name": "stderr",
     "output_type": "stream",
     "text": [
      "\r",
      " 28%|██████████████████████▋                                                          | 28/100 [00:16<01:06,  1.09it/s]"
     ]
    },
    {
     "name": "stdout",
     "output_type": "stream",
     "text": [
      "The first 10 days\n",
      "I always wondered how I'd occupy my time during parental leave, since I wouldn't be working -- new babies sleep for most of the day, right? Then I discovered that feeding baby is a one hour-ish process and needs to be done 8-12 times a day at regular intervals. It's like I wake up, blink, and suddenly, it's mid-afternoon.\n",
      "Every day feels like a week, probably because of the breaking up of sleep into multiple segments. Also: The sheer number of photos taken, which is about seven times the number per day compared to before.\n",
      "Newborns smell great! My baby's scent reminds me of sweet cream and rice. Apparently, this is a thing.\n",
      "Sometimes, when baby is about to get into a cranky mood, it looks like bad, over-exaggerated dramatic acting.\n",
      "My husband doesn't know the lyrics to \"Twinkle, Twinkle Little Star.\" It's like he didn't grow up on this planet.\n",
      "There is an entire genre devoted to lullaby medleys of pop songs. Like Lady Gaga lullabies, U2 lullabies and Madonna lullabies.\n",
      "Hats. Hats are the best. I have yet to encounter a baby hat I didn't like.\n",
      "Days 10-20\n",
      "I've never used Google search as much as I'm using it now. I feel like an advertisement for a Google commercial. \"What causes baby eye gunk?\" (Answer: Blocked tear duct) \"When does baby acne go away?\" (Answer: Weeks or months, see doctor if it persists after nine months) *cue sweet lullaby music* *fade to white, with Google logo*\n",
      "Related to the above, I finally caught on to that thing young people have been doing for years, which is watch YouTube videos with titles like, \"how to ___.\" For some reason, my husband and I ended up watching a bunch of UK-produced videos, which means we've inevitably picked up a bunch of British baby terms. Like \"wet nappy,\" and \"remember to wind your baby,\" and, \"don't forget to let your baby have a good naked kick-around.\"\n",
      "Baby has never met a car ride she didn't like. Which makes me wonder why there isn't something in the market that simulates this exact feeling. Billion-dollar idea right there. (Another billion-dollar idea: figuring out how to bottle your baby's scent.)\n",
      "Record number of diapers changed in one diaper-changing session due to \"open air\" accidents: Four.\n",
      "Trying to get your baby registered as an official person when you've had an emergency home birth without a doctor or midwife present is a lot like Minecraft in that you need to collect a bunch of \"ingredients\" before you can use them in a \"recipe\" for a better item. For example: Doctor's affidavit of pregnancy + one ambulance report OR one fireman's report + residence power bill = one birth certificate. One birth certificate + one pediatrician's report = one SSN card. Birth certificate can unlock more later on (like passport!), so it's kind of like the crafting table equivalent of documents.\n",
      "Best \"mommy\" item purchased for self: Barefoot Dreams cardigan and blanket. Seriously, it's so soft it's like how I imagine a garment spun from puffy cotton-clouds to feel. I live in this cardigan and blanket.\n",
      "Adventures in bottle-feeding, the upside: getting five hours of straight sleep for the first time since before the baby was born!! The downside: Body can't even handle so much sleep in a row, decides afterwards that it's going to refuse sleeping for the next many hours and instead focus an overactive imagination on questions like How will I talk to my baby about dating? and What's the best way to help your child deal with societal pressures on body image?\n",
      "The excitement of baby gaining weight! (Because when else does adding pounds invoke so much delight?)\n",
      "The wistfulness of baby outgrowing her first few hats. (I coped by going on a larger-hat buying spree.)\n",
      "Days 20-30\n",
      "Spending time with a newborn feels similar to being on a safari. The main activity is observing -- watching the dozens of expressions she goes through in a minute, seeing her little chest go up and down, looking at those little arms flail about. (She makes a lot of little squeaks and grunts too, so there's some listening involved.) Baby is a small creature governed entirely by nature, and so observing becomes a fascinating leisure activity.\n",
      "If baby is crying and we can't figure it out, the de facto line is \"oh, it's gas.\"\n",
      "Baby pee is sterile, according to Parents.com. Who knew? \n",
      "Wearing your baby via a carrier is a game changer. All of a sudden, hands are free, baby doesn't need to be watched every second, you have a personal little heater attached to your chest and baby is happy with the arrangement. (When I do this, it feels like an extension of being pregnant. When my husband does this, it's adorably kangaroo-like.)\n",
      "A common conversation around the house regarding baby: \"Have you tried X technique? It worked yesterday.\" \"But today isn't yesterday.\" Seriously, just when you think you've gotten the hang of something, the pattern changes.\n",
      "Since feeding is such a time-intensive process, anything \"productive\" on my to-do list takes an average of three extra days than budgeted to complete. On the other hand, consuming is easy. In the past month, I've finished four books, listened to the entirety of Serial, watched two seasons of TV and three movies, read an average of 20 articles every day, and stayed up to date with every trending topic there is -- comet landing, Kim Kardashian breaking the Internet, Ebola, chocolate shortage , etc. This is the perfect time for me to get onto some current events game show or attend cocktail parties where I can stun people with my vast knowledge of water cooler topics.\n",
      "Baby is growing bigger, stronger and more alert by the day! Although (besides more exciting tummy times), what this most practically translates to in the day-to-day is more dynamic and spirited crying.\n",
      "When I was pregnant, I thought that there might be times when I missed my pre-baby life -- the freedom, flexibility, lack of accountability. Since then, the challenges have been daily, but so far, I don't miss a thing. Life evolves, and the road ahead is wide open with too many shades of wonderful still left to be discovered.\n",
      "\n",
      "Photo: Mike Sego\n",
      "This post originally appeared on Medium.\n",
      " Like Us On Facebook |   Follow Us On Twitter |   Contact HuffPost Parents\n",
      "Also on HuffPost:\n",
      "https://www.huffingtonpost.com/entry/things-learned-in-the-first-month-of-having-a-baby_b_6182168.html  working!\n"
     ]
    },
    {
     "name": "stderr",
     "output_type": "stream",
     "text": [
      "\r",
      " 29%|███████████████████████▍                                                         | 29/100 [00:18<01:18,  1.10s/it]"
     ]
    },
    {
     "name": "stdout",
     "output_type": "stream",
     "text": [
      "   After Chino Hills High School’s leading scorer, LiAngelo Ball, injured his ankle, his brother LaMelo was given the go-ahead to shoot more on Tuesday, the Los Angeles Times reported.   \n",
      "   The California sophomore certainly took the message to heart. He scored a staggering 92 points in a 146-123 victory over visiting Los Osos.  Here are the numbers, per USA Today: He made 37 for 57 field goal attempts and was 11 of 14 from the free throw line. For good measure, he also had seven assists and five rebounds. In one quarter alone he dropped 41 points. “He loves to score,” Ball’s father, Lavar, said, per ABC News. LaMelo reportedly dedicated his performance to a young woman who is seriously ill.   \n",
      "   Chino Hills Coach Stephan Gilling called the performance “very exciting.” But opposing coach Dave Smith wasn’t having it: “The Ball boys are very talented and great players, but it’s embarrassing to high school athletics,” he told the Times. “I’ve been coaching for 35 years, and we’ve turned high school athletics into individualism.” Incidentally, older brother Lonzo Ball is currently a star freshman at UCLA who may be heading toward the NBA next season. Chino Hills’ 60-game winning streak had been stopped the previous game, prompting Lonzo to send out this tweet Tuesday night:   \n",
      "   The high school single-game scoring record is thought by many to be 135, set in 1960 by Danny Heater of Burnsville High School in West Virginia.   \n",
      "https://www.huffingtonpost.com/entry/lamelo-ball-scores-92-points-in-high-school-basketball-game_us_589b0845e4b04061313a7411  working!\n"
     ]
    },
    {
     "name": "stderr",
     "output_type": "stream",
     "text": [
      "\r",
      " 30%|████████████████████████▎                                                        | 30/100 [00:19<01:22,  1.18s/it]"
     ]
    },
    {
     "name": "stdout",
     "output_type": "stream",
     "text": [
      "I lay in bed, staring out my window into the blackness with the same thought running through my mind and quickening my pulse: Was I a lesbian?\n",
      "My best friend was sleeping in the bed next to me. I could feel the rise and fall of her rib cage. She was sound asleep. That single question repeated over and over again until I forced it to stop. I couldn’t be a lesbian, as much as I knew I was attracted to my friend, I also knew that I was attracted to other boys at school. And in my rather conservative, Christian family, being straight was the only option. From a very early age I knew that being anything other than straight was unacceptable. The only conversations we ever had about being queer in my family treated it as forbidden gossip or the punchline of a joke. I knew from my private school and church that only straight relationships were good in God’s eyes. I also knew the kids at school did not take kindly to anyone who was different.\n",
      "So, at the ripe old age of eleven or twelve, I told myself I would never let that question enter my mind again.\n",
      "____\n",
      "A few years later, my friends and I discussed a question over lunch in the high school cafeteria: What did we think of marriage equality?\n",
      "It was not unusual for my friends and I to discuss social issues over lunch in high school. A very religious girl whose father was a pastor answered my friend’s question: “I’m fine with it unless my dad is forced to do the ceremony. It’s against our religion. Isn’t the union thing good enough?”\n",
      "A week later, we had a debate on the topic in my government class. Everyone was asked to go to one side of the room or the other, with one side representing pro-marriage equality and the other side against. I stood in the middle and watched most of the people I was friends with walk to the against side, loudly claiming their religious right to be opposed. I dutifully followed them and kept quiet.\n",
      "I did not know a single out LGBTQ person in high school. The GSA group consisted of a handful of students and I did not know any of them. My one close friend who would later come out as gay in college, was treated horribly by other boys at school. We never talked about our sexual orientations.\n",
      "____\n",
      "I never once let myself think about women sexually for more than a millisecond and I kept most of my friends at arm’s length to ensure that no one would ever inquire further.\n",
      "It was relatively easy in the sheltered, mostly-Christian setting that I grew up in. Convincing myself that religion had to be right and therefore everyone around me was too was not difficult. I wanted nothing more than to feel accepted as I was. At the same time I knew I was not a lesbian – I was attracted to men as well, so I had no idea what I was, just that I was different and I had to hide that.\n",
      "_____\n",
      "I had never heard the word bisexual until college. Not once.\n",
      "I watched shows like Glee, with prominent gay characters and characters who have relationships with both men and women but those characters were never labeled and their relationships were often framed as experimentation or a fleeting fling.\n",
      "In college, it appeared suddenly. I read it in articles and heard the full acronym, LGBTQ, being used more and more frequently. I now knew that the ‘B’ stood for bisexual, and that it was a label for someone who experienced attraction to people regardless of their gender.\n",
      "___\n",
      "“I’m bisexual.”\n",
      "When I finally said it out loud it sounded a lot more casual that I thought it would. I told one of my close friends, a lesbian woman, who had asked. She was nonchalant about it, and that soothed my nerves as I wiped my sweaty palms on the blanket in my lap. I couldn’t believe I had finally said it out loud.\n",
      "Throughout college, as I grew and matured as a feminist woman, I was friends with a more diverse group of people than I had ever been before. Some of my closest friends and my best friend were members of the LGBTQ community, but I did not know any bisexual people. I cloaked the new knowledge that my sexual orientation had a word and its’ own community with my work in the LGBTQ community writ large. I volunteered at an LGBTQ youth center and spent time in the LGBTQ resource center on campus.\n",
      "Gradually, I overcame my own internalized homophobia that I had weaponized against myself, culminating in those two words that it took me 21 years to find and say.\n",
      "____\n",
      "I still live in a kind of double-life. I am out to my friends, but not to my family members. I am aware that I will never really be past the coming out process, because every new relationship is going to require some version of that conversation.\n",
      "I know that, despite my best intentions, no matter what I tell people or choose not to tell people, there are both straight and gay people who will never be comfortable with the fluidity of my bisexuality. I do not think I will ever be able to explain it to those I love in a way that will satisfy everyone. Human tendency is to put things in neat boxes and the prevalence of bisexuality as a phase in pop culture (Back to “I kissed a girl just to try it”) does not help the pick-a-side, it’s-just-a-phase narratives.\n",
      "But I do not have to explain it. I spent 21 years trying, I think that’s more than enough. It isn’t easy. It won’t ever be easy. But this is me and that is enough.\n",
      "https://www.huffingtonpost.com/entry/im-bi-it-took-me-21-years-to-come-out-of-the-closet_us_59c94729e4b0f2df5e83b06d  working!\n"
     ]
    },
    {
     "name": "stderr",
     "output_type": "stream",
     "text": [
      "\r",
      " 31%|█████████████████████████                                                        | 31/100 [00:20<01:11,  1.04s/it]"
     ]
    },
    {
     "name": "stdout",
     "output_type": "stream",
     "text": [
      "I've never seen my grandma without her hair done and makeup on. She's not a vain person — at least not in the way your stereotypical Real Housewife is vain. She just wants to look her best at all times. She even puts her makeup on before going to bed!\n",
      "This is because she can't stand the idea of dying in her sleep and being found by random emergency responders without any makeup on. She actually said this to me.\n",
      "My grandma is my favorite person. As I get older, I have an ever-increasing appreciation for just how alike we actually are. Talking to her is like talking to myself 48 years in the future — which is funny because we're both very much prone to talking to ourselves.\n",
      "Read more on Cosmopolitan\n",
      "https://www.huffingtonpost.com/entry/10-essential-life-lessons_n_7061560.html  working!\n"
     ]
    },
    {
     "name": "stderr",
     "output_type": "stream",
     "text": [
      "\r",
      " 32%|█████████████████████████▉                                                       | 32/100 [00:21<01:14,  1.09s/it]"
     ]
    },
    {
     "name": "stdout",
     "output_type": "stream",
     "text": [
      "\n",
      "This blog was written by Brian Germain and previously appeared on the author's blog. \n",
      "Basil is your normal, everyday 16-year-old boy. He likes to scroll through his Facebook newsfeed, hang out and laugh with friends, and kick around the soccer ball. His raging hormones manifest themselves in crude hand gestures and he often requires a little extra encouragement to do certain chores around the camp--like washing a pot--as he is visibly distracted by all the action around him. He is respectful, honest and the type of motivated, hardworking kid I would want to have in my classroom or in my own circle of friends.\n",
      "This typical teenager is from the village of Shingal, one of several Yazidi settlements in the desert climate of Sinjar District surrounding a mountainous landscape in the semi-autonomous Kurdish region of Northern Iraq. In the unfortunate draw of the geo-political lottery, that happens to be smack dab in the middle of Mosul, Iraq, and Raqqa, Syria--the established capitals of ISIS in each respective country. For ISIS to establish a seamless supply line would require the control of Sinjar. Everyone in Sinjar knew this, and everyone knew ISIS would eventually come. Luckily, the people had their own protective force, called the Peshmerga who, with basic military supplies, uniforms, weapons, and soldiers, were tasked with the protection of the at-risk region.\n",
      "ISIS (Islamic State of Iraq and Syria), or ISIL (Islamic State of Iraq and the Levant) as it has become widely known, actually prefers to go by its official name: the Islamic State. In 2014, it declared a caliphate (a political-religious region run by a Muslim leader and successor of Muhammad). Essentially, it established control of a real physical area on a map. Signaling that it would be violently expanding its power and perverse views of a peaceful religion, it dropped the geographically specific part of its acronym. However, monsters shouldn't be empowered by being addressed as requested. Most people around the world afflicted by its reign of terror refer to them simply Daash, which is a derogatory term sounding similar to its name in Arabic.\n",
      "In true keeping with its unconscionably horrific vision, Daash has been marching forward with a genocidal effort, specifically targeting Yazidi people whom it believes to be devil worshippers. Yazidis are not Muslim and practice some customs, including pagan ones that are misunderstood and leveraged as hate by Daash. These practices basically equate to a Christian displaying a Christmas tree. Daash made no attempt to hide that it was coming to Sinjar to destroy the Yazidis, of which, different reports estimate around one million are a part of this ethnic and religious minority group.\n",
      "Basil didn't give too much thought to this as a then 14-year-old boy. A low, substandard wall of protection had been built and Shingal was halfway up a mountain. Additionally, the Peshmerga were there to protect them. They had fortification, elevation, and soldiers on their side.\n",
      "On August 3, 2014, everyone was just about falling asleep on their rooftops, a common practice in an area with extreme heat and no electricity. From this vantage point, just around 1:00 a.m., people from Shingal could see lights moving in the distance, a clear indication that something was going to happen that night. As residents watched on, within a half hour, they could see the lights split into three distinct groups and slowly start coming toward the village at different angles of approach. Just around 2:00 a.m., the first shots rang out, mixed with a slew of incomprehensible shouting. The neighbors were yelling, but only the sounds of confusion and fear were audible. Before Basil could stand up an explosion, likely from mortar fire, turned the top part of his neighbor's home into rubble. His female neighbor was killed instantly, and her husband badly injured.\n",
      "Basil climbed down off the roof and ran into his home, where his four brothers, three sisters, and mother already were, for safety. Bullets flew in the village in a one-way assault. According to Basil, and echoed by another Yazidi man from two villages south of Shingal, no Peshmerga shots were fired. In fact, the military force the villagers were relying on was nowhere to be seen that night. The villagers thought they were doomed; they had all heard about the brutal strength of Daash and knew that it had the support from the surrounding Arab region.\n",
      "Basil's father ran to fetch the injured neighbor's Kalashnikov and, with gun in hand, hurried down the mountain with other villagers in a heroic sprint to meet the enemy. As volleys of bullets were exchanged, the children looked on through the darkness to see the hot metal streaking through the sky.\n",
      "Between 3:00 and 4:00 a.m., silence fell over the village. Unsure if any fighters were still outside and convinced their father had been killed, the family moved out to the car they were lucky enough to own. Basil's mother told his older brother their only hope was to take the one road out of the village and go up the mountain. Into this small vehicle they squeezed three families--a total of 17 people. They followed the road to link with the up-mountain pass.\n",
      "As they puttered on in their overloaded automobile, a cell phone rang. It was their father, who was clearly shaken, but alive. He asked the car to turn around to come get him. For a moment, when they pulled up to him, they weren't sure who they were looking at. In the desert, Basil said, it's impossible to tell who you're fighting because everyone's faces get so dirty. Basil's father was thrown through the air by an RPG that landed right next to him. Just like you see in the movies, Basil explained, trying to put the horror in a context I could understand. They gave dad water and loaded him into the packed car next to a cousin's wife who had been shot in the arm and was in deteriorating condition.\n",
      "They headed over the mountain pass towards Kurdistan, which was still a three-hour drive on the other side. Headlights that had been following close behind them pulled up at the first allowable spot and shared news that the Peshmerga were not at their posts securing the road and it had been taken over by Daash. At this point, everyone was convinced that the Peshmerga were paid to simply not show up to their posts that night. Basil, his family, and several villagers were completely surrounded. Without hope or an actual plan, they drove back to his village of Shingal as Daash forces continued up the mountain to make contact again.\n",
      "The family stowed their car in a safe place. They gathered food and water and started up the mountain, on foot, toward a point of safety; all the while, the sun was rising and the temperature was growing unbearable for physical activity. Eventually, shouts from Daash hit them. They had reached another group of militants who set up a line to stop people from escaping.\n",
      "Finding an alternate way to avoid the blockade of bullets, Basil--who was carrying his sister on his shoulders--and his companions reached the top of the mountain around 8:00 a.m. He had no water because the small amount they were able to bring was being saved for the youngest children. When they summited, his dad nearly collapsed. Basil told him to stay put, and the 14-year-old ran back down the mountain with a group of friends, not knowing what they would encounter.\n",
      "He didn't have a weapon, but Basil recovered a Kalashnikov on top of a Peshmerga uniform at an unmanned post on the way down. With three clips of ammunition and an estimated 10,000 people now fighting, Basil and a friend took their position across from a blockade of cars. Daash militants stood on top of vehicles, firing at them while other fighters fired from a shielded position behind them.\n",
      "Daash was clearly outnumbered, but they had fire superiority. The Yazidi force that had gathered to repel the invasion contended with numerous high-powered assault rifles with seemingly un-ending ammunition, as well as RPGs and various other heavy artillery.\n",
      "Basil described the scene as being like a dream, an event for which he wasn't actually there. When he squeezed off the last bullet from his third and final clip, he ran back up the mountain to where his family was. On the way up, throat closing from thirst, he said he wished he was dead so he didn't have to see what he had. People on both sides of him were killed. Hurrying upwards as lines fell back, many people were too exhausted and had to stop for a rest. They too would be killed shortly.\n",
      "Peshmerga forces began showing up in the morning wearing plain clothes, allegedly so Daash wouldn't kill them. They were targeted anyway by RPGs. After making significant progress up the mountain by around 9:30 a.m., Daash fell back to the line of the villages and raided them, taking animals, money, gold, and valuables. It had secured control of the road leading to another village and forces moved for it at that time.\n",
      "Basil and his family returned home to shower and change, and then immediately left for Turkey. They started walking to Kurdistan from Sinjar with no food. The three-hour car ride they were originally trying to make seemed like a lifetime ago. While Basil's English was not great, and my Arabic was too poor to get a direct quote, one thing he said very clearly without the translator: \"In the mountain, there is nothing.\"\n",
      "They reached their destination of Turkey the next afternoon as many people, including countless young children dropped to the ground and literally died of thirst all around them. As news of the attacks spread, roads clogged with traffic by people fleeing for safety. Basil's family then spent almost two years in a refugee camp before coming to Kara Tepe a transit camp for refugees in Lesvos, Greece, where they currently reside, one step closer to their goal of settling in Europe.\n",
      "Basil's older brother was quick to make it into Germany before Europe closed its borders. While the rest of the family waits, a state of being all too familiar to refugees, they try to keep their hope up. Today, they heard through that UNHCR told another Iraqi about an EU deal just passed. The agreement says that anyone from Iraq who is in Greece and seeking asylum in Europe must either shelter in Greece for 5 years before they can apply or return to Turkey. \n",
      "Official announcements of this policy could not be verified so, even though I don't think it's legitimate, Basil's reacted to hearing such hope-crushing news was very real. After escaping from a place where he was targeted for the belief system of his people, he just wants to get back to the life of a regular teenage boy. Still, his fate is better than the Yazidis who have not made it out of Iraq.\n",
      "Following the road from Shingal, Daash did what it has done to all Yazidis they seek to destroy. In a course of actions the UN has labeled a genocide, a label not used lightly, Daash brutally and immediately slaughtered all of the men and babies. Sometimes, if Yazidi men agree to convert to Islam, they are spared. Often, they can pledge their allegiance and are still murdered anyway.\n",
      "All of the women were abducted and forced into a number of channels, all of which are beyond unbearable. Sex slavery is the most probable fate Yazidi women face. Daash has set up online slave auctions as well as slave farms where women are bought like sheep, an analogy one purchaser used to abuse and degrade a rare escapee after he had purchased her. Other women are given as sexual gifts to fighters, or traded and sold off to different militants repeatedly. Almost all are raped repeatedly, even at the age of nine. Many have killed themselves to escape the suffering.\n",
      "This pattern of activity Daash clearly celebrates is what compels mere children to sacrifice their innocence to fight, so that they may keep their lives in exchange. The unimaginable plan to wipe an entire people from the planet is what has Basil and his family slowly moving through red tape to find safety on the other side of the world.\n",
      "America has taken a hardline stance refusing to put boots on the ground for this conflict. It has also scaled back drone activity even after Obama's promise to \"degrade and destroy ISIL.\" However, the push into Sinjar starting on August 3, 2014 was enough to warrant a U.S. response in the form of an airstrike. An international coalition airdropped food, water, and medical supplies to the cut-off region and, through the use of force, established evacuation routes for some of the trapped people. Shingal has since been taken back from Daash control and now has a robust Peshmerga presence protecting it.\n",
      "For now, Basil does what many refugees have confronted as the long enduring reality of their situation: He waits.\n",
      "https://www.huffingtonpost.com/entry/post_12853_b_11592992.html  working!\n"
     ]
    },
    {
     "name": "stderr",
     "output_type": "stream",
     "text": [
      "\r",
      " 33%|██████████████████████████▋                                                      | 33/100 [00:23<01:17,  1.16s/it]"
     ]
    },
    {
     "name": "stdout",
     "output_type": "stream",
     "text": [
      "\"A bit of adviceGiven to a young Native AmericanAt the time of his initiation:As you go the way of life,You will see a great chasm. Jump.It is not as wide as you think.\" ― Joseph Campbell\n",
      "I've jumped. Across the pond and back again, in pursuit of the much younger man I first met online. In this case, as revealed in my last post, he was my new grandson. April pranks aside, I am curious about older women dating younger men. Curious but not ready to take action. While visiting with family, I'd taken a respite from online dating with men of any age. Home again, I am reticent to jump in. I'm feeling that the odds are against me. The chasm between where I stand and the potential for meeting my mate online seems very wide indeed. \n",
      "What if, as the proverb claims, it wasn't as wide as I think? I wonder what would happen if I let go the contracted state of doubt and was more receptive to my inner wisdom and intuition.\n",
      "What if, instead of being influenced by remnants of the Too Old To Be Seeking Love Story, I opened to a new one. In this tale I align with my inner wisdom, intuition and Life itself. Partnering with Life, would I know that something greater than myself wants for me what I want for myself? Would I be guided towards my next steps? What if, listening in the quietness of the morning, I attuned to the stillness within throughout the day? Would I hear Life's prompts urging me forward on the road to romance? \n",
      "I'd come back from the hopefulness of new life and a young family's dreams to my own. Are young dreams and older ones that much different? Leaving that younger man of \"Older But Still An April Fool\" to return to my life is challenging. With more experience under our belts, in addition to the latest accumulation of adipose, how do we hold onto our hopes in light of Life's disappointments?\n",
      "Does it have to do with where our minds go when there are delays, particularly major ones like mine? Do I Iisten to old stories that proclaim I am more than an April Fool but an old one? Do I fall down the rabbit hole tumbling in an endless loop of self-recrimination? \n",
      "Or do I choose the path of power, where we align and partner with Life, paying attention to the prompts? Can we notice the evidence that appears of Life's having our backs? Can we believe that while we are still alive it's never too late to materialize our dreams? I do not yet have answers but, am willing to live with these questions.\n",
      "This morning, as I brushed my teeth, I was surprised by hearing Frank Sinatra serenading me inside my head. Despite it being many decades since I last heard Johnny Richard's ballad, I immediately recognized the tune. My Sonicare buzzed along with my humming as I remembered every word of Carolyn Leigh's lyrics to It Had To Be You.\n",
      "Fairy tales can come true, it can happen to youIf you're young at heart.For it's hard, you will find, to be narrow of mindIf you're young at heart.\n",
      "You can go to extremes with impossible schemes.You can laugh when your dreams fall apart at the seams.And life gets more exciting with each passing day.And love is either in your heart, or on its way.\n",
      "And just like that my optimism returned. I smiled into the mirror about what's next being the best part knowing I did indeed have a head start because I was still among the very young at heart.\n",
      "https://www.huffingtonpost.com/entry/older-but-still-young-at_b_7095730.html  working!\n"
     ]
    },
    {
     "name": "stderr",
     "output_type": "stream",
     "text": [
      "\r",
      " 34%|███████████████████████████▌                                                     | 34/100 [00:23<01:02,  1.06it/s]"
     ]
    },
    {
     "name": "stdout",
     "output_type": "stream",
     "text": [
      "CAMBRIDGE, MA—Saying the likelihood of such a phenomenon occurring was near impossible, leading probability researchers told reporters Wednesday that they were confounded by reports that three coworkers at a Nashville-area office were wearing the same shirt color on the same day. “The entire statistics community is absolutely reeling—the unthinkable has apparently happened,” said MIT’s Dan Felder, noting that no theories or formulas currently exist that could explain the fact that three coworkers at software development company QData arrived at work wearing shirts the exact same shade of maroon. “We at least have models for something like two people coming to work wearing the same shoes or both getting a haircut the day before, but this is the equivalent of lightning striking in the same place hundreds of times in a row. We’re going to have to go back to the drawing board on probability analysis entirely.” At press time, desperate researchers had reached out to the coworkers directly in the hopes of learning that what had occurred was nothing but a coordinated stunt.\n",
      "https://www.theonion.com/leading-probability-researchers-confounded-by-three-cow-1822174747  working!\n"
     ]
    },
    {
     "name": "stderr",
     "output_type": "stream",
     "text": [
      "\r",
      " 35%|████████████████████████████▎                                                    | 35/100 [00:23<00:50,  1.30it/s]"
     ]
    },
    {
     "name": "stdout",
     "output_type": "stream",
     "text": [
      "NEW YORK—Providing a convenient way to navigate the metropolis for residents and tourists alike, New York City mayor Bill de Blasio announced Monday the launch of SideWalk, a new shoe-sharing program that provides short-term footwear rentals for the city’s pedestrians. “Thanks to this innovative program, New Yorkers will have immediate access to the footwear they need to explore all that our city has to offer,” de Blasio said, noting that SideWalk users can quickly and easily check out a pair of cross trainers, running shoes, or high tops from one of the city’s nearly 400 rental kiosks located on all five boroughs. “While purchasing and maintaining one’s own shoes can be costly, SideWalk allows users to check out what they need for as little or as much time as they want, at very affordable hourly rates. Just grab a pair of sneakers, use them to walk or run around the city, and drop them off when you’re done. It couldn’t be easier.” While noting that it was not required, de Blasio added that it is recommended that SideWalk users provide their own socks.\n",
      "https://www.theonion.com/new-york-introduces-shoe-sharing-program-for-city-s-ped-1819577633  working!\n"
     ]
    },
    {
     "name": "stderr",
     "output_type": "stream",
     "text": [
      "\r",
      " 36%|█████████████████████████████▏                                                   | 36/100 [00:25<00:58,  1.09it/s]"
     ]
    },
    {
     "name": "stdout",
     "output_type": "stream",
     "text": [
      "Remember when Beyoncé was vegan? This is pretty much the opposite of that. \n",
      "A London-based creative agency teamed up with a group of artists and designers to create Queen Bey’s likeness in cheese. We can’t decide if we want to eat this replica, aptly titled “Brie-Oncé,” or preserve it until the end of time. \n",
      "The sliceable sculpture is modeled after Beyoncé’s iconic pregnancy announcement in February. It’s made from about 45 pounds of cheddar cheese and took 28 hours to create. (And they say Rome wasn’t built in a day!)\n",
      "Brie-Oncé, which was created for The Robin Collective by sculptors David Bradley and Jacqui Kelly, creative director Brandy Klingelpuss and designers Guy Roberts and Robin Fegen, will be on display at a wine and cheese festival in London this weekend.\n",
      "“Hopefully she won’t lose her formation,” The Robin Collective’s Rosa Holmes told HuffPost. We’re melting. \n",
      "The delicious-looking statue is a genius combination of two universally loved entities, and we have to admit everyone involved did a ***flawless job. Beyoncé was always the G.O.A.T., but now she’s the G.O.A.T. cheese, too. \n",
      "https://www.huffingtonpost.com/entry/cheese-beyonce_us_58de85f0e4b0b3918c8313eb  working!\n"
     ]
    },
    {
     "name": "stderr",
     "output_type": "stream",
     "text": [
      "\r",
      " 37%|█████████████████████████████▉                                                   | 37/100 [00:25<00:51,  1.23it/s]"
     ]
    },
    {
     "name": "stdout",
     "output_type": "stream",
     "text": [
      "WASHINGTON—In the hours leading up to President Obama’s State of the Union speech tonight, White House aides informed reporters that the president would most likely touch on a diverse and expansive array of topics, including U.S. patent law, the problem of relativism in contemporary epistemological discourse, and the works of American film director Robert Altman. “This is a crucial speech for the president, and that is exactly why he will use this as an opportunity to thoroughly address Edward Said’s theory of Orientalism while also discussing the often complex taxonomic specialization involved with various subspecies of moths and butterflies,” said White House aide Louis Fererra, who went on to add that Obama has also developed an in-depth PowerPoint slideshow to discuss motifs of modern alienation in the 1993 film Short Cuts and the advances in algorithmic complexity in computer programming. “While we know that some may disagree on the President’s views on franchising trends, Latina rites of passage, the pickling and preservation of foraged vegetables, taxes, and the Adventures of Tintin book series, we believe now is the time for our nation to begin seriously discussing these subjects.” At press time, representatives for Sen. Marco Rubio (R-FL) had announced the Republican response to the speech would include strongly divergent opinions on Chinese calligraphy, aquatic mammals, and the use of noise reduction filters for audio editing.\n",
      "https://politics.theonion.com/expansive-obama-state-of-the-union-speech-to-touch-on-p-1819574546  working!\n",
      "https://www.huffingtonpost.comhttp://www.gq.com/gallery/gray-hair-gods-best-salt-and-pepper-hair#1  not working..\n"
     ]
    },
    {
     "name": "stderr",
     "output_type": "stream",
     "text": [
      "\r",
      " 39%|███████████████████████████████▌                                                 | 39/100 [00:26<00:40,  1.49it/s]"
     ]
    },
    {
     "name": "stdout",
     "output_type": "stream",
     "text": [
      "UPDATE: The Lafayette Police Department said Thursday that a woman had fabricated the story about two men, one of them in a Trump hat, attacking her on her way to class at the University of Louisiana at Lafayette.\n",
      "The incident is no longer under investigation.\n",
      "Previously:\n",
      "Police are investigating reports that a student wearing a hijab at the University of Louisiana at Lafayette was hit with a metal object and robbed while walking to class on Wednesday morning.\n",
      "One of her attackers was wearing a white hat that read “TRUMP,” a University of Louisiana Police Department notice sent to students and obtained by The Huffington Post states.\n",
      "The student told police that she was on her way to class when a dark sedan approached her and two white men wearing sweatpants left the car, according to the notice.\n",
      "She said the suspects struck her with “something metal,” causing her to fall to the ground. They hit her again while she was on the ground and “made obscene comments” at her, the alert states.\n",
      "The student declined medical attention, local newspaper The Daily Advertiser reports.\n",
      "University Public Informations Officer Billy Abrams confirmed to HuffPost that Lafayette city police were investigating the off-campus incident. The Lafayette Police Department did not immediately return a request for comment.\n",
      "Other University of Louisiana at Lafayette students told HuffPost they had seen obscene messages written in chalk around campus Wednesday, including several that referred to President-elect Donald Trump.\n",
      "Joseph Savoie, president of the University of Louisiana at Lafayette, reminded students Wednesday evening of the importance of unity, respect and higher education in an email titled “Standing, Learning Together,\" which HuffPost obtained.\n",
      "“University campuses are places where men and women of all races and religions should be able to exchange ideas and learn from one another,” Savoie said in the email, sent to students and staff one hour before ULPD’s notice of the off-campus incident.\n",
      "“We grow as human beings by listening to others who have different backgrounds and experiences,” Savoie continued. “The University strives to provide an environment that nurtures healthy discourse.”\n",
      "https://www.huffingtonpost.com/entry/muslim-student-attacked-university-of-louisiana-lafayette_us_58227f5fe4b0d9ce6fbfc2b1  working!\n"
     ]
    },
    {
     "name": "stderr",
     "output_type": "stream",
     "text": [
      "\r",
      " 40%|████████████████████████████████▍                                                | 40/100 [00:26<00:35,  1.70it/s]"
     ]
    },
    {
     "name": "stdout",
     "output_type": "stream",
     "text": [
      "BALTIMORE–Decrying the strong presence of African Americans on such programs as Malcolm & Eddie, Shasta, and The Parkers, NAACP president Kweisi Mfume called Monday for a significant reduction in minority representation on UPN. \"We must step up pressure on this network to decrease the visibility of our people,\" said Mfume, addressing the NAACP's Board Of Directors. \"America is just 13 percent black, yet on these crappy shows, we make up a full 85 percent. This is utterly unacceptable.\" Mfume then called for a boycott of UPN until the network \"severely underrepresents us.\"\n",
      "https://www.theonion.com/naacp-demands-less-minority-representation-on-upn-1819565571  working!\n"
     ]
    },
    {
     "name": "stderr",
     "output_type": "stream",
     "text": [
      "\r",
      " 41%|█████████████████████████████████▏                                               | 41/100 [00:28<00:44,  1.32it/s]"
     ]
    },
    {
     "name": "stdout",
     "output_type": "stream",
     "text": [
      "Winter's over. And so is all that \"trying to wear serious coats and look like a professional grown-up\" stuff. \n",
      "What we're saying is, now that the weather's getting warmer outside, you have a little liberty to free yourself, to have fun with your style. Dress like a kid. Show your bratty youthful side.\n",
      "One day a week, leave your blazer and tie at home and throw on one of these options. It'll make you happy, and when you're happy, you look better. We wouldn't recommend wearing them all at the same time, but hey -- do what makes you happy.\n",
      "https://www.huffingtonpost.com/entry/how-to-dress-like-a-manchild_us_56f04ad5e4b09bf44a9e193a  working!\n"
     ]
    },
    {
     "name": "stderr",
     "output_type": "stream",
     "text": [
      "\r",
      " 42%|██████████████████████████████████                                               | 42/100 [00:29<00:53,  1.09it/s]"
     ]
    },
    {
     "name": "stdout",
     "output_type": "stream",
     "text": [
      "A Washington florist who refused to provide flowers for a gay couple’s wedding is hoping to take her fight to the Supreme Court. \n",
      "Arlene’s Flowers owner Barronelle Stutzman cited her religious faith when she turned away longtime customers Robert Ingersoll and Curt Freed, who were seeking flowers for their nuptials in 2013. Along with the state’s attorney general, Ingersoll and Freed filed a lawsuit against Stutzman for illegally discriminating against them on the basis of sexual orientation.\n",
      "In 2015, a Benton County Superior Court judge ruled Stutzman, 72, had discriminated against the two men by turning them away. That decision was upheld by Washington state’s Supreme Court in February. \n",
      "On Friday, Stutzman’s attorneys filed a petition with the Supreme Court asking justices to review the February decision. “If the government can ruin Barronelle for peacefully living and working according to her faith, it can punish anyone else for expressing their beliefs,” Kristen Waggoner of the Alliance Defending Freedom, who is representing Stutzman, told The Tri-City Herald. “The government shouldn’t have the power to force a 72-year-old grandmother to surrender her freedom in order to run her family business.”\n",
      "Waggoner went on to note, “Anyone who supports the First Amendment rights that the U.S. Constitution guarantees to all of us should stand with Barronelle.”\n",
      "The florist, who is a Southern Baptist, has argued that arranging flowers is artistic expression protected under the First Amendment. She’s hoping to have her case consolidated with that of Colorado’s Masterpiece Cakeshop owner Jack Phillips, who cited his religious faith in his decision to turn away Charlie Craig and David Mullins, who were seeking a cake for their 2012 wedding.\n",
      "“Not only does her case and Jack Phillips’ case involve similar issues,” Waggoner said in a statement cited by Metro-Weekly, “but both Barronelle and Jack face burdensome penalties for simply exercising their right of free expression.” \n",
      "The Supreme Court is scheduled to hear Phillips’ case, which is also being handled by the Alliance Defending Freedom, this fall. \n",
      "Catch the latest in LGBTQ news by subscribing to the Queer Voices newsletter. \n",
      "https://www.huffingtonpost.com/entry/barronelle-stutzman-supreme-court_us_596d1637e4b0e983c0584023  working!\n"
     ]
    },
    {
     "name": "stderr",
     "output_type": "stream",
     "text": [
      "\r",
      " 43%|██████████████████████████████████▊                                              | 43/100 [00:30<00:53,  1.06it/s]"
     ]
    },
    {
     "name": "stdout",
     "output_type": "stream",
     "text": [
      "I've had a few days to try and recover from that shocking ending to the latest episode of The Walking Dead, but I still get really uncomfortable every time I watch it. Let's not dig too deeply into the fact that I've insisted on rewatching \"Strangers\" several times even though I get this hollow-pit of just plain old ickiness in my gut every time. It's gross. I like it; I played with mud as a child it probably says something about me we can analyze at a different time.\n",
      "Luckily, I've got Justice Revils, founder of popular fan-account @StuffThangsTWD to help get me through this. Mind the spoilers, though if you haven't seen the episode yet I don't know what's wrong with you, go watch \"Strangers!\"\n",
      "VB: Okay, walk me through what we saw this week...\n",
      "JR: The end of the episode! Bob walks away from the church crying, I'm guessing he was bit, and then Gareth and \"The Hunters\" knock him out -- only to eat his leg! This was a fantastic scene that came right out of the comics, best of the episode for sure!\n",
      "True, for readers of the comics what happens to Bob this week isn't a huge surprise, it just happens to a different character (Dale, who obviously isn't around anymore, RIP Daly, I admit I don't miss your \"judgey-face\").\n",
      "I really love the direction this season is taking, it looks like it's sticking a lot to the comics, and I won't complain!\n",
      "\n",
      " \"Strangers\" began as an introduction to new character, Father Gabriel, but became something much deeper as (most of) our group got a rare chance to breathe easy for a few hours.\n",
      "I loved Abraham's toast in the church. Really cool moment where he convinces Rick and Judith to go to DC with him. Tara also had some cool moments with Rick and when she talked to Maggie about being with The Governor when they attacked the prison.\n",
      "I love how much she's grown since 4B, owning up to the decisions she made by following The Governor and committing to becoming a strong member of this new version of our group. What are some other moments that stick out to you this week as we get ready for the next episode?\" \n",
      "Seeing the car that kidnapped Beth! I really didn't think it would address that problem this episode, but that's what I love about surprises. So Daryl & Carol have now gone looking for Beth, and Bob has been taking by The Hunters... Father Gabriel is just in a bad position right now. \n",
      "\n",
      "Judging by previews for the upcoming \"Four Walls and a Roof\" Sasha is gunning for Gabriel and definitely believes he had something to do with Bob's disappearance. She seems to think Daryl and Carol are with him, I can't wait to see them go after Beth!\n",
      "The Walking Dead airs Sundays at 9pm on AMC. Photos by Gene Page © AMC TV.\n",
      "https://www.huffingtonpost.com/entry/were-still-processing-that-ending_b_6044440.html  working!\n"
     ]
    },
    {
     "name": "stderr",
     "output_type": "stream",
     "text": [
      "\r",
      " 44%|███████████████████████████████████▋                                             | 44/100 [00:31<00:50,  1.11it/s]"
     ]
    },
    {
     "name": "stdout",
     "output_type": "stream",
     "text": [
      "As refugees and migrants stream into Europe, risking their lives crossing the Mediterranean Sea, Google announced a new system designed to give them critical information in a timely fashion.\n",
      "The search giant joined the International Rescue Committee and Mercy Corps to develop the Crisis Info Hub, a website that offers information on lodging, transportation, medical facilities and more. It's already live in Lesvos, Greece, with plans to add more locations in the near future. \n",
      "Smartphones are a significant resource for refugees and migrants, and Google says it's designed the Crisis Info Hub \"to disseminate ... information in a lightweight, battery-saving way,\" per a company blog post published Friday. \n",
      "Last month, Google raised $5.5 million dollars from individual donations and matched those funds for a total contribution of $11 million to support Doctors Without Borders, Internal Rescue Committee, Save the Children and the United Nations High Commissioner for Refugees. The company has also called on people who can translate Arabic and Farsi into German to contribute to the Google Translate Community and help people who arrive in Germany from areas in the Middle East.\n",
      "H/T: Engadget\n",
      "https://www.huffingtonpost.com/entry/google-announced-new-project-for-refugee-and-migrant-crisis_us_562a782ae4b0ec0a38946a23  working!\n"
     ]
    },
    {
     "name": "stderr",
     "output_type": "stream",
     "text": [
      "\r",
      " 45%|████████████████████████████████████▍                                            | 45/100 [00:31<00:41,  1.31it/s]"
     ]
    },
    {
     "name": "stdout",
     "output_type": "stream",
     "text": [
      "https://www.theonion.com/new-history-textbook-makes-hatred-of-history-come-alive-1819586624  not working..\n"
     ]
    },
    {
     "name": "stderr",
     "output_type": "stream",
     "text": [
      "\r",
      " 46%|█████████████████████████████████████▎                                           | 46/100 [00:32<00:44,  1.23it/s]"
     ]
    },
    {
     "name": "stdout",
     "output_type": "stream",
     "text": [
      "\n",
      "Successful people come from all walks of life, yet they all have one thing in common: where others see impenetrable barriers, they see challenges to embrace and obstacles to overcome.\n",
      "Their confidence in the face of hardship is driven by their ability to let go of the negativity that holds so many otherwise sensible people back.\n",
      "Obstacles do not block the path; they are the path.\n",
      "This perspective helps successful people to think differently to everyone else, which is important, because if you think like everyone else, no matter how smart or experienced you are, you'll hit the same ceiling. By thinking outside the box and going against the grain, successful people rise above their limitations.\n",
      "We all know how important it is to approach problems with radical optimism and creativity, but this is easier said than done. In a study conducted at Adobe, 96% of employees identified creativity as essential to their success, both in terms of their income and the value they bring to the world. What's more, 78% wished they were capable of thinking differently, believing that they would progress through their careers more quickly if they did. \n",
      "Too often we attribute creative and \"different\" thinking to natural, innate characteristics that belong only to the lucky. The truth is that you can study how ridiculously successful people think and incorporate their approach into your repertoire.\n",
      "1. They're confident. If only we knew of all the great ideas that never came to fruition because people lacked the confidence to put them into action. Successful people confidently act on their ideas, because they know that a failed idea is not a reflection of their ability; instead, they see it as a wonderful learning opportunity.\n",
      "2. They're composed. Ultra-successful people are composed, because they constantly monitor their emotions and understand them and they use this knowledge in the moment to react with self-control to challenging situations. When things go downhill, they are persistently calm and frustratingly content (frustrating to those who aren't, at least). They know that no matter how good or bad things get, everything changes with time. All they can do is to adapt and adjust to stay happy and in control. If you'd like an objective measure of how you do at this, consider taking an emotional intelligence test.\n",
      "3. They're honest. Super-successful people trust that honesty and integrity, though painful at times, always work out for the best in the long run. They know that honesty allows for genuine connections with people and that lying always comes back to bite you in the end. \n",
      "4. They seek out small victories. Successful people like to challenge themselves and to compete, even when their efforts yield only small victories. Small victories build new androgen receptors in the areas of the brain responsible for reward and motivation. This increase in androgen receptors enhances the influence of testosterone, which further increases their confidence and eagerness to tackle challenges. When you achieve a series of small victories, the boost in your confidence can last for months.\n",
      "5. They're always learning. Super-successful people often know more than others do, because they're constantly trying to learn. They vow to constantly grow, and they fill every spare moment with self-education. They don't do this because it's \"the right thing to do\"; they do it because it's their passion. They're always looking for opportunities to improve and new things to learn about themselves and the world around them. Instead of succumbing to their fear of looking stupid, truly exceptional people just ask the questions on their mind, because they would rather learn something new than appear smart.6. They expose themselves to a variety of people.There's no easier way to learn to think differently than spending time with someone whose strengths are your weaknesses or whose ideas are radically different from your own. This exposure sparks new ideas and makes you well rounded. This is why we see so many great companies with co-founders who stand in stark contrast to each other. Steve Jobs and Steve Wozniak from Apple were a prime example. Neither could have succeeded without the other.\n",
      "7. They keep an open mind. Exposing yourself to a variety of people is useless if you spend that time disagreeing with them and comforting yourself with your own opinions. Successful people recognize that every perspective provides an opportunity for growth. You need to practice empathy by putting yourself in the other person's shoes so that you can understand how their perspective makes sense (at least, to them). A great way to keep an open mind is to try to glean at least one interesting or useful thing from every conversation you have.\n",
      "8. They're fearless. Fear is nothing more than a lingering emotion that's fueled by your imagination. Danger is real. Danger is the uncomfortable rush of adrenaline you get when you almost step in front of a bus; fear is a choice. Exceptional people know this better than anyone does, so they flip fear on its head. Instead of letting fear take over, they're addicted to the euphoric feeling they get from conquering their fears.9. They turn tedious tasks into games. Every job entails some degree of tedium. For most people, tedium leads to sloppy, rushed work. Only the most successful people find ways to make the tedious interesting. By turning tedious work into a game, they challenge themselves and produce high-quality work, making things interesting in the process.10. They dream big but remain grounded. Successful people reach for the seemingly impossible, but they do so in a way that is actionable and realistic. While you may not know exactly how you're going to achieve your dream, you need to make progress no matter how small the steps. For example, Elon Musk's goal at SpacEx is to \"Occupy Mars.\" While this is a big dream, Musk keeps it realistic by engaging in regular steps that, some day, may get him there. SpacEx just landed a rocket upright on a boat in the ocean for the first time ever. It's a far cry from colonizing Mars, but it's an essential step in the process.\n",
      "Bringing It All Together\n",
      "The above behaviors can make any of us more successful if we use them every day. Give them a try, and see where they take you.\n",
      "What other habits set ultra-successful people apart from the rest? Please share your thoughts in the comments section below, as I learn just as much from you as you do from me.\n",
      "https://www.huffingtonpost.com/entry/10-ways-ridiculously-succ_b_11803810.html  working!\n"
     ]
    },
    {
     "name": "stderr",
     "output_type": "stream",
     "text": [
      "\r",
      " 47%|██████████████████████████████████████                                           | 47/100 [00:33<00:38,  1.39it/s]"
     ]
    },
    {
     "name": "stdout",
     "output_type": "stream",
     "text": [
      "https://local.theonion.com/report-bridge-probably-has-whole-mess-of-bats-under-th-1819655137  not working..\n"
     ]
    },
    {
     "name": "stderr",
     "output_type": "stream",
     "text": [
      "\r",
      " 48%|██████████████████████████████████████▉                                          | 48/100 [00:34<00:46,  1.11it/s]"
     ]
    },
    {
     "name": "stdout",
     "output_type": "stream",
     "text": [
      "AUSTIN, Texas ― The state legislative session opened on Tuesday, with a conservative majority promising to push hard-line immigration measures that dovetail with the harsh stance that carried President-elect Donald Trump to the White House. \n",
      "Texas Republicans have for years pushed the heavy-handed immigration enforcement policies Trump campaigned on. Now, emboldened by his win and holding a comfortable majority in both statehouse chambers, a growing number of these hard-liners stand to turn the state with the second-largest undocumented population into one of the country’s most eager collaborators with federal immigration authorities. \n",
      "Republicans have filed multiple bills that would cut state funds for “sanctuary cities,” which shield undocumented immigrants by limiting local cooperation with U.S. immigration authorities. One proposal would make local jurisdictions that defy a federal request to hold undocumented immigrants liable for damages for four years if the released person commits a felony (unless the victim is also undocumented). Another bill would increase jail time for undocumented immigrants convicted of a felony, with life sentences for first-degree offenses. \n",
      "Some Texas Republicans, like state Rep. Will Metcalf, look to Trump as a willing partner. \n",
      "“I think it is fantastic that we will have leadership at the federal level that finally starts enforcing our immigration laws,” Metcalf, who filed one of the anti-sanctuary city bills in the House, wrote in a statement to HuffPost. “It is incomprehensible to me that we allow political subdivisions to blatantly ignore state and federal laws.” \n",
      "Perhaps most worrisome for reformers, a growing number of conservatives want to repeal the state “Dream Act,” which allows undocumented immigrants to pay college tuition at the in-state rate. Last month, Gov. Greg Abbott tweeted a threat to cut funding to universities that try to keep immigration authorities off campus, contradicting a law that guarantees undocumented students’ access to state colleges. \n",
      "The hard line reflects the major shift in Republican attitudes about immigration over the last decade and a half. Back in 2001, then-Gov. Rick Perry signed the state Dream Act legislation, which sailed through both chambers with bipartisan support. \n",
      "Now, immigrant-rights defenders will be lucky to get through the six-month legislative session without a major defeat. \n",
      "Abbott and Lt. Gov. Dan Patrick, both Republicans, campaigned with a get-tough stance on immigration, often casting the issue as a security threat. Patrick, who presides over the state Senate, has promised to prioritize immigration enforcement bills as part of a conservative agenda that also includes school-choice legislation and a law that would require people to use the bathroom of the gender they were assigned at birth. \n",
      "Much of the immigration legislation Texas will consider has failed in the past. Democratic legislators, more than half of them Hispanic, contend that the measures are a misguided distraction from working-class families’ concerns in a state with a constricted budget. \n",
      "“Trump Republicans are in it for themselves, while kids and workers fall victim to red-meat distractions,” Texas Democratic Party Chair Gilberto Hinojosa said in a statement Tuesday. \n",
      "But this year, it will be harder for Democrats to stop the anti-immigrant push. \n",
      "The Texas Senate has rules that require a two-thirds majority to bring a bill to the floor for debate. But for this year’s session, the Republican majority dropped that requirement to three-fifths ― 19 votes in a body where the GOP holds 20 seats. \n",
      "That doesn’t mean Republican legislators will steamroll the opposition, though, according to political scientist Mark Jones. He said the GOP generally thinks that “some signal needs to be sent” on immigration because of the issue’s strong emotional tug on Republican voters. But at the same time, many moderate Republicans worry that staking out too strident a position on immigration will scare the business community and further repel Hispanic voters, who already lean Democratic in this majority-minority state. \n",
      "“The Republican Party isn’t unified in Texas regarding a hard-line stance on immigration,” Jones said. “There’s still a split within the party between those that have a hard-line view on immigration and those that have a more pragmatic, George W. Bush view on immigration.”\n",
      "If the more extreme measures on immigration fail to pass, it will likely be because moderates, like House Speaker Joe Straus (R-San Antonio), put up roadblocks or killed them before they could reach a vote, Jones said. Straus has long opposed the repeal of the state Dream Act. \n",
      "But with so much pressure from his party’s base and top leadership to deliver stricter immigration laws, Straus likely will make compromises. The question is what they will be. \n",
      "https://www.huffingtonpost.com/entry/texas-republicans-immigration-crackdown_us_58755beee4b05b7a465c2d46  working!\n"
     ]
    },
    {
     "name": "stderr",
     "output_type": "stream",
     "text": [
      "\r",
      " 49%|███████████████████████████████████████▋                                         | 49/100 [00:35<00:45,  1.12it/s]"
     ]
    },
    {
     "name": "stdout",
     "output_type": "stream",
     "text": [
      "This is seriously the definition of relationship goals.\n",
      "On Tuesday, the popular podcast 2 Dope Queens, from comedians Phoebe Robinson and Jessica Williams, played an old episode of Robinson’s other podcast, Sooo Many White Guys, in which Robinson talked with actor Tom Hanks. \n",
      "Although the interview originally aired in March 2017, Hanks’ comments about his wife, actress Rita Wilson, make it the perfect Valentine’s Day treat.\n",
      "At the tail end of their conversation, Robinson mentioned that Hank’s wife of 29 years is hot, prompting him to respond like this:\n",
      "“By the way, she is.”\n",
      "But the Oscar-winning actor didn’t stop there.\n",
      "“Sometimes I look at that lady in the morning looking all tousled and warm from bed in her sweats and her hair all piled up on her head … smokin’ hot.”\n",
      "The couple met in 1981 when Wilson appeared on an episode of Hank’s ABC comedy “Bosom Buddies.” The two got to know each other a little better when they co-starred in the 1985 film “Volunteers.” \n",
      "Hanks once told GQ (per Good Housekeeping) that he instantly felt a spark with Wilson.\n",
      "“Rita and I just looked at each other and — kaboing — that was that. I asked Rita if it was the real thing for her, and it just couldn’t be denied.”\n",
      "https://www.huffingtonpost.com/entry/tom-hanks-rita-wilson-smokin-hot_us_5a848406e4b0058d55656141  working!\n"
     ]
    },
    {
     "name": "stderr",
     "output_type": "stream",
     "text": [
      "\r",
      " 50%|████████████████████████████████████████▌                                        | 50/100 [00:35<00:37,  1.35it/s]"
     ]
    },
    {
     "name": "stdout",
     "output_type": "stream",
     "text": [
      "THE HEAVENS—Lamenting that the mass extinction event wiped out the reptiles too soon, God, Our Lord and Heavenly Father, confirmed Monday that He has recently been getting a strong desire to bring back the dinosaurs. “I’m starting to think getting rid of them was a huge mistake, because dinosaurs were fucking awesome,” said the Divine Creator, fondly recalling how He would often spend five or 10 centuries just watching all the different kinds of theropods run, hunt, and fight with each other. “The planet is running pretty low on animals anyway, so now might be a great time to reintroduce them, maybe even make them bigger and more badass. Plus, I’ve always wanted to see how dinosaurs would interact with humans.” God added that if He got bored of the dinosaurs, He could very easily exterminate them a second time.\n",
      "https://www.theonion.com/god-getting-strong-urge-to-bring-back-dinosaurs-1819579692  working!\n"
     ]
    },
    {
     "name": "stderr",
     "output_type": "stream",
     "text": [
      "\r",
      " 51%|█████████████████████████████████████████▎                                       | 51/100 [00:37<00:49,  1.00s/it]"
     ]
    },
    {
     "name": "stdout",
     "output_type": "stream",
     "text": [
      "After a seven-year hiatus from the music world, Grammy-nominated Christian musician Jennifer Knapp in 2010 took the brave step of telling her fans that she was gay. It wasn’t long before some of her formerly faithful followers began to retaliate. \n",
      "While some may have simply deleted her songs from their iPods, one woman took the effort of collecting all the records she had of Knapp's music and sending them back in the mail. \n",
      "When Knapp opened the package, she noticed that the CDs seemed scratched up and well-loved. \n",
      "It was her life’s work.\n",
      "“She didn’t want them anymore because I was gay,” Knapp recalled in a phone call to HuffPost. “I didn’t know this person, but this person knew something personal about me that they didn’t understand or didn’t agree with. So they threw me out.” Like Knapp, many LGBT people have felt abandoned by their faith communities at moments when they feel most vulnerable. Although some Christians point out that Jesus never mentioned homosexuality in the Bible, there are conservative churchgoers who view it as a sin and argue that a true friend would lovingly try to correct that sin. And while it may be one thing for churches to reject people in same-sex relationships, it is harder for humans to reject their spirituality. \n",
      "Knapp found that out from experience. \n",
      "During her time away from the spotlight, Knapp said she tried to take a break from God as well. She didn’t want to think about looking upward. But she still had burning questions about who she was, and whether the faith she’d experienced in the past was in any way real. At moments when she least expected it, she found herself praying. \n",
      "“I actually held on to my faith the whole time,” Knapp said. “I was just tearing it apart, pulling out all the nuts and bolts to figure out what it is really made of. It never really went away.”\n",
      "That’s the message behind the Level Ground Film Festival, an organization that uses art to create safe spaces for people to talk about faith and sexuality. Level Ground hopes to prove that people of faith can be both confident about their sexuality and unapologetic about their Christianity. \n",
      "With the help of The Collegiate Churches of New York and the advocacy network Believe Out Loud, the festival will explore gender and sexuality through film and visual and performance art. Organizers are urging Christians to \"descend\" from their \"mountains\" and pulpits and to start listening to each other on a level playing ground, taking the words of the prophet Isaiah as their starting point:\n",
      "Every valley shall be raised up, every mountain and hill made low; the rough ground shall become level, the rugged places a plain. And the glory of the Lord will be revealed.\n",
      "Knapp, who will be performing this weekend, says doctrines about the presence of LGBT people in the church have been preached from the pulpit for too long. It's time to democratize the conversation, she said.\n",
      "\"Christian preaching from the pulpit has generally rejected LGBT legitimacy,\" she said. \"But now that a lot more people are coming forward, people are realizing that it's much harder to reject your friend.\"\n",
      "Joining Knapp as a headliner for the festival is New York City-based drag queen Jeza Belle. Like Knapp, the performer also had the opportunity to walk away from faith completely.\n",
      "In a blog post for The Huffington Post, Jeza Belle wrote about a moment during her Christian university education when a group of men physically surrounded her, yelled out names, and pushed her to the ground. Instead of shutting down her spiritual side, Jeza Belle picked herself up and realized that “people put conditions on God’s love as if they speak for the Lord himself.”\n",
      "“I could either let other people define and determine my relationship with God, or I myself could have that relationship,” Jeza Belle told HuffPost. “Now, there’s not a thing that I do, no matter what clothes I put on, I’ll always be a child of God. It flows through everything I may be.”\n",
      "The idea that some Christians put forth, to “love the sinner and hate the sin,” just won’t suffice anymore, Jeza Belle said. \n",
      "“Who are we to judge one another?” she said. “We’re all sinners; none of us are God. ... And if he made me, I can’t be that bad.”\n",
      "Jeza Belle now attends The Collegiate Churches of New York. But others have yet to find a place to call their spiritual home.\n",
      "In fact, a 2013 survey from the Pew Research Center found that LGBT people are much less religious than the average American. Only about 17 percent say that religion is “very important” in their lives.\n",
      "Millennials, who are less likely than older Americans to be affiliated with a church, are also more likely to be accepting of homosexuality.\n",
      "James Rowe, director of Believe Out Loud, says that Christians need to have conversations about faith and sex in order for the church to survive.\n",
      "“Young people don’t understand why the church seems to have such a problem with homosexuality,” Rowe told The Huffington Post. “In order to have longterm sustainability and to be carriers of the message of Christ, churches need to embrace all their congregants, and not just some.”\n",
      "Believe Out Loud is building a database of churches in America that are welcoming and affirming of LGBT people. Rowe hopes this weekend’s Level Ground film festival will elevate those voices.\n",
      "In the meantime, Rowe continues to be a proud member of the Catholic Church.\n",
      "“We have a place in the church and in this conversation,” Rowe said. “People shouldn’t be afraid or ashamed of their faith. And they shouldn’t be ashamed of the sexuality of the person sitting next to them, either.”\n",
      "https://www.huffingtonpost.com/entry/level-ground-lgbt-christians_n_6159734.html  working!\n"
     ]
    },
    {
     "name": "stderr",
     "output_type": "stream",
     "text": [
      "\r",
      " 52%|██████████████████████████████████████████                                       | 52/100 [00:38<00:45,  1.06it/s]"
     ]
    },
    {
     "name": "stdout",
     "output_type": "stream",
     "text": [
      "ALBUQUERQUE, NM—During an introduction to another man at a party Friday night, local resident Mike Greenly was reportedly blindsided by a high-speed handshake that plunged in at an angle of nearly 90 degrees. \"His hand initially rose above his head like he was going for a high-five, but then it pointed straight down and just dove like a hawk,\" said Greenly, explaining the steep angle resulted in his grasping the tips of only three fingers during the shake. \"My hand actually flinched when I saw his hand coming.\" According to current estimates, a proper handshake should be delivered at an angle of plus-or-minus 5 degrees and with an average speed of 7 mph.\n",
      "https://local.theonion.com/handshake-comes-in-at-unusually-high-angle-velocity-1819573028  working!\n"
     ]
    },
    {
     "name": "stderr",
     "output_type": "stream",
     "text": [
      "\r",
      " 53%|██████████████████████████████████████████▉                                      | 53/100 [00:38<00:39,  1.20it/s]"
     ]
    },
    {
     "name": "stdout",
     "output_type": "stream",
     "text": [
      "LITTLE ROCK, AR—Annoyed by all the regular updates from home concerning his former classmates, 26-year-old graphic designer John Galleon told reporters Tuesday that he wished his mother would stop sending him newspaper clippings anytime someone he went to school with was murdered. “She can’t help herself. Every single time one of my old classmates turns up in a dumpster or something, I get an article about it in the mail, even if it’s about someone I hadn’t been friends with since middle school or some kid who was a year below me,” said an exasperated Galleon, who showed reporters a clipping he recently received concerning the homicide and dismemberment of a schoolmate whom he said he had “maybe one class with” during sophomore year. “I also got three or four articles about the murder and memorial for this girl Megan Finneron who I barely even knew. Mom only sent it to me because she’s friends with Megan’s parents and always thought the two of us should be friends. It’s so frustrating.” While Galleon said he usually throws away the newspaper articles without looking at them, he admitted that he did appreciate reading the update about the decapitated remains of his ninth-grade sweetheart, Allison Carotti.\n",
      "https://local.theonion.com/mom-keeps-sending-newspaper-clippings-about-former-clas-1819576337  working!\n"
     ]
    },
    {
     "name": "stderr",
     "output_type": "stream",
     "text": [
      "\r",
      " 54%|███████████████████████████████████████████▋                                     | 54/100 [00:39<00:31,  1.46it/s]"
     ]
    },
    {
     "name": "stdout",
     "output_type": "stream",
     "text": [
      "EVERYWHERE—Claiming that they just couldn’t stand this bullshit anymore, Americans across the country confirmed Friday that someone, anyone needs to please, just make it stop. “Please, please, please, we’re begging you here, just put an end to it immediately,” said sources, noting that it had all gone way, way too far and they would do almost anything for even a few glorious minutes of respite. “We’re on our hands and knees, pleading with you to make it all go away once and for all. What’s it going to take? Jesus Christ, just stop it! Stop it right now!” At press time, sources confirmed that they knew deep down it was never going to stop.\n",
      "https://www.theonion.com/report-make-it-stop-1822874962  working!\n"
     ]
    },
    {
     "name": "stderr",
     "output_type": "stream",
     "text": [
      "\r",
      " 55%|████████████████████████████████████████████▌                                    | 55/100 [00:39<00:29,  1.52it/s]"
     ]
    },
    {
     "name": "stdout",
     "output_type": "stream",
     "text": [
      "SAN DIEGO, CA—Admitting that filling the positions had proven far more difficult than expected, a local coed softball team confirmed Thursday that they were struggling to find enough hyper-competitive men to ruin their rec league experience. “We managed to get Derek on the team, who goes ballistic and slams the bat on the ground after every strikeout, but other than that we haven’t been able to convince a single explosively combative douchebag to join,” said team captain Cody Adams, who claimed that efforts to recruit Trevor from his accounting department, who has multiple road-rage incidents, and Tyler from marketing, who screamed at a coworker in a meeting, both ended in failure when one wasn’t interested in softball and the other had a conflict with his flag-football team. “You’d think it would be easy to find two or three guys unhinged enough to almost come to blows with the umpire or scream at their teammates over minor mistakes, but nobody seems interested. It’s embarrassing because most other teams we play have at least five total fucking dicks.” When asked to comment, the women on the team revealed that they believed the abusive prick quota had already been met.\n",
      "https://local.theonion.com/coed-rec-softball-team-having-trouble-finding-enough-hy-1828226290  working!\n"
     ]
    },
    {
     "name": "stderr",
     "output_type": "stream",
     "text": [
      "\r",
      " 56%|█████████████████████████████████████████████▎                                   | 56/100 [00:40<00:27,  1.60it/s]"
     ]
    },
    {
     "name": "stdout",
     "output_type": "stream",
     "text": [
      "https://local.theonion.com/brutalist-beaver-constructs-paul-rudolph-inspired-dam-1833665215  not working..\n"
     ]
    },
    {
     "name": "stderr",
     "output_type": "stream",
     "text": [
      "\r",
      " 57%|██████████████████████████████████████████████▏                                  | 57/100 [00:41<00:30,  1.40it/s]"
     ]
    },
    {
     "name": "stdout",
     "output_type": "stream",
     "text": [
      "Louisiana Gov. Bobby Jindal (R) said members of the Westboro Baptist Church face arrest if they try to protest funerals in his state for victims of the Lafayette movie theater shooting. \n",
      "The hate-mongering church has indicated it plans to protest the funerals, which begin Monday. The group considers mass shootings in the U.S. to be an act of God in retaliation for various sins.\n",
      "John Russell Houser shot 11 people Thursday during a 7 p.m. showing of “Trainwreck,” killing Mayci Breaux, 21, and Jillian Johnson, 33, before killing himself. Houser reportedly expressed admiration online for Westboro.\n",
      "\"If they come here to Louisiana, if they try to disrupt this funeral, we're going to lock them up,\" Jindal, a presidential candidate, said on CBS's \"Face The Nation\" Sunday. \"We're going to arrest them. They shouldn't try that in Louisiana. We won't abide by that here. Let these families grieve.\"\n",
      "Westboro members protest funerals to call attention to their own extremist views. Jindal already has issued an executive order that attempts to block Westboro members from protesting the funerals.\n",
      "\"They better not try that nonsense here,\" Jindal said.\n",
      "Some Lafayette residents have promised to form a human wall around the funerals to prevent any protests. Thousands of people have reportedly pledged to join.\n",
      "https://www.huffingtonpost.com/entry/jindal-westboro-baptist-protest-funeral-arrest_us_55b4f819e4b0a13f9d18d240  working!\n"
     ]
    },
    {
     "name": "stderr",
     "output_type": "stream",
     "text": [
      "\r",
      " 58%|██████████████████████████████████████████████▉                                  | 58/100 [00:42<00:32,  1.31it/s]"
     ]
    },
    {
     "name": "stdout",
     "output_type": "stream",
     "text": [
      "WASHINGTON ― Rep. Mike Coffman (R-Colo.) says he’s so torn about the presidential race this year that he might not vote at all.\n",
      "“I don’t know if I’ll cast a vote for president,” Coffman told a local TV affiliate in a Tuesday interview. “I’m not going to vote for Hillary Clinton or Donald Trump. I’m struggling with it like many other Americans.”\n",
      "The four-term congressman has been undecided throughout the election cycle, though he’s criticized the Republican presidential nominee in campaign ads. After a tape surfaced this month showing Trump making lewd comments about women, Coffman called on him to pull out of the race altogether.\n",
      "He said Tuesday he’s not a fan of Libertarian Gary Johnson, either, because he said “dumb things” on foreign policy.\n",
      "Coffman may not like his options, but skipping out on a presidential election is more than just bad optics for an elected official. There are plenty of reasons why he should vote ― including the fact that it’s a right generations of Americans struggled to have, and something people in other countries are still fighting for.\n",
      "Despite his dismay with Trump, Coffman has embraced some of the GOP nominee’s conspiracy theories in the past. Coffman was caught on camera at a private fundraiser in 2012 saying he didn’t know if President Barack Obama was born in the United States.\n",
      "“I don’t know that,” he said at the time. “But I do know this, that in his heart, he’s not an American. He’s just not an American.”\n",
      "Coffman apologized for his comments soon after.\n",
      "The Colorado lawmaker is running for reelection in one of the most competitive House races in the country. Once a GOP stronghold, his district has become a swing district with a growing Latino population, leading Coffman to shift to a more pro-immigration stance a few years ago. His Democratic challenger, state Sen. Morgan Carroll, also stands to benefit from more Democratic voters turning out than Republicans. Clinton is currently leading Trump in the state by 5 points, per HuffPollster.\n",
      "https://www.huffingtonpost.com/entry/mike-coffman-donald-trump_us_580781ece4b0180a36e7b043  working!\n"
     ]
    },
    {
     "name": "stderr",
     "output_type": "stream",
     "text": [
      "\r",
      " 59%|███████████████████████████████████████████████▊                                 | 59/100 [00:43<00:34,  1.20it/s]"
     ]
    },
    {
     "name": "stdout",
     "output_type": "stream",
     "text": [
      "A House vote expected Thursday on the latest GOP attempt to repeal Obamacare got Seth Meyers going on Wednesday night.\n",
      "The “Late Night” host lambasted the Trump administration-backed bill because it would allow states to waive Obamacare protections for patients with pre-existing conditions. One study said that would make premiums skyrocket for people dealing with asthma, diabetes and even pregnancy, Meyers noted.\n",
      "“So basically, in order to afford having a baby, that baby would have to immediately get a job,” he quipped.\n",
      "There’s more humor in Meyers’ “Closer Look” segment above, which begins in earnest at the 2:25 mark.\n",
      "https://www.huffingtonpost.com/entry/donald-trumps-latest-attempt-to-repeal-obamacare-makes-seth-meyers-sick_us_590aeface4b0bb2d0875637d  working!\n"
     ]
    },
    {
     "name": "stderr",
     "output_type": "stream",
     "text": [
      "\r",
      " 60%|████████████████████████████████████████████████▌                                | 60/100 [00:43<00:27,  1.46it/s]"
     ]
    },
    {
     "name": "stdout",
     "output_type": "stream",
     "text": [
      "https://www.theonion.com/suicide-bombing-can-parents-spot-the-warning-signs-1819586527  not working..\n"
     ]
    },
    {
     "name": "stderr",
     "output_type": "stream",
     "text": [
      "\r",
      " 61%|█████████████████████████████████████████████████▍                               | 61/100 [00:43<00:22,  1.71it/s]"
     ]
    },
    {
     "name": "stdout",
     "output_type": "stream",
     "text": [
      "WASHINGTON—In an urgent warning posted online Wednesday by the U.S. State Department, American citizens traveling to the Netherlands were strongly advised to avoid the “extremely lame” Amsterdam windmill tour. “We have received specific information from credible sources suggesting that this tour is a stupid waste of time, and we advise U.S. citizens not to blow any of their money on it under any circumstance,” the alert read in part, cautioning that the historic wooden structures, while quintessentially Dutch, are not nearly as large or impressive as one might expect, and that “once you’ve seen one, you’ve pretty much seen them all.” “We highly recommend that Americans alter their plans accordingly to avoid the lousy five-hour excursion to visit a bunch of dumb windmills. U.S. citizens should be aware that by taking the tour, they put themselves at significant risk of being bored as hell.” State Department officials added that if any travelers find themselves ripped off by an afternoon-long windmill tour that doesn’t even include lunch, they should contact the U.S. embassy immediately.\n",
      "https://www.theonion.com/state-department-warns-americans-traveling-abroad-to-av-1819578957  working!\n"
     ]
    },
    {
     "name": "stderr",
     "output_type": "stream",
     "text": [
      "\r",
      " 62%|██████████████████████████████████████████████████▏                              | 62/100 [00:45<00:29,  1.29it/s]"
     ]
    },
    {
     "name": "stdout",
     "output_type": "stream",
     "text": [
      "America has been called the melting pot -- the idea is that we're a blend of cultures. Portugal does a better job of showing how it's done, with influences including the ancient Romans, the Celts, the Visigoths, the Moors, the Spanish, the French and, thanks to Vasco de Gama, India and Brazil (he opened the sea route to the first and discovered the second). \n",
      "Of course, Portugal's been at it longer than we have. This western sliver of Europe predates America by a good many centuries, and you feel it and see it everywhere, with towns dominated by ancient palaces and monasteries. Lisbon pulsates with a more modern vibe, but its shops and cocktail bars are perched along narrow, steep medieval cobblestone streets that charm the spirit and wreck the shoes. Living with a physical sense of past gives a sense of perspective, of a people who've gotten through tough times before. For Portugal, tough times include invasions by just about everyone, the Plague, the Spanish Inquisition, Portugal's own dictator or two, the earthquake which all but demolished Lisbon in 1755 and the country's sputtering economy now. \n",
      "Portuguese cuisine reflects all of that, a mashup of cultures, a marathon of history. Vindaloo, the tangy, spiced curry from India's Goa region, got its name from the Portuguese term vinha de albos -- wine vinegar and garlic. Wine vinegar and garlic add zip to many mainstays of traditional Portuguese cookery, the sturdy stews and bread-thickened soups, budget-friendly, belly-filling dishes for hunkering down and seeing out tough times. Most feature pork, sausage, seafood and eggs. For that, your source should be James Beard Award-winner David Leite. Vegan is more of a challenge, but not impossible. There's even Vegoa, a fledgling vegan community in the Algarve region. \n",
      "From this mashup of cultures comes one great mashup of a dish -- migas. Pronounce it with a Portuguese accent -- migash, it's comfort food as old a Portugal and a prime example of poor man's cookery. Take a handful of basic ingredients, including stale bread (migas means crumbs), olive oil, garlic and greens, and ten minutes later, you have something amazing. \n",
      "The story goes Portuguese shepherds from centuries past created it to feed their bellies when they were out in the field -- quite literally -- with their flock. There were no cell phones, there were no Uber Eats, there was no packaged food. When they were hungry, they mashed up what they had for a delightfully unrefined dish. \n",
      "Some make it thick, moist and porridgey, others go for a dryer migas, more like a bread-based scramble. Migas in every form welcomes all kinds of add-ins-- including vegan options like chopped red pepper, onions, cilantro, tomatoes or tremoços (Portuguese supersized lupini beans. Zing it up with piripri (Portuguese chili, vinegar and garlic sauce), but it's not meant to be elegant At its most pure and simple, migas is a belly-filling sheepless treat replete with kale or collards -- they grow everywhere in Portugal. It's quick, easy, green and gutsy, the perfect restorative after holiday excess. Traditionally served at breakfast, it's good any time of day.\n",
      "Old as it is, Portugal has embraced some aspects of modernity that put us in the shade. Much of the country is powered by green, renewable energy, with rows of windmills atop hillsides. But it keeps its traditions and past alive, too. We can all learn from the past. We can learn from each other. Migas is a keeper.\n",
      "\n",
      "MigasIn Portugal, migas is made with stale broa, a dense, crusty, yeasted cornbread, very far from the fluffy quick bread we call cornbread here. You can substitute any day-old artisanal loaf. 2 tablespoons olive oil3 garlic cloves, minced (about 1 tablespoon)2 cups dry bread, coarsely crumbled (a few slices)2 cups kale or collards, sliced into skinny ribbons, or, okay, if you must, blitzed in a food processor1 to 2 tablespoons water or vegetable broth, plus more to tastesea salt and pepper to tasteIn a large skillet, heat olive oil over medium-high heat. Add minced garlic and stir with a large wooden spoon for about 3 minutes, until it turns fragrant and golden.Crumble in the stale bread. Stir for a minute or two, so the bread toasts and gets garlicy. Add the kale or collards by the handful and splash in the water or broth. Continue cooking and stirring, for another 5 minutes or so, until the greens wilt, grow tender and deepen in color. Season generously with sea salt and pepper and you're done. Behold a scramble-type migas. If it's a soupier, more porridgey migas you're after, add 1 cup of water or broth and stir together for a few more minutes until heated through. Serves 2 generously, and of course you may double the recipe. \n",
      "More at soulfulvegan.com. \n",
      "https://www.huffingtonpost.com/entry/meatless-monday-portugues_b_13650948.html  working!\n"
     ]
    },
    {
     "name": "stderr",
     "output_type": "stream",
     "text": [
      "\r",
      " 63%|███████████████████████████████████████████████████                              | 63/100 [00:46<00:31,  1.18it/s]"
     ]
    },
    {
     "name": "stdout",
     "output_type": "stream",
     "text": [
      "You can officially send a Facebook message to President Barack Obama himself using the social network’s messenger tool, the White House announced Wednesday. \n",
      "Sending letters to the president is nothing new — in fact, people have been doing it since the age of Thomas Jefferson, the White House noted in a press release. But with the rise of Facebook Messenger, which hit 900 million users in 2016, the executive branch has decided to take advantage of the accessibility of instant messaging.\n",
      "“Face-to-face time is a little harder to come by these days, but technology makes it possible for anyone with an internet connection to send a message to the President and his Administration,” Jason Goldman, chief digital officer of the White House, wrote in the press release. It’s “as easy as messaging your closest friends.”\n",
      "Goldman worked with Joshua Miller, the White House’s director of product management, to create a Messenger bot specifically for the president’s Facebook, according to Fast Company.\n",
      "Here’s how it works: Once you open a chat box to message the White House, the bot will greet you. After you hit “Let’s go!” you’ll be prompted for your message to the president. Once you compose your message and hit send, the bot will forward your message to the White House’s Office of Presidential Correspondence.\n",
      "Unfortunately, there’s no guarantee that Obama will read your message. But there is a small chance that it could be one of 10 the president plans to read each night.\n",
      "Since 2009, the Office of Correspondence has sifted through all of the president’s letters each day, choosing 10 for him to read that night. The Office of Correspondence has even posted some of their favorite letters to their “Letters to President Obama” Tumblr account. \n",
      "The creation of the Messenger bot is just one of the many ways the White House has been using social media to connect with American citizens. The executive office runs accounts across multiple sites, including Facebook, Twitter and Instagram. The First Lady even created her own Snapchat account. \n",
      "On digital platforms, “people expect to have a conversation about the things that matter to them as opposed to just receiving press releases or just receiving talking points,” Goldman said in a White House Q&A. “People expect more human moments, more conversational moments, less being talked to and more being talked with.”\n",
      "Of course you can still send handwritten letters to the Oval Office, but if you’re averse to snail mail (or you just don’t want POTUS to see your terrible handwriting), sending a message on Facebook might just be the most convenient way to get in touch with the president. And who knows, you might even get a response. \n",
      "https://www.huffingtonpost.com/entry/message-obama-on-facebook-messenger_us_57ab9657e4b0ba7ed23ee736  working!\n"
     ]
    },
    {
     "name": "stderr",
     "output_type": "stream",
     "text": [
      "\r",
      " 64%|███████████████████████████████████████████████████▊                             | 64/100 [00:46<00:25,  1.43it/s]"
     ]
    },
    {
     "name": "stdout",
     "output_type": "stream",
     "text": [
      "KUALA LUMPUR, MALAYSIA—Saying they have endured heart-wrenching uncertainty and deserved definitive answers, the families of passengers aboard missing Malaysia Airlines flight 370 expressed hope Wednesday that the media will eventually receive some kind of closure regarding the plane’s mysterious disappearance. “This has been an extremely difficult time for the reporters and anchors covering this event; they have put their lives on hold over the past 10 days and we know they won’t be able to move forward until they learn the fate of this airliner,” said Sarah Wan, speaking on behalf of the relatives and loved ones of the 239 missing individuals, who remain hopeful that some sort of resolution will be reached for the sake of the various news networks and websites. “The conflicting reports and numerous remaining unanswered questions have been devastating for them. It’s not surprising that they are obsessing around the clock, wondering what could have possibly occurred on board that flight. I don’t know how they are able to stay so resilient, grasping at every new statement or bit of information that trickles out. Our thoughts and prayers go out to them.” Wan said there was still a chance the plane may have been hijacked and the passengers aboard had been taken hostage, but she didn’t want to unfairly get the media’s hopes up.\n",
      "https://www.theonion.com/families-of-missing-flight-passengers-just-hoping-media-1819576316  working!\n"
     ]
    },
    {
     "name": "stderr",
     "output_type": "stream",
     "text": [
      "\r",
      " 65%|████████████████████████████████████████████████████▋                            | 65/100 [00:46<00:21,  1.66it/s]"
     ]
    },
    {
     "name": "stdout",
     "output_type": "stream",
     "text": [
      "https://www.theonion.com/fender-releases-new-hybrid-gas-electric-guitar-1819592762  not working..\n"
     ]
    },
    {
     "name": "stderr",
     "output_type": "stream",
     "text": [
      "\r",
      " 66%|█████████████████████████████████████████████████████▍                           | 66/100 [00:47<00:20,  1.69it/s]"
     ]
    },
    {
     "name": "stdout",
     "output_type": "stream",
     "text": [
      "COLUMBUS, OH—In a last-ditch effort to win a few more votes in the key swing state of Ohio, Mitt Romney campaign volunteers made door-to-door visits to homes of registered Democrats on Monday to personally let them know that the president had died. “This is very difficult to say, but yeah, Barack Obama actually died early this morning, so he’s not running for president anymore,” Romney supporter Marcia Higgins reportedly told a family of four, calling the president’s sudden death “extremely tragic,” but adding that it’s important for voters to keep the fact that he died in mind when they go to the polls tomorrow. “You didn’t hear? Oh, yeah, it was totally sudden. Heart attack or something. Crazy. But anyway, I just wanted to let you know that Barack Obama, the man you were planning on voting for, has passed away, and Mitt Romney is still alive, so…” When asked how Obama could be dead when he was currently on television giving a stump speech in Wisconsin, Higgins said the footage “must be from yesterday or something, because the president is definitely dead now.”\n",
      "https://politics.theonion.com/romney-volunteers-going-door-to-door-to-let-obama-suppo-1819574145  working!\n"
     ]
    },
    {
     "name": "stderr",
     "output_type": "stream",
     "text": [
      "\r",
      " 67%|██████████████████████████████████████████████████████▎                          | 67/100 [00:48<00:27,  1.19it/s]"
     ]
    },
    {
     "name": "stdout",
     "output_type": "stream",
     "text": [
      "Planes have been dropping out of the sky at an alarming rate recently. I don't know what portents such omens signify, but the media certainly has had no lack of videos of debris fields to show, that's for sure.\n",
      "Back in Washington, we have one week to go before the opening of \"Silly Season 2014,\" an annual event brought on by hordes of political reporters scrambling around, devoid of actual stories, while Congress is away on its six-week vacation. What will the main Silly Season story become, for pundits to endlessly obsess over this August? Your guess is as good as mine. Several candidates have already popped up (\"Hey, let's all talk about impeachment!\" for starters), but perhaps some lonely town hall meeting (with some hapless member of Congress) somewhere in the hinterlands will provide the fodder for this year's Silly Season obsession -- hopefully, with an epic rant caught on video!\n",
      "But before we get there, Congress actually has one more week of \"work\" scheduled. They've got a lot on their plate, and it's looking like nothing much will get accomplished. \"Border crisis!\" was the rallying cry a few weeks ago, but the House can't agree on anything to do to fix it, so they'll likely not manage to pass anything. Likewise, few expect any action on immigration reform itself. The only thing the House may accomplish is to vote to go ahead and sue President Obama. Such is the state of modern politics. Call it fear of legislating.\n",
      "House Republicans face a very basic conundrum on the border crisis. Two of their bedrock beliefs are clashing with each other, which is why they can't agree on any concrete plan. You see, when you want government to do something that you consider worthwhile, you actually have to pay for it. Need more Border Patrol agents? It costs money. More fences? More money. Waiting time for judicial hearings too long? That can be fixed, but it's going to cost money. However, Republicans believe that smaller government is always better, and budgets should always be cut, not increased. Which is why they're in such a bind on the border. They really want to live in a magical world where spending less on a problem solves it faster. Since reality doesn't work like this, they can't agree on any plan to address the problem. Instead, the House Republicans collectively are going to have a sort of nervous breakdown. That's what's on schedule for next week, at any rate.\n",
      "In hopefully-unrelated news, a Republican staffer was arrested for bringing a handgun to work. Representative Tom Marino's press secretary is being charged with a felony, and has been placed on unpaid leave in the meantime.\n",
      "Out in Kentucky a very Republican town came up with a novel idea to fight high gas prices: open a government gas station! That is some original thinking, as we've never before heard of such a tactic being used in this fashion by an American town. The town of Somerset is near a popular recreational lake, and the gas stations in town apparently upped their prices to fleece the tourists. Locals weren't amused. They now seem delighted with the mayor's plan to sell gas with only a small markup to cover costs -- the town is explicitly not trying to make a profit. Local gas station owners aren't happy, and are calling the move \"socialism,\" so it'll be interesting to see how this all plays out. Perhaps more towns will consider the idea, especially after hearing how delighted this town's customers/constituents are.\n",
      "Republican hawks got a slap in the face this week, as the House overwhelmingly passed a resolution stating that before President Obama sends any more troops to Iraq, he should consult Congress. Since Congress is unlikely to approve, this was a strongly anti-war vote, with a very bipartisan 370-40 split. \n",
      "Paul Ryan is attempting to address poverty, once again. What he's really doing is trolling the media to write \"compassionate conservative\" columns about him (which, so far, doesn't seem to be working very well), to bolster his chances to get the Republican presidential nomination.\n",
      "Let's see, what else? The chief judge of the 9th Circuit Court wrote some astonishing things about capital punishment this week, stating that using drugs to execute people is \"a misguided effort to mask the brutality of executions by making them look serene and beautiful\" when in fact they are \"brutal, savage events\" which should not be masked in any way. \"I've always thought that executions should be executions -- not medical procedures,\" the judge told the Associated Press. His answer? Firing squads.\n",
      "Most of the media ignored it, but a great article from Jeremy Scahill and Ryan Devereaux appeared which exposed the criteria for being added to the \"no-fly list.\" Unsurprisingly, the standards are quite low for inclusion, something that has been long suspected.\n",
      "Netroots Nation happened, but sadly, we did not attend this year. R. J. Eskow at the Huffington Post has an excellent write-up, if you're interested in how it went.\n",
      "The marijuana researcher fired by the University of Arizona is still fighting to get her job back, or (alternatively) get another school interested in helping her perform the research on post-traumatic stress disorder in returning soldiers which she finally got governmental approval to conduct.\n",
      "The town of Warren, Michigan is being sued by an atheist because it allows a \"prayer station\" in City Hall's atrium, but turned down a request to set up a \"reason station\" alongside. Its mayor showed an astounding lack of knowledge of the First Amendment in his response, where he also equated atheism with Nazis and the Ku Klux Klan.\n",
      "Which brings us to our final story, which is an interesting historical fact from the first moon landing, which happened 45 years ago this week. Buzz Aldrin actually celebrated communion on the moon! NASA did not broadcast the ceremony, though (which is why we've never heard of it, we're guessing), because it was already being sued by Madalyn Murray O'Hair over Apollo 8's broadcast of the astronauts reading from the book of Genesis.\n",
      "Sadly, we have no Democrats who were impressive enough to get an award this week, so we will not be presenting the coveted Most Impressive Democrat Of The Week this time around.\n",
      "Instead, we're creating an alternative Most Impressive Opinionator Of The Week award, and handing it to Catherine Rampell for an article she wrote for the Washington Post. This absolutely brilliant article is well worth reading in full, but can be summed up (like all strokes of genius) very simply: if corporations are people, then people must be corporations. Which means people should be able to avail themselves of all the juicy corporate-welfare tax breaks given to corporate legal entities.\n",
      "It's pretty easy to follow this train of thought down some very interesting tracks. We'd start by allowing individuals to only be taxed on their profits instead of their income, personally. Rampell gives several other good examples in her piece.\n",
      "As we said, the idea is absolutely stunning in its simplicity. For such a brilliantly original idea, we're giving Catherine Rampell the first-ever Most Impressive Opinionator Of The Week award. Perhaps, in the future, we'll award other MIOOTW awards when faced with similar \"Wow, I wish I had thought of that!\" moments. For now, we're doing what we can to help the idea go viral. \"If corporations are people, then I deserve the same tax breaks they get!\" should become a national rallying cry among the public.\n",
      "[Congratulate Catherine Rampell via her author page at the Washington Post, to let her know you appreciate her efforts.]\n",
      "We have two people worth mentioning this week.\n",
      "We're not entirely sure this guy's a Democrat, but he certainly deserves some public shaming. Adam Eidinger, chair of the D.C. Cannabis Campaign, met this week with the chief of staff to the House Republican who has been very heavy-handed in thwarting the will of the voters of D.C. when it comes to relaxing marijuana laws in the District. Now, we're as against what Representative Andy Harris is doing as much as the next fellow, but there are certain lines you just do not cross in politics. One of these is \"don't casually talk about armed revolution or terrorism\" when trying to convince an elected official to change his ways.\n",
      "Eidinger uttered what can only be read as a threat, saying: \"the next step will be civil disobedience and then after that, you're talking about terrorist organizations. Do you want a terrorist organization in Washington, D.C.?\" After being told he might want to tone down his rhetoric, Eidinger answered back:\n",
      "I would suggest that you take democracy more seriously, OK? Because that's what happens in other countries when they don't provide local democracy -- people take up arms. And since I think your member is a pro-gun nut and thinks guns should be in everyone's hands -- if that's the case, then I think maybe we should call up some militia types and come here and defend the local democracy.\n",
      "This is Exhibit A in \"how not to lobby an elected official,\" folks. Threatening armed revolution is not the way to convince anybody of anything. Eidinger should be forced to resign from his leadership of the D.C. Cannabis Campaign, at the very least.\n",
      "But this week's winner of the Most Disappointing Democrat Of The Week is John Walsh, senator from Montana, who was caught in a plagiarism scandal this week by the New York Times. To achieve a master's degree from the Army War College, Walsh cut-and-pasted a large part of his final paper from other sources, without attribution. This, unfortunately for Walsh, happened right before a week in which he was supposed to shine.\n",
      "Walsh has only been a senator for a short time, since he was appointed to take the seat Max Baucus vacated (to become ambassador to China). He is in a very tough race to get elected back to the Senate -- a race we now consider to be a foregone conclusion. Walsh has, to be blunt, not responded well to the scandal so far.\n",
      "He still has time to step down and let another Democrat have a shot at retaining this Senate seat, which at this point might be the best option for all concerned -- especially if the War College decides to yank his master's degree. What happens next is up to Walsh, but for the time being he has earned this week's Most Disappointing Democrat Of The Week award.\n",
      "[Contact Senator John Walsh on his Senate contact page, to let him know what you think of his actions.]\n",
      "Volume 313 (7/25/14)\n",
      "This week's talking points are all over the map. You'd think things would be a little more focused, politically, in the week right before Congress takes their usual Brobdingnagian August vacation, but you'd be wrong.\n",
      "Here are this week's offerings, peripatetic though they may be, for Democrats everywhere, whether appearing on Sunday morning political chatfests or just talking with your relatives at the beach house.\n",
      " I hereby incorporate!\n",
      "This one is, as mentioned, a downright brilliant idea.\n",
      "\"If corporations are people, according to the Supreme Court, then people should be the equals of corporations in every way. It's got to be a two-way street, right? This means I shouldn't be taxed on any costs I have in living my life, such as buying a house -- or 'corporate headquarters,' I should say -- or paying bills, or any health care dollars I spend. Just like corporations, I should only pay taxes on my profits and not my whole income. It's only fair -- if corporations are people, then everyone should share the lavish tax breaks given to 'corporate persons.' Every American should automatically be considered to be a corporation from this point on, in fact.\"\n",
      " Obama's final gay rights action\n",
      "This was really the last thing on the list for gay activists, when it comes to what President Obama can accomplish on his own.\n",
      "\"Since the Republican House is incapable of action on just about anything, it doesn't look like the Employee Non-Discrimination Act is going to pass any time soon. I applaud President Obama for acting on his own this week to provide this important non-discrimination protection to all federal workers and all federal contractors. Sooner or later, this important advancement in civil rights will indeed become the law of the land for all, but for the time being the president has done what he can to ensure that all Americans are treated equally in employment.\"\n",
      " More good news for Obamacare\n",
      "Keep beating this drum, people.\n",
      "\"Yet another study was released this week on the effects of Obamacare, and it showed that 10 million people have acquired health insurance through Obamacare. Data continues to arrive showing the benefits of Obamacare. The interesting thing is that none -- that's none, mind you -- of the doom-and-gloom scenarios have appeared in all this data. All those things Republicans darkly warned about have not come to pass. Obamacare, just to pick one of these, is not a 'job-killer,' as a quick look at the last year's unemployment data plainly shows. For all the fear-mongering, we continue to see more new data showing the sky still hasn't fallen. Sooner or later, the public is going to realize how wrong Republicans really were about Obamacare.\"\n",
      " Thank you, Harry Reid\n",
      "I wrote a long and detailed article earlier this week which explains this concept more fully (as it is rather complicated).\n",
      "\"We had two decisions from a total of six federal appellate judges this week on whether Obamacare state exchanges are the legal equivalent of the federal exchange. Four of these judges agreed that it is idiotic to think otherwise, but two judges ruled that Congress really didn't mean that at all. The next step for the case where the Obama administration lost is to be heard by the full 11-judge D.C. Circuit Court, where it is expected the ruling will be overturned. This court consists of four judges appointed by Republicans and seven judges appointed by Democrats. But if Harry Reid hadn't used the so-called 'nuclear option' to break the logjam of Republicans filibustering every nominee in sight, the court might now have only been 4-to-4. So, while watching the federal Obamacare exchange case move to its next step, I'd like to say a hearty 'thank you' to Harry Reid for the current makeup of the D.C. Circuit Court.\"\n",
      " Makin' stuff up\n",
      "It's campaign season once again. Woo hoo!\n",
      "\"I see that Republicans running for office are already stooping to just flat-out lying out on the campaign trail. The Republican running for Senate in Arkansas is boldly taking credit for aid to farmers that he voted against. That takes a certain amount of brass, doesn't it? And out in Illinois, the Republican gubernatorial candidate is running one of those 'look at the scary newspaper headlines' campaign ads on television, but the only problem is that the campaign just went ahead and rewrote the headlines to say what they wanted. Don't like the headlines that were written? Well, why not just make stuff up instead? Better put on hip-waders, everyone, because if it's already getting this deep in July, imagine what things will be like come October!\"\n",
      " How many states will legalize this year?\n",
      "Many states decided to sit out this election, and instead make the push in the 2016 presidential year, but that hasn't stopped everyone.\n",
      "\"By the end of the year, voters in two more states -- and in Washington D.C. -- will get the chance to legalize recreational marijuana for adults. In November, both Alaska and Oregon may join Colorado and Washington in moving away from the War On Weed. This is an important step towards a much more rational policy nationwide. So far, political leaders at the national level have been reluctant to admit what is going on out in the states. But when 33 states have legalized some form of medical marijuana and as many as four might soon legalize recreational marijuana, it's pretty obvious that the people are indeed leading on this issue -- and sooner or later, the political leaders will follow.\"\n",
      " Even the protesters have given up\n",
      "We saved this one for last, just because.\n",
      "\"Every time you think Congress can't sink any further in public opinion, they surprise you by charting new lows. I refer to an article in the Washington Post whose title asks the question: 'Has Congress Gotten So Pathetic That Even The Protesters Aren't Bothering To Show Up?' Oh, well, I suppose we can all hope that some entertaining local protesters show up at a few town hall meetings next month. It's a sad day indeed when even the 'mad as Hell and not going to take it anymore' crowd gives up on Congress.\"\n",
      "Chris Weigant blogs at: \n",
      "\n",
      "Follow Chris on Twitter: @ChrisWeigant\n",
      "Become a fan of Chris on Huffington Post\n",
      "Full archives of FTP columns: FridayTalkingPoints.com\n",
      "All-time award winners leaderboard, by rank\n",
      "https://www.huffingtonpost.com/entry/friday-talking-points_b_5622497.html  working!\n"
     ]
    },
    {
     "name": "stderr",
     "output_type": "stream",
     "text": [
      "\r",
      " 68%|███████████████████████████████████████████████████████                          | 68/100 [00:49<00:29,  1.08it/s]"
     ]
    },
    {
     "name": "stdout",
     "output_type": "stream",
     "text": [
      "Meet Sparkle, the 2-year-old who is tearing up our hearts with her adorable outfits. \n",
      "The New Jersey native is arguably one of the most stylish kids around and has an Instagram account to prove it. The feed, run by her mom and dad, features the toddler in oversized hats, rompers and cheetah-print coats. While it may seem surprising that such a small person has so much style, when you look at her mother, Simone Gittens, it all makes sense.\n",
      "Gittens not only helps to dress her daughter up in trendy outfits, but she also runs a successful kids clothing site called Louis B Kids. Clearly, good taste is genetic. \n",
      "Also on HuffPost:\n",
      "https://www.huffingtonpost.com/entry/toddler-stylish_us_55d63489e4b07addcb46139b  working!\n"
     ]
    },
    {
     "name": "stderr",
     "output_type": "stream",
     "text": [
      "\r",
      " 69%|███████████████████████████████████████████████████████▉                         | 69/100 [00:50<00:25,  1.20it/s]"
     ]
    },
    {
     "name": "stdout",
     "output_type": "stream",
     "text": [
      "https://entertainment.theonion.com/hollywoods-biggest-stars-endure-long-lines-at-oscars-se-1819592089  not working..\n"
     ]
    },
    {
     "name": "stderr",
     "output_type": "stream",
     "text": [
      "\r",
      " 70%|████████████████████████████████████████████████████████▋                        | 70/100 [00:51<00:28,  1.06it/s]"
     ]
    },
    {
     "name": "stdout",
     "output_type": "stream",
     "text": [
      "House Democrats occupied the chamber floor Thursday morning in an hourslong sit-in to demand action on gun control. Among them was Rep. Debbie Dingell (D-Mich.), a woman who has experienced gun violence firsthand. \n",
      "\"I lived in a house with a man that should not have had a gun,\" she said in a chilling speech met with resounding applause. \"I know what it’s like to see a gun pointed at you and wonder if you are going to live. I know what it’s like to hide in a closet and pray to God, 'Do not let anything happen to me.'\" \n",
      "Dingell has spoken openly before about her history with domestic violence and proposed legislation last July to prevent abusers from owning firearms.\n",
      "It's illegal for those convicted of domestic assault to own or buy a gun. The law reflects current research that abusers who have access to guns are five times more likely to kill their victims. However, the law doesn't apply to those who are awaiting conviction-- even if they have a restraining order. It also doesn't apply to stalkers.\n",
      " Read more: Democrats Stage Sit-In On House Floor Over Gun Bills Protesters Gather Outside U.S. Capitol To Push For Vote On Guns Senate Democrats Bring Food To Support House Colleagues Conducting Sit-In On Gun Laws Democrats Finally Tried To Do Something About The Gun Bloodshed Democrats Cause Chaos On House Floor As Republicans Pretend Everything Is Fine You Will Never Be As Ecstatic As This Woman Delivering Pizzas To Rep. John Lewis \n",
      "https://www.huffingtonpost.com/entry/debbie-dingell-gun-control-domestic-violence_us_576baf2de4b0c0252e787081  working!\n"
     ]
    },
    {
     "name": "stderr",
     "output_type": "stream",
     "text": [
      "\r",
      " 71%|█████████████████████████████████████████████████████████▌                       | 71/100 [00:53<00:30,  1.06s/it]"
     ]
    },
    {
     "name": "stdout",
     "output_type": "stream",
     "text": [
      "Forget about an apple a day keeping the medical doctor away. \n",
      "If you want to do something to ensure your kids experience backed-by-research benefits like:\n",
      "· Higher self esteem\n",
      "· Better parent-child communication\n",
      "· Improved academic performance\n",
      "· Fewer psychological and behavior problems and\n",
      "· Better coping skills\n",
      "be sure to add copious amounts of affection and acceptance to the healthy foodstuffs you dole out daily.\n",
      "Need another reason? Parental warmth, affection and acceptance not only foster your child’s psychological development while they’re under your roof, it also impacts the quality of loving relationships they will have as adults.\n",
      "Learning to “love and be loved” is a fundamental part of being human for all of us. From it comes profound purpose for our lives. It’s what gives us the capacity to go out into the world, confident in our ability to navigate and perhaps even mitigate the complexities of daily life through our personal and professional contributions. For that, we need a secure attachment bond.\n",
      "Let’s start at the beginning….\n",
      "Early Attachment – Why it Matters\n",
      "From the moment of birth, the attachment bond a child develops with the primary caregiver (usually, but not always, the mother) becomes their framework for emotional wellbeing.\n",
      "Absolutely key to healthy development, the attachment bond is essentially a child’s ability to feel responded to by the parent or caregiver. When a child’s needs are consistently met at the early stages of life, parent and child grow to trust the other. A secure attachment based on that feeling is what enables kids to separate and differentiate when developmentally appropriate.\n",
      "Without it, kids can develop what’s called “learned helplessness,” which makes them (as children and later, without intervention, as adults) believe that adverse outcomes are not only to be expected, but also are not controllable or changeable by their own agency.\n",
      "I can’t overstate how critical parental affection and acceptance are for helping your children develop a secure attachment. Making them feel important, special and cared about – warts and all – is like dressing them in a Teflon® suit that makes it is safe to experiment, to express themselves and to imagine their potential.\n",
      "Best yet, even when those experiments fail…\n",
      "that creative expression doesn’t merit an audience beyond the living room…\n",
      "or their ideas to save the world are wildly immature and impractical…\n",
      "kids with a secure attachment know intrinsically they are still OK – great, even! Their worth and value isn’t defined by what they “do.” It’s their existential “being” that makes them worthy of their parents’ – and others’ – love.\n",
      "What Does Affection and Acceptance Look Like? \n",
      "Affection needs to be both broadly defined and responsive to your particular children’s needs and preferences.\n",
      "Mine? All three love and appreciate physical affection. But not every family – or every kid in every family – is the cuddly type. Be aware of the differences and uniqueness of each of your children. Give them warmth and affection that is meaningful to them – not that which comes easiest to you.\n",
      "While hugs, kisses and reassuring pats on the back are certainly meaningful demonstrations of love, there are a lot of non-physical actions that express parental love:\n",
      "· Relax on the couch and read or watch TV together\n",
      "· Sit with them and talk about their day (be sure you’re focus is on them, not on prepping dinner)\n",
      "· Build or create something together like a puzzle or model\n",
      "· Put a love note in a lunchbox or surprise them with a note on the bathroom mirror that they’ll see as soon as they get up\n",
      "· Acknowledge the characteristics that make them unique – not just those that replicate traits you like about yourself\n",
      "· When kids leave for overnight camp or college, hide small gifts and notes in their luggage\n",
      "· Thank them – even when they’re just doing their chores\n",
      "· Tell them, “I’m looking forward to seeing you after school,” so they come to know you think of them even when they’re not around\n",
      "Parental warmth and affection is an all-the-time activity, NOT JUST WHEN YOU FEEL LIKE IT. (Excuse the virtual screaming, but this is important.)\n",
      "We all get angry and frustrated with our kids, sometimes justifiably, sometimes not. But there is never a time when it’s appropriate for a parent to withhold love and acceptance from a child. We need to model that it’s possible to both love our children and be furious with them.\n",
      "Angry kids often say, “I hate you!” to their parents. Rather than hurling a similar invective, parents need to say, “I understand. I may not like the behaviors I’m seeing, but I still love you.”\n",
      "If you have teens, you may have noticed that they’ve become less amenable to affection – particularly from the opposite sex parent. But I promise you that teens don’t age out of the need for your warmth and affection. This is especially true when they act in ways that make them hard to love. So the next time your sullen and sarcastic teen starts to steal out the door after a fight, remember to say, “I love you, be safe.” Those moments matter.\n",
      "No parent is immune to lapses on occasion. In Chicago Tribune columnist’s Heidi Stevens’ recent essay, she admits she’d noticed that the easy delight she’d expressed when her kids were little ones was starting to become “more connected to performance” now that were school-aged. Her personal pledge to “light up” every time she sees her kids is something all of us can emulate.\n",
      "Why Modeling Adult Affection and Care Matters\n",
      "Think back to when you were a child. Do you remember seeing your parents hug and kiss, crack one another up, or maybe even dance together? On the surface, you may have felt anything from embarrassment to delight, but at a deeper level seeing one’s parents express affection for one another makes kids feel safe and loved.\n",
      "Unbeknownst to you – and maybe even to your parents – they were also modeling what to aspire to when it comes to adult relationships.\n",
      "Here’s the thing: It’s easy for parents to forget that it only works if we model it. We have an assumed parity regarding roles and responsibilities (e.g., you cook, I clean). “Thanks, dear,” is understood. But kids aren’t privy to your adult conversations when you divvy up chores…or the bedtime chats when you take time to connect. So if kids don’t hear or witness expressions of appreciation and love between their parents, they either presume they don’t happen – or that they aren’t central to a healthy relationship.\n",
      "That’s why the tacit must become explicit.\n",
      "Here’s extra incentive.\n",
      "Children grow up to treat their partners as they saw their parents treat one another. If we’re inattentive, dismissive or non-affectionate to our mates – intentional or not – that becomes our kids’ blueprint of what to expect when they partner up. And who wants that for their children? No one I know.\n",
      "So what is appropriate behavior for parents to model?\n",
      "· Stop what you’re doing and greet your partner when she or he walks in the door\n",
      "· Display affection (hugs, kisses, even just a big smile)\n",
      "· Be courteous to one another; say “Please” and “Thank you”\n",
      "· Let your kids hear you acknowledge one another’s successes\n",
      "· Express empathy when a parent has had a rough day\n",
      "· Communicate your appreciation for your partner’s small kindnesses in front of the kids Still not convinced?  Remember, the goal of parents is to launch their kids after 18 years. The partner? That’s the one we want to keep! So not only does expressing love and appreciation for our partners help our kids, it keeps adult love connections alive as well.\n",
      "Trust me, there’s enough love to go around. Make sure you express it daily and with gusto!\n",
      "https://www.huffingtonpost.com/entry/how-to-raise-kids-who-can-love-and-be-loved_us_587d2d2fe4b0b2a4c83ddee0  working!\n"
     ]
    },
    {
     "name": "stderr",
     "output_type": "stream",
     "text": [
      "\r",
      " 72%|██████████████████████████████████████████████████████████▎                      | 72/100 [00:54<00:31,  1.11s/it]"
     ]
    },
    {
     "name": "stdout",
     "output_type": "stream",
     "text": [
      "Arianna Huffington does it. Mark Zuckerberg does it. Even President Obama does it. \n",
      "They all stand up, get out of their offices and walk.\n",
      "Walking meetings have been linked to increased productivity and boosts in morale, and have been credited as the catalyst for some major business deals. Remember: Zuckerberg and WhatsApp co-founder Jan Koum hiked around Silicon Valley together before agreeing on their $19 billion deal this year.\n",
      "In her new book Thrive: The Third Metric to Redefining Success and Creating a Life of Well-Being, Wisdom, and Wonder, Huffington explains how walking al fresco has helped her navigate life's many challenges, from launching sections of The Huffington Post to giving birth to her first child.\n",
      "Still not convinced to get up and start walking? Listen to Huffington's take:\n",
      "Podcast produced by Amber Genuske and Rebecca Adams.\n",
      "You can download the full audiobook for Thrive: The Third Metric to Redefining Success and Creating a Life of Well-Being, Wisdom, and Wonder here. For more Thrive podcasts, check out HuffPost on Soundcloud.\n",
      "https://www.huffingtonpost.com/entry/walking-meetings-productive_n_5333120.html  working!\n"
     ]
    },
    {
     "name": "stderr",
     "output_type": "stream",
     "text": [
      "\r",
      " 73%|███████████████████████████████████████████████████████████▏                     | 73/100 [00:55<00:31,  1.18s/it]"
     ]
    },
    {
     "name": "stdout",
     "output_type": "stream",
     "text": [
      "Richard Cordray, the former head of the federal Consumer Financial Protection Bureau, won the Democratic nomination for governor of Ohio on Tuesday, fending off a challenge from former presidential candidate and House member Dennis Kucinich.\n",
      "Sen. Elizabeth Warren (D-Mass.) hand-picked Cordray, a former Ohio attorney general, to run the CFPB and raised money for his campaign. Cordray will face Ohio’s current attorney general, Republican Mike DeWine, in the general election race for the governor’s job. Incumbent John Kasich (R) is term-limited.\n",
      "Kucinich ran heavily on his support of Medicare-for-all and won the support of the progressive group Our Revolution, which grew out of Vermont Sen. Bernie Sanders’ presidential campaign. (Sanders himself did not endorse Kucinich.)\n",
      "Kucinich also attacked Cordray for his past support of gun rights, which earned Cordray an ‘A’ rating from the National Rifle Association when he was attorney general. Cordray now supports universal background checks. \n",
      "Cordray’s campaign fought back with television ads showing former President Barack Obama praising him. \n",
      "“Rich took on payday lenders, big banks and student loan schemes that profit at your expense,” a female narrator says in the ad. “And he won.”\n",
      "DeWine defeated Lt. Gov. Mary Taylor in $10 million GOP primary that featured both candidates aligning themselves with President Donald Trump.\n",
      "DeWine is a former U.S. senator who ousted Cordray from the attorney general post in 2010. He begins the race as a slight favorite in a state where Trump scored a nine-percentage-point win in 2016. \n",
      "https://www.huffingtonpost.com/entry/cordray-wins-ohio-primary_us_5af20ddbe4b0aab8a789ebad  working!\n"
     ]
    },
    {
     "name": "stderr",
     "output_type": "stream",
     "text": [
      "\r",
      " 74%|███████████████████████████████████████████████████████████▉                     | 74/100 [00:56<00:29,  1.13s/it]"
     ]
    },
    {
     "name": "stdout",
     "output_type": "stream",
     "text": [
      "A Pittsburgh man literally got an earful during an argument about President Donald Trump on Monday when he bit off another man’s ear, police said.\n",
      "Police said they were searching for the suspect in the Mike Tyson-style attack, which happened in the victim’s apartment around 6:45 a.m. Monday. Police said they know the identity of the assailant.\n",
      "The victim, a 30-year-old man whose name wasn’t released, was taken to UPMC Presbyterian hospital, along with a chunk of his right ear recovered by officers from the apartment, police spokeswoman Emily Schaffer told HuffPost. It wasn’t clear whether doctors would be able to reattach what she said was “a significant portion of the ear.”\n",
      "Schaffer said she didn’t know whether the victim was on the pro-Trump or anti-Trump side of the argument.\n",
      "https://www.huffingtonpost.com/entry/trump-ear-bite_us_58864fa2e4b096b4a2339cdb  working!\n"
     ]
    },
    {
     "name": "stderr",
     "output_type": "stream",
     "text": [
      "\r",
      " 75%|████████████████████████████████████████████████████████████▊                    | 75/100 [00:57<00:23,  1.06it/s]"
     ]
    },
    {
     "name": "stdout",
     "output_type": "stream",
     "text": [
      "ST. PAUL, MN—Wondering how anyone could read the articles in such publications and not recognize them as “total establishment propaganda,” local man Mark Furlong, a longtime reader of Lib-Slaves.info, told reporters Monday he was sick and tired of the obvious mainstream biases on news sites like WideAwakePatriot.com. “You wouldn’t believe the nonsense WideAwakePatriot and ArmedLibertyNews are pushing about how the world elites meet in Davos, Switzerland to rig the global economy, when if you actually paid attention to the facts the mainstream media doesn’t want you to know about, you’d realize that the actual power players of the Jew World Order meet every day in Los Angeles to design their doomsday compounds and determine new methods to control us,” said the 36-year-old, who praised Lib-Slaves.info for offering honest reporting of current events, explaining that he was thankful he wasn’t one of the “sheep” who blindly believe the misinformation that WideAwakePatriot.com was intentionally spreading to push its ruling-class agenda. “It’s so frustrating to see so-called journalists claiming that John Podesta’s hacked emails show his involvement in child prostitution, when in reality, they’re a clear indication of his membership in a D.C.–wide cannibalism ring. But you’re never going to get the full picture from the biased reporters at WideAwakePatriot.com. You can’t believe a site like that.” At press time, Furlong was bemoaning the gross incompleteness of a list of people the Clintons had murdered on a message board at UncuckedSentinel.net.\n",
      "https://politics.theonion.com/longtime-reader-of-lib-slaves-info-sick-of-mainstream-b-1819579461  working!\n"
     ]
    },
    {
     "name": "stderr",
     "output_type": "stream",
     "text": [
      "\r",
      " 76%|█████████████████████████████████████████████████████████████▌                   | 76/100 [00:57<00:18,  1.30it/s]"
     ]
    },
    {
     "name": "stdout",
     "output_type": "stream",
     "text": [
      "https://www.theonion.com/beijing-fire-department-extinguishes-massive-five-alarm-1819592400  not working..\n"
     ]
    },
    {
     "name": "stderr",
     "output_type": "stream",
     "text": [
      "\r",
      " 77%|██████████████████████████████████████████████████████████████▎                  | 77/100 [00:58<00:18,  1.21it/s]"
     ]
    },
    {
     "name": "stdout",
     "output_type": "stream",
     "text": [
      "By Hong Soon-do, Beijing correspondent, AsiaToday \n",
      "China is intensifying pressure on North Korea as crisis on Korean Peninsula is getting more dangerous in August. It seems that China is rushing to actively check the North with the belief that there will be nothing good about it if the tensions between the North and the U.S. actually lead to military clashes. \n",
      "Chinese Foreign Minister Wang Yi recently urged North Korea to actively respond to the United States' \"Four Nos\" principle - in which the U.S. does not seek regime change, the collapse of the regime, an accelerated reunification of the Peninsula or an excuse to send the US military into North Korea. According to the Western sources in Beijing on Thursday, the principle was revealed by the U.S. secretary of State Rex Tillerson at the 7th East Asia Summit Foreign Ministers' Meeting in Manila, Philippines, on August 7. Ri Yong-ho, the North's foreign minister, has not shown a positive attitude in response. \n",
      "But China's position is completely different. In a way, China views that the 'Four Nos' principle as the most appropriate and well-balanced change in U.S. attitude toward 'peace and stability on the Korean Peninsula', which has been always emphasized by itself. No wonder China is strongly pressuring North Korea to accept it. \n",
      "China's ambassador to North Korea recently said, \"The missile launch test violates the Security Council's resolution on North Korea. China has no choice but to take the same stance as the international community.\" This remark should be also seen as a part of China's pressure on the North. It's a kind of warning that the North will face more severe sanctions if the North launches additional missiles in the future. It also means that the North should be careful about its Hwasong-12 missile threat on Guam, a US territory in the Pacific. \n",
      "China seems to be also considering military and economic options if North Korea continues to ignore its advice. In fact, China has recently conducted large-scale military drills in Yellow Sea and the North-China borders. Besides, the sources say that China is also reviewing to cut oil supplies to North Korea for a long time. China's firm attitude won't change if the North does not take enough measures to relieve tension on the Korean Peninsula. Perhaps, the U.S.' complaint that China isn't doing more to stop North Korea is exaggerated. \n",
      "+ This article was originally published on AsiaToday. (See original version)\n",
      "https://www.huffingtonpost.com/entry/china-intensifies-pressure-on-north-korea_us_598c2f38e4b08a4c247f287c  working!\n",
      "https://www.huffingtonpost.comhttp://www.politico.com/story/2016/06/bernie-sanders-not-over-223996  not working..\n"
     ]
    },
    {
     "name": "stderr",
     "output_type": "stream",
     "text": [
      "\r",
      " 79%|███████████████████████████████████████████████████████████████▉                 | 79/100 [00:59<00:15,  1.35it/s]"
     ]
    },
    {
     "name": "stdout",
     "output_type": "stream",
     "text": [
      "Definition: Sheeping is mindlessly following the others when you actually know the right actions and behaviors but don't want to assume responsibility for them.  \n",
      "On June 1st 1999, American Airlines Flight 1420 was coming in for landing at Little Rock airport in Arkansas amidst raging thunderstorms and severe winds. As they tried to line up with the runway for landing, dangerous crosswinds hit the airplane and the storm changed directions fast several times. The crew and passengers realized they were in serious danger. The pilots decided to land by making a visual approach but heavy rain and dark clouds obscured the runway. Visibility fell drastically as the plane descended. Finally, the plane hit the tarmac violently. Traveling at over 100 MPH, the aircraft ran off the end of the runway and slammed into a steel walkway. The plane was ripped into pieces. Ten passengers died in the crash, including the captain. The passengers who were still alive struggled to get out before the plane was engulfed by fire. \n",
      "\n",
      "The deeper investigators looked, the more they found extraordinary evidence that flying into thunderstorms was a widely spread habit throughout the entire industry. Experts from NASA and MIT studied the behavior of pilots during landing. The researchers wanted to see when pilots will fly into thunderstorms. [Technical report]\n",
      "\"Pilots know that if we go into that thunderstorm we may not come out alive\"- Greg Faith, NTSB Chief Investigator for National Geographic\n",
      "Investigators studied a total of two thousand airplanes that flew into severe thunderstorms. The results are mind-blowing: two out of three pilots (66% of pilots) flew and landed in thunderstorms. The study reveals that pilots exhibited more recklessness when the pilot in front of them also landed in bad weather. \n",
      "\"It ain't what you don't know that gets you into trouble,is what you know for sure that just ain't so\"- (Probably) Mark Twain\n",
      "Sheeping is mindlessly following the others when you actually know the right actions and behaviors but don't want to assume responsibility for them. Many times we take our cue from people around us. We unconsciously determine the right actions based on what the others are doing. Sheeping (the technical term is social proof) is especially critical in moments of uncertainty. When we are not sure what we have to do and what is the right behavior, we automatically and unconsciously look for evidence around us: How are the people around us behaving? We automatically assume that they must know something we don't and follow them. Unfortunately, most of the times they don't know any better and they also look around for social evidence in us. And thus sheeping expands. \n",
      "\"Sheeping is mindlessly following the others when you actually know the right actions and behaviors but don't want to assume responsibility for them\" - Dr. Dragos\n",
      "Obviously, when you have an idea, when you want to do extraordinary with your life there is a lot of uncertainty. Very likely you are not sure what is the next right action. If you take bold leadership for your life, you need to be contrarian. Listen to your gut feeling and don't rationalize your intuition away. Because It's never the extraordinary people who do the extraordinary. It's the ordinary people like you and me who decide to step out, get up off their knees and take the journey. Because they complete the journey, ordinary people like you become extraordinary. Beware, the sheep are watching over your mind. Be contrarian. \n",
      "Your friend,Dr. Dragos\n",
      "PS: Can you think of other situations in which sheeping is harmful? Maybe when you decide to smoke because your colleagues smoke. When you drink more because others drink more? When you have meetings and know what the reality is and nobody is doing anything? When hundreds of people are stepping over a person lying unconscious in the metro station? Leave a comment and let me know.\n",
      "\n",
      "https://www.huffingtonpost.com/entry/the-sheep-are-watching-ov_b_7558950.html  working!\n"
     ]
    },
    {
     "name": "stderr",
     "output_type": "stream",
     "text": [
      "\r",
      " 80%|████████████████████████████████████████████████████████████████▊                | 80/100 [01:01<00:19,  1.04it/s]"
     ]
    },
    {
     "name": "stdout",
     "output_type": "stream",
     "text": [
      "And we're off! The Toronto International Film Festival began in earnest on Thursday, and Entertainment editors Erin Whitney and Matthew Jacobs have already taken in several movies. The crowded premiere of opening-night gala selection \"Demolition\" was our first Canadian screening, capping off a handful of titles we caught before even touching down at TIFF. We'll be bringing you lengthier takes on the festival's happenings in the days to come, but here are quick reactions to the first few films that comprised our 2015 Toronto experience.\n",
      "\"Demolition\"\n",
      "Directed by Jean-Marc ValléeWritten by Bryan SipeStarring Jake Gyllenhaal, Naomi Watts, Chris Cooper, Judah Lewis and Heather Lind\n",
      "TIFF tends to make odd selections when it comes to opening-night films. Over the past decade, the much-mocked “The Judge,” the reviled “Fifth Estate,” a U2 documentary and “Score: A Hockey Musical” (nope, not a joke) have each introduced the festival. None went on to great success, at least not in the way that “Whiplash” paraded out of 2014’s Sundance or “Black Swan” rode its 2010 Venice buzz to $330 million at the global box office. As it goes, Jean-Marc Vallée is a veritable TIFF darling: “The Young Victoria” opened the festival in 2009, and Oscar champs “Dallas Buyers Club” and “Wild” were part of the past two lineups. Now, his latest, “Demolition,” which the director introduced as the \"most rock ‘n’ roll film” he's ever made, polarized audience members walking out of Thursday night’s premiere.\n",
      "But even with Vallée’s stamp all over it, “Demolition” is Jake Gyllenhaal’s affair. He plays Davis Mitchell, a cavalier Wall Street exec who refuses to grieve for his wife after she dies in a violent car crash. Is he heartless? Out of touch with himself? Too absent-minded to muster the energy? Bryan Sipe attempts to find out with a script that rapidly drifts into screwball territory. After a hospital vending machine eats his money, Davis takes to corresponding with the company’s customer-service rep via overwrought letters that double as the only outlet he uses to detail his loss. Said representative, a mother (Naomi Watts) with a problem child of a son (Judah Lewis, destined to be a breakout star) calls Davis at 2 a.m. one morning out of pure intrigue. They strike up a rapport, much to the dismay of his late wife’s forlorn father (Chris Cooper), who is also Davis’ boss. That family conflict magnifies Davis’ war of stoicism, which ultimately leads to destructive behavior, making “Demoiltion” the portrait of a man in desperate need of an emotional tutor.\n",
      "In a sense, it’s a familiar story. And as a character study, “Demolition” is flat. Davis’ moves exist in service of the script’s blunt metaphors, which don’t offer a ton of payoff. But Vallée keeps things moving by channeling a more grown-up “Silver Linings Playbook.” The movie also makes for a nice companion piece with Gyllenhaal’s “Nightcrawler” performance -- he was more manic there, but both roles are all id in reluctant search for a super-ego. If “Demolition” didn’t batter you with What It All Means, it could be a great movie. -- MJ\n",
      " *****\n",
      "“The Lobster”\n",
      "Directed by Yorgos LanthimosWritten by Yorgos Lanthimos & Efthymis FilippouStarring Colin Farrell, Rachel Weisz, Léa Seydoux, John C. Reilly, Ben Whishaw, Olivia Colman\n",
      "Those familiar with Yorgos Lanthimos’ “Dogtooth” can expect an absurd, challenging reality from the Greek filmmaker. The 2009 Oscar-nominated film followed the sheltered lives of two sisters confined to their home and raised by their parents' bizarre rules and illogical definitions. Similarly, Lanthimos’ latest takes place in a world largely unfamiliar to our own, though it may be more accessible to mainstream audiences than “Dogtooth.” The most simplified description of “The Lobster” is a sci-fi romance thriller set in a dystopia where one must find a mate in order to survive -- as a human. Single residents of The City must stay at The Hotel where they have 45 days to find a partner, and if time runs out, they are physically transformed into an animal of their choice to live out their life in The Woods.\n",
      "The premise isn’t far from a “Black Mirror” episode, embodying the futurism of a world that is at once terrifying to imagine yet not far from the realm of possibilities. Colin Farrell, in his best performance in years, if not a career-defining one, plays David, a shy, short-sighted man with a belly (this is not Farrell’s usual confident stud). David checks into The Hotel with a dog and makes friends with two other single men, John C. Reilly’s nameless Lisping Man and Ben Whishaw’s nameless Limping Man. What ensues is a series of events -- some shockingly head-shaking, some comedic, some brutally violent -- in The Hotel that slowly reveal what this dystopian society thrives on and necessitates: the co-dependence of the couple. Being a Loner isn’t permitted in this world, which is the name given to those who escape The Hotel and hide out from hunters to embrace their independence.\n",
      "Conceptually, “The Lobster” is not only a brilliant piece of filmmaking, but some of the most original writing and original dystopian storytelling in years. The fact that such a wild scenario isn’t a mere adaptation of a book or a remake is commendable alone. But beyond the concept, which actively challenges the audience to follow all the scattered breadcrumbs towards understanding the film’s universe, “The Lobster” is also ripe with charged performances. Léa Seydoux’s Loner Leader stands out as the strongest, a glimmer of hope against the The City’s regime which quickly turns into something even darker. We first meet Rachel Weisz as a voiceover only to discover she does play a significant onscreen character. That’s what’s most thrilling about “The Lobster,” not knowing what to expect moment to moment. -- EW\n",
      "***** \n",
      "\"Sicario\"\n",
      "Directed by Denis VilleneuveWritten by Taylor SheridanStarring Emily Blunt, Benicio del Toro, Josh Brolin, Victor Garber and Jon Bernthal\n",
      "Denis Villeneuve values atmosphere above all else. In “Enemy,” the director convinced us that even the most banal shots implied something sinister. And with “Prisoners,” he hid an overcrowded detective story behind layers of chilling suspense. In that sense, “Sicario” is more of the same for the French-Canadian auteur, who has long been a global festival favorite. The movie’s first-half crawls along with quiet menace until the second-half thrusts viewers into a deep-broiled war that’s more existential than geopolitical. \n",
      "The marrow of “Sicario” belongs to Kate Macy (Emily Blunt), a robust FBI officer wrangled to help a sketchy former prosecutor (Benecio del Toro) and a sketchier government operative (Josh Brolin) as they hunt down a lethal Mexican drug lord. But cartel wars are peripheral in this movie, written by Taylor Sheridan. At the fore is the sexist mental joust that these men employ to persuade the upstanding Kate to do their bidding, regardless of legal risk or moral bankruptcy. As a character study, “Sicario” at times drags. Villeneuve wants us to know that anyone within eyesight could be corrupt, but the execution provides little understanding of why it’s these characters who shepherd the story along. Amid a murky foot chase near the Arizona border, this story could have anyone at the center.\n",
      "For the most part, that’s okay. Where “Sicario” acts as an existential thriller about Kate’s resistance to malfeasance, it remains top-notch. Roger Deakins, who shoots the Coen brothers’ movies and earned an Oscar nomination for “Prisoners,” always trains his lens on the most thrilling images in sight. The orange saturation of the sunset makes an impending manhunt seem apocalyptic, and the use of night vision manages to eliminate the distance that exists between the audience and the screen -- and it recalls the famous “Silence of the Lambs” scene, which is fitting because Blunt’s role contains traces of Jodie Foster’s Clarice Starling. Smartly, Villeneuve opts for subtle violence, at times reminiscent of \"No Country for Old Men.\" But the characters' ethical indignities, and the patriarchal pressures that Kate endures as a result, are where the film thrives. The lumbering pace makes the movie less riveting than Villeneuve’s previous features, but it has a whole lot more to say. -- MJ\n",
      " *****\n",
      "“Victoria”\n",
      "Directed by Sebastian SchipperWritten by Sebastian Schipper, Olivia Neergaard-Holm and Eike SchulzStarring Laia Costa and Frederick Lau\n",
      "The gimmick of a one-shot movie is enough to sell most people. Hitchcock experimented with it in “Rope,” Aleksandr Sokurov’s “Russian Ark” stunningly pulled it off and “Birdman” dazzled us with the perception of a one-take movie. But German actor-turned-filmmaker Sebastian Schipper has pulled off something truly groundbreaking -- an over two-hour heist thriller that’s actually filmed in one complete shot, sans editing trickery.\n",
      "“Victoria” finds the titular young woman from Spain (Laia Costa) partying one night in Berlin. She meets four local guys, one of whom, Sonne (Frederick Lau), she has an instant connection with. They spend the evening drinking and smoking on a rooftop, until Sonne and his friends prepare to leave to handle some unknown, but seemingly dangerous business. When the guys end up needing a driver for their mysterious meeting, Sonne asks Victoria to help them out. Charmed by him, she kindly obliges only to soon learn that she’s roped herself in with a clan of Berlin mobsters who force Sonne and his friends to rob a bank to pay off a debt. What was at first a sweet indie romance accelerates into a viscerally intense heist thriller where the innocent protagonist suddenly takes control. Might we remind you that the camera has yet to cut.\n",
      "While the one-shot gimmick might seem like more than a gimmick, it turns out to be so much more fulfilling in “Victoria.” The aesthetic and awe of the technique are the groundwork for the story, but eventually the potency of the cast’s performances take precedence over the Schipper’s cinematic stunt. Travelling through nearly two dozen locations around Berlin, the film becomes a moving play that brings out a raw mix of emotions from the actors that makes it nearly impossible to look away from the screen -- even when you’re not asking yourself how the hell it was accomplished. -- EW\n",
      "Also on HuffPost:\n",
      "For a constant stream of entertainment news and discussion, follow HuffPost Entertainment on Viber.\n",
      "https://www.huffingtonpost.com/entry/demolition-review-toronto-film-festival_us_55f1fadde4b002d5c078cc48  working!\n"
     ]
    },
    {
     "name": "stderr",
     "output_type": "stream",
     "text": [
      "\r",
      " 81%|█████████████████████████████████████████████████████████████████▌               | 81/100 [01:02<00:21,  1.12s/it]"
     ]
    },
    {
     "name": "stdout",
     "output_type": "stream",
     "text": [
      "Throughout the booms and busts of his Fort Worth oil empire and during his brother's notorious murder trial, Kenneth W. Davis Jr. largely kept to himself. At 89, he still does. He puts in full workdays at his small downtown office, with drapes drawn against the North Texas sun. He usually dines at an exclusive club across the street, often alone, using distinctive silverware set aside just for him. \n",
      "Davis has long shut out politics, too. He remembers voting only three times 2013 for Eisenhower, Goldwater and Reagan. Yet last year he thrust himself into the public eye by starting his own super PAC.\n",
      "His group, Vote2ReduceDebt, aimed to move the needle in eight key U.S. Senate races by energizing disengaged conservative voters. It spent almost $3 million to boost Republican candidates in the 2014 midterm election 2013 ranking it among the top right-leaning groups of its kind.\n",
      "But now it's dead in the water, with its main operatives expelled amid questions about where the money went.\n",
      "Even within the free-wheeling world of U.S. campaign finance, Vote2ReduceDebt stands out as a cautionary tale for donors, activists and voters.\n",
      "Since the Supreme Court helped open the gates with the Citizens United ruling, unprecedented millions have flowed into super PACs, groups that can accept political donations of unlimited dollar amounts. \n",
      "But, as Davis discovered, federal election laws do little to ensure these contributions are used as donors intended. \n",
      "In addition to escaping donation limits, no rules prevent the people running super PACs from using contributions to hire themselves or companies owned by their relatives and other insiders.\n",
      "The story of Vote2ReduceDebt is an egregious example of what can happen in the absence of such controls, but similar scenarios have played out on a smaller scale at dozens of PACs in the last three election cycles. \n",
      "Vote2ReduceDebt collapsed amid allegations of faked campaign events, destroyed records, fabricated expenses, contracts routed to cronies and a plot to siphon the Texas oilman's money to a reality TV show. The characters in the melee include a former top Republican strategist, a onetime TV news anchorman, a peanut-truck magnate with dreams of becoming a NASCAR star and a refugee from an infamous Washington corruption scandal.\n",
      "Until now, the debacle has remained hidden from public view. In an interview, Davis would say only that he wasn't prepared for the reality of modern politics. He declined to discuss details and said he'd ordered his subordinates to keep quiet. ProPublica obtained internal records and e-mails, reviewed campaign filings and court records and interviewed participants, some of whom spoke on condition of anonymity.\n",
      "Founded in May of last year, Vote2ReduceDebt raised its nearly $3 million almost entirely from Davis, and spent just about all of it. Its filings with the Federal Election Commission list ads, phone banks and rallies for candidates in tight races, including Joni Ernst in Iowa and Cory Gardner in Colorado. \n",
      "The routine filings give no hint of turmoil. But inside the PAC's Fort Worth headquarters, the group's director, Randy Hill, and its senior political consultant, Patrick Davis (no relation to Kenneth), were accusing each other of gross misconduct, according to documents and interviews.\n",
      "Patrick Davis, 47, was a one-time political director for the National Republican Senatorial Committee, a professorial type who has worked on dozens of national and local campaigns. Hill, also 47, is a gregarious Fort Worth native known in the trucking industry for inventing a trailer that dries peanuts during transport.\n",
      "The allegations of fraud started in dueling memos that went to the older Davis and the group's board of directors. Hill claimed Patrick Davis was faking expense reports and trying to award contracts to phantom companies. Davis' camp said Hill was hatching a plan to defraud the oilman out of $4 million, and alleged the PAC's attorney may have been in on a cover-up. \n",
      "Both sides denied all wrongdoing, leaving it to their elderly patron to figure out if someone was trying to swindle him. The PAC imploded before he could. \n",
      "\"What you have here is a pretty classic case of the sort of problems one can run into when they're not familiar with politics and arrive with a pot of money,\" said Trevor Potter, a former Republican FEC chairman.\n",
      "\"Consultants are attracted like bees to honey to situations like these,\" Potter said.\n",
      "Ken Davis was only one in a throng of wealthy people who tried to influence national politics after the Supreme Court signaled that many of the past restrictions on independent political spending violated free speech guarantees.\n",
      "While super PACs don't have to abide by the $5,000 limit on individual contributions that applies to regular PACs, they do have to disclose their donors, unlike the political nonprofits that have become known as dark money groups.\n",
      "In all, super PACs spent nearly $1.5 billion in the 2012 and 2014 elections. They accelerated the surge of money into politics and stoked confusion among donors and voters alike. Many are short-lived groups with similar sounding names and fund-raising appeals crafted to arouse fury at the opposition. \n",
      "Some super PAC operatives have spent portions of the donations on their own businesses or have illegally coordinated with candidates. Last month, a former campaign manager for a Republican congressional candidate in Virginia admitted to prosecutors that he got an ostensibly independent super PAC he helped run to pay his mother's company $138,000 for work that was never performed.\n",
      "Attempts to more strongly regulate super PAC spending have foundered. The FEC has repeatedly urged Congress to ban organizers from using donor money for personal purposes. In those recommendations, the FEC said that while current campaign finance laws \"are sometimes adequate to address these types of unauthorized disbursements, sometimes they are not.\"\n",
      "Larry Noble, the FEC's former top lawyer, said such abuse \"adds to the cynicism the public has about politics.\" He said that lawmakers are wary about cracking down on super PACs for a simple reason 2013 they depend on the groups to help their reelection campaigns, despite numerous examples of donors getting fleeced.\n",
      "\"It hasn't yet reached the critical mass where people are screaming about it,\" said Noble, now senior counsel at the Campaign Legal Center, a nonpartisan group that advocates for strong enforcement of campaign finance laws.\n",
      "\"Ironically, what could do something about it is a number of wealthier donors getting ripped off,\" he said. \"They have more clout with legislators.\"\n",
      "While Ken Davis donated to political causes over the years, those around him never expected him to jump into the fray as he did in 2014.\n",
      "Davis hardly comes off like an oil tycoon. He's slight and mild mannered, with a reputation for frugality. One of his few concessions is the fedora he always sports in public, a throwback to the decorum instilled by his father and namesake, who started out in the oil business as a laborer before striking it big selling supplies to wildcatters. The father became one of the richest men in Texas. \n",
      "Vote2ReduceDebt had its origins in an open letter Ken Davis passed around early last year among people he knew. He warned that U.S. debt was \"a looming crisis that needs to be recognized.\" The letter went on to blast Obamacare, \"work permits for illegals\" and \"the artful misrepresentations of charlatans whose agenda is crushing the promise of American opportunities.\"\n",
      "Ken Davis was prepared to spend some money to press his brand of righteous conservatism. He turned to his brother, T. Cullen Davis.\n",
      "Cullen had a complicated past, one that spawned true crime books and TV shows. Amid a bitter separation with his wife in 1976, three eyewitnesses accused him of donning a wig, breaking into the mansion where his estranged wife was living, shooting to death her boyfriend and her 12-year-old daughter from another marriage, and wounding his wife and a friend of hers.\n",
      "He was dubbed the wealthiest man ever charged with murder anywhere. During a 13-week trial that transfixed Texas, his lawyer hammered at his wife's sex life, drug use and credibility, and won an acquittal.\n",
      "Within months Cullen was in trouble again. The FBI recorded him discussing a list of people he wanted killed, including the judge in his divorce proceedings. \"Do the judge, then his wife,\" Cullen said. An undercover informant later showed Cullen a staged photo of the judge stuffed in a car trunk. \n",
      "Again, a jury didn't convict him 2013 Cullen claimed that he'd just been playing along to help the FBI investigate the informant.\n",
      "The drama and a bust in the oil industry took its toll on the family business. In the mid 1980s, Kendavis Industries International ended up in bankruptcy court. But Ken Davis remained wealthy, and through it all, he stood by Cullen, maintaining his innocence and entrusting him to run his charitable organization.\n",
      "After beating the charges, Cullen renounced his fast-living ways and became a born-again Christian. He joined a local church and got involved with the Council for National Policy, an invitation-only club for prominent members of the country's religious right.\n",
      "It was those social circles that Cullen mined for his brother's foray into politics.\n",
      "Cullen Davis first recruited a friend from church named Lynn Scarborough, a Dallas-based communications consultant who also runs a group that focuses on emergency preparedness. In an interview, Scarborough said she was impressed by Ken Davis' passion for his cause. \n",
      "Initially, the two of them were going to launch a nonprofit that could do some political advocacy but would focus on educating the public, Scarborough said, but \"then a lot of other voices came in, and he made other decisions.\"\n",
      "Ken Davis, she said, began meeting with political consultants his brother found through his Council for National Policy connections. Others who got involved were locals with no experience in politics. The oilman was persuaded to scrap the nonprofit and start a super PAC.\n",
      "Scarborough, who briefly led the PAC before being replaced by the newcomers, said some of the consultants were drawn more by Ken Davis' money than his message.\n",
      "\"They're looking at how to make an income,\" she said. \"For some people, politics is a business.\"\n",
      "By May, the PAC had its team together. \n",
      "Mike Snyder, a locally famous ex-anchorman for Dallas-Fort Worth's NBC station, was running media strategy. Janeé Hill, a motivational speaker, handled outreach. \n",
      "Randy Hill, Janeé's husband, was hired to be the PAC's executive director. Along with his business acumen 2013 Hill once said his peanut transport system moved 80 percent of the nation's crop 2013 he was well connected. Then-Gov. Rick Perry had appointed him to the state's emerging technologies committee.\n",
      "Hill's father had been Wal-Mart's chief ethics officer, and was invited to join the PAC's board. Gary Hill found the PAC's patron to be \"very eccentric.\" When they first met, he recalled in an interview, Ken Davis told him the nametag on his sport coat was on the wrong side, ripped it off and fixed it onto the other side. But he joined the board anyway.\n",
      "Patrick Davis, the group's senior consultant, had the most political experience among the hires. He served as the political director for the National Republican Senatorial Committee during the 2004 cycle and had helped run dozens of local, state and national campaigns. \n",
      "Through his lawyer, Davis said he was attracted to the Fort Worth group because the national debt had long been an interest of his. And his style appealed to the oilman. He would often kick off conference calls by leading a prayer, asking for the Lord's guidance in being responsible stewards of their patron's money. \n",
      "But very quickly, fissures appeared.\n",
      "In his July memo to the board, Randy Hill alleged irregularities in Patrick Davis' reimbursement requests. He wasn't turning in receipts, Hill wrote, and some expenses didn't track, such as a bill for an Iowa hotel stay that had been prepaid and a bill for a plane ticket even though Davis had driven to his destination. \n",
      "Hill also questioned whether events organized by Davis were all they claimed to be. At an Iowa phone bank, Hill said, a caller admitted they were just \"pretending to make phone calls\" for the benefit of the campaign's video cameras. \n",
      "Hill was particularly concerned about Patrick Davis' associate. She was combative with the rest of the staff and acting erratically, he said, so he began looking into her past. \n",
      "Her name was Italia Federici. A decade earlier, Federici figured in the Jack Abramoff lobbying scandal, which contributed to the resignation of House Majority Leader Tom Delay and led to the criminal convictions of 21 people, including a House member who admitted taking bribes. \n",
      "Federici was accused of using her position as head of a conservative environmental advocacy group to serve as intermediary between Abramoff and her friend, Deputy Interior Secretary Steven Griles. Abramoff funneled $500,000 to her group, offered her box seats to NFL games and paid for her meals and parties at his D.C. restaurant. In return, she allegedly exploited her romantic relationship with Griles to get Abramoff inside information and to lobby for his tribal clients.\n",
      "When she testified before the Senate Indian Affairs committee, North Dakota Democratic Sen. Byron Dorgan accused her of being involved in \"one of the most disgusting tales of greed and avarice\" and mocked her denial of a quid pro quo: \"I come from a really small town, but I think I can spot a pretty big lie from time to time.\"\n",
      "Federici pleaded guilty in 2007 to tax evasion and obstructing a Senate investigation. She was given probation for her crimes and moved back to Colorado, where she'd lived before Washington.\n",
      "There, her problems continued. The IRS accused her of being delinquent on more than $250,000, which her lawyer said was the result of a penalty assessed against her in connection with the Abramoff scandal. Her Boulder landlord told ProPublica she kicked her out for not paying several months of rent. \"She doesn't have clear boundaries between truth and fiction,\" said the landlord, Diane Dvorin.\n",
      "Through her attorney, Federici said she was truthful and moved out promptly after not being able to make rent.\n",
      "In 2012, Federici and Patrick Davis met while working to promote Newt Gingrich's presidential campaign in Colorado. Davis had moved to Colorado and set up his own consulting firm after finishing his stint at the Republican senatorial committee.\n",
      "Davis' work was at times controversial after he left Washington. In 2008 he led a nonprofit that backed the presidential campaign of former Arkansas Gov. Mike Huckabee. It was blasted by other conservatives for allegedly making robo-calls to voters in multiple states that masqueraded as polls and suggested that a rival candidate, Sen. John McCain, \"voted to use unborn babies in medical research.\" The group was widely denounced, including by Huckabee's campaign.\n",
      "While he was working for Vote2ReduceDebt, Davis was also running the campaign of Annette Bosworth, a South Dakota physician making a bid for the Senate. Bosworth, who got 6 percent of the vote in the Republican primary last year, faces trial on a dozen felony counts of perjury and filing false statements in connection with allegedly forged names on nominating petitions. \n",
      "Before Davis was running Bosworth's campaign, records show he got paid a consulting fee by a PAC that boosted one of her opponents, a fact Bosworth's attorney said was never disclosed to her.\n",
      "Through his attorney, Davis said the relationship was disclosed, and that the calls on behalf of Huckabee were not push polls, but rather educational calls. The attorney said Davis had no knowledge of the alleged crimes committed by Bosworth. \n",
      "In his July 2014 memo, Randy Hill asked for Davis and Federici to be fired.\n",
      "The next day, Patrick Davis wrote a memo of his own to the board. In it, he alleged that after a June 5 Vote2ReduceDebt rally, as they drove to the Midland, Texas airport, Hill told him about a secret plan.\n",
      "At the time, Hill was in talks with television executives to create a reality show about his quest to start a NASCAR racing team. He already had a website billing himself as \"The Entrepreneur2026 Chasing the Dream,\" encouraging visitors to follow along as he recruited a driver, sponsors and a spot on the racing circuit. He told colleagues this would be good publicity for the PAC 2013 he'd emblazon his racecars with the Vote2ReduceDebt logo and take them on tour.\n",
      "But Patrick Davis alleged that Hill took it a step further in their conversation. In order to start filming, Hill said, he needed to get a team together, and that required money he didn't have. Hill missed his first deadline with NBC, and though he was granted an extension, time was running out.\n",
      "By Davis' account, Hill offered him a trade of sorts. He would make Patrick Davis \"a character in his reality TV show.\" And Patrick Davis would help Hill get $4 million out of the PAC: half a million for PAC promotions, and the rest going toward racing expenses including drivers and pit crews. Ken Davis, recently hospitalized, would be told the money was going towards legitimate get-out-the-vote operations.\n",
      "In his memo, Patrick Davis wrote that he would never go along with such a scheme because it would have \"required lying to Mr. Ken Davis which was something I was not going to do.\" \n",
      "The board and Ken Davis had to decide whom to believe. Patrick Davis warned the leadership that if they sided with Hill, they would risk future disaster. \"In other cases where I've occasionally been ignored, clients have really created problems for themselves,\" he wrote.\n",
      "For her part, Federici began pressuring Snyder, who was in charge of media strategy, and the PAC's attorney, Chris Gober, who was looking into the allegations. One evening in July, she sent Gober a barrage of text messages. She demanded he turn over video from a PAC event she believed would play in their favor. He emailed the texts the same evening to Ken Davis. \n",
      "\"SECURE THE EVIDENCE YOU'VE BEEN NOTIFIED FOR A MONTH EXISTS,\" Federici texted in all caps, according to the email. \"If you think I'm cowed in any way, think again. I will ferociously expose you and anyone else I feel is complicit in destroying documentation about the fleecing (of) this family.\"\n",
      "\"Screw with this PAC at your peril2026Who do you think you are?2026 If you want to sue me/us2026 Do it! Otherwise, do your fucking job and stop being Mike Snyder's bitch.\" \n",
      "\"WTF. I could care less about your Harvard 2018creds,'\" she continued, even though the attorney said he didn't respond. \"Do. Your. Job. We asked for docs and recorded material weeks ago. How impotent are you? Or is it criminal. Your choice.\"\n",
      "In an interview, Hill said the reality TV show scam was a figment of Patrick Davis' imagination, one that Davis fabricated to distract from his own fraud. He said the board decided to side with him, voting to fire Davis and Federici. \n",
      "But he said he was called into Ken Davis' office and berated.\n",
      "\"Nobody fires anybody until I tell 2018em to,\" the oilman said, according to Hill.\n",
      "That afternoon, Hill said, Patrick Davis flew in and met privately with Ken Davis. The next day Hill was fired. \n",
      "Patrick Davis remained and his influence grew. According to records and interviews, he pushed for multiple six-figure payments to organizations run by him or his close associates.\n",
      "He convinced the PAC to hire a Virginia company called ccAdvertising for calls to voters, at a price of about $230,000, records show. Davis' attorney, Cleta Mitchell, said that Davis has a \"long term business and personal relationship\" with the company's owner. Mitchell declined to respond to questions about whether Davis received personal benefit from the contract.\n",
      "At least three of the outside companies Davis recommended to Vote2ReduceDebt were run by one of his business associates, Joel Arends, an attorney and political operative based in South Dakota. Davis and Arends have known each other for two decades through various Republican campaigns. Most recently, they had worked together on the South Dakota primary in which their candidate got indicted and blamed Arends for the allegedly falsified filings.\n",
      "Hill said that one proposal from Patrick Davis involved a cross-country bus tour using a company linked to Arends that was so obscure it didn't have a website. On another occasion, Davis pushed for the PAC's printing services to be handled by Arends. Davis said through his lawyer that he felt Arends would be faster and cheaper than other options. \n",
      "Vote2ReduceDebt didn't go with Patrick Davis' suggestions on either of those jobs, but did heed his advice when choosing who to hire for a $200,000 contract to produce voter rallies. Davis again picked Arends, who ran a company called Red State Productions. Davis's lawyer said in a statement that Red State \"is a skilled political campaign services provider with years of experience and excellent results over many campaigns.\"\n",
      "While Arends had worked with campaigns in the past, Red State's website, which displays photos of big political rallies featuring Republican stars such as Rep. Michelle Bachmann and Newt Gingrich, was created a couple of days before Red State pitched the $200,000 deal to Vote2ReduceDebt, domain registration records show. The company was incorporated in South Dakota a few days after the pitch.\n",
      "Red State's events, according to the website, \"are widely attended, photographed and reported.\" A search of online databases turned up no previous record of payments to Red State Productions by a candidate or political committee. The D.C. number for the company has since been disconnected. The address listed on its website is for a service on Washington's K Street lobbying corridor that provides mail drops and temporary office space.\n",
      "Vote2ReduceDebt staffers were not pleased with Red State's work, according to a lawsuit the super PAC filed in December to get the money back. One of the firm's main responsibilities was promoting rallies and getting people there. But most of the people who attended their rallies, the PAC alleged, were paid Vote2ReduceDebt staffers, with one rally only drawing seven outsiders. \n",
      "Arends' attorney did not respond to questions from ProPublica. His company has sued Vote2ReduceDebt for terminating the contract, and harming its reputation with future clients.\n",
      "Mitchell, Davis' attorney, said the events Red State organized were \"very successful,\" including one attended by more than 250 people and others that drew volunteers, elected officials and local activists. \n",
      "Arends and Patrick Davis \"are not in business together,\" said Mitchell. Asked if Davis received a personal benefit from the work the PAC gave to Arends, Mitchell said: \"If there were any business arrangements with any vendors, those arrangements would have been (and were) fully disclosed.\"\n",
      "Another move by Patrick Davis raised questions among some PAC colleagues. He secured payments of about $410,000 from Vote2ReduceDebt 2013 roughly a seventh of the total funds raised by the super PAC - to another PAC, one he and Federici had created in 2013.\n",
      "Until the payment from Vote2ReduceDebt, their PAC, called Person to Person, had almost no contributions or activities. According to an invoice, other internal records and a person with knowledge of the transactions, the money was paid in expectation of a service: Person to Person would recruit 320 volunteers for door-knocking and phone work in Vote2ReduceDebt's eight target states.\n",
      "But Patrick Davis reported the money to the FEC as a contribution, not a fee for service. According to Noble, the former FEC attorney who reviewed the filings for ProPublica, that distinction allowed Person to Person to do whatever it wanted with the money and pay no taxes on it.\n",
      "Person to Person quickly began spending its windfall. According to federal disclosure records compiled by the OpenSecrets website, more than $115,000 has gone to Red State Productions and Patrick Davis' consulting company. \n",
      "In October, Vote2ReduceDebt parted ways with Davis. By then, records show, the super PAC had paid more than $875,000 2013 almost a third of its total spending 2013 to companies and organizations owned or operated by Davis and Federici or their associates.\n",
      "Both declined to be interviewed by ProPublica. In a recent interview with a conservative commentator for the Daily Caller, they said they are preparing the Person to Person PAC for the 2016 cycle. The host asked Patrick Davis if he believes that some conservative groups exist not to affect elections but to bilk donors. \n",
      "\"There is a problem, but Person to Person PAC is not participating in the problem,\" Davis said.\n",
      "Federici directed listeners to the group's website, where they could log on and donate.\n",
      "Mitchell, Patrick Davis's lawyer, denied that Davis and Federici falsified reimbursement requests, faked phone banking events or were dishonest with Vote2ReduceDebt staff.\n",
      "In fact, Mitchell described Federici as a whistleblower who took on dishonest employees within the PAC. She described one instance in which a PAC state director with a suspended license was secretly using one of the group's employees as a chauffeur for five weeks.\n",
      "\"One lesson Tali learned from the experience of being dragged into the Abramoff mess was to be very cautious and to ask questions,\" Mitchell said. \"That was in large part what led her to blow the whistle2026 before a problem was created and funds were misused.\"\n",
      "Mitchell said Patrick Davis still does not understand why Vote2ReduceDebt terminated his consulting contract. \"Had Person to Person PAC been allowed to complete the deployment project,\" she said, it would have \"met and exceeded\" its promised volunteer numbers. Mitchell said Patrick Davis was correct in reporting the money as a contribution, and it was Vote2ReduceDebt that reported the payment incorrectly.\n",
      "The breakdown of his super PAC has left Ken Davis with some ambivalence about entering election politics. \n",
      "In a brief interview, he declined to discuss the allegations that he had been duped. He did acknowledge that he may have been in over his head and that he's not sure the group had the impact he desired.\n",
      "\"I'm convinced there's a lot of people that jumped into politics with the idea that they're gonna make a change in the world and they've found out it ain't that easy,\" Davis said. \"Just because you think it's needed doesn't mean you can make it happen.\"\n",
      "Help us investigate: Have a tip about campaign finance? Email robert.faturechi@propublica.org.\n",
      "Related stories: For more coverage of campaign finance, read ProPublica's previous reporting on secret donors, gaps in campaign finance rules, and the Dark Money Man.\n",
      "ProPublica is a Pulitzer Prize-winning investigative newsroom. Sign up for their newsletter.\n",
      "\n",
      "https://www.huffingtonpost.com/entry/vote2reducedebt_n_6901058.html  working!\n"
     ]
    },
    {
     "name": "stderr",
     "output_type": "stream",
     "text": [
      "\r",
      " 82%|██████████████████████████████████████████████████████████████████▍              | 82/100 [01:03<00:16,  1.10it/s]"
     ]
    },
    {
     "name": "stdout",
     "output_type": "stream",
     "text": [
      "UNITED STATES—Echoing at a soft and constant volume across the nation’s collective conscious, the ambient, unending background hum of modern American life reported today that an armed gunman remains at large after opening fire on innocent bystanders. “Community members are advised to shelter in place,” stated the incessant, low-level white noise of death counts and missed warning signs emanating steadily from all directions, which confirmed that a vigil honoring the victims of the shooting will be held Thursday. “There were maybe five, six shots one after the other, and everyone started panicking. The gun was obtained legally. You never think that something like this could happen in your town.” The ceaseless, droning din of day-to-day existence in the United States went on to add, “lockdown, grieving families of the victims, troubled young man, AR-15, mental health system, senseless, took his own life, unsuccessful legislative efforts.”\n",
      "https://www.theonion.com/active-shooter-at-large-reports-endless-background-h-1819576856  working!\n"
     ]
    },
    {
     "name": "stderr",
     "output_type": "stream",
     "text": [
      "\r",
      " 83%|███████████████████████████████████████████████████████████████████▏             | 83/100 [01:04<00:17,  1.03s/it]"
     ]
    },
    {
     "name": "stdout",
     "output_type": "stream",
     "text": [
      "\n",
      "A former top adviser to President Barack Obama suggested on Thursday that voters would perceive Hillary Clinton as a less complex alternative to Obama should she decide to run for president in 2016.\n",
      "David Axelrod, a former White House senior adviser and a chief architect of both of Obama’s presidential campaigns, said that he thought the contrast could play to Clinton’s advantage.\n",
      "“Even when a president is popular, people tend to seek the remedy and not the replica. They want someone who has the qualities that they miss in the president,” Axelrod said at a breakfast hosted by The Wall Street Journal. “This tends to be a pendular thing. I think in 2016 people are going to want someone who is a little less nuanced and a little less attuned to the complexity, someone who projects more of a sense of black and white certainty.”\n",
      "Axelrod added that such an environment “favors Hillary Clinton more than the 2008 environment because she tends to be someone who speaks in simple, declarative sentences with great certainty.”\n",
      "In August, Axelrod publicly criticized Clinton after she said that Obama's foreign policy mantra of “don’t do stupid stuff” lacked clarity.\n",
      "“Great nations need organizing principles, and 'Don’t do stupid stuff' is not an organizing principle. It may be a necessary brake on the actions you might take in order to promote a vision,” Clinton told The Atlantic. \n",
      "Axelrod, who worked on Clinton’s 2000 campaign for U.S. Senate, fired back on Twitter, criticizing Clinton’s vote in support of the Iraq war in 2002.\n",
      "\"Just to clarify: 'Don't do stupid stuff' means stuff like occupying Iraq in the first place, which was a tragically bad decision,\" Axelrod wrote.\n",
      "https://www.huffingtonpost.com/entry/david-axelrod-hillary-clinton_n_6153858.html  working!\n"
     ]
    },
    {
     "name": "stderr",
     "output_type": "stream",
     "text": [
      "\r",
      " 84%|████████████████████████████████████████████████████████████████████             | 84/100 [01:05<00:18,  1.13s/it]"
     ]
    },
    {
     "name": "stdout",
     "output_type": "stream",
     "text": [
      " “Let’s kick some ass next year,” Sleater-Kinney drummer Janet Weiss shouted to a San Francisco crowd on New Year’s Eve. “We’ve got a lot of work to do!” Weiss then joined bandmates Corin Tucker and Carrie Brownstein, breaking into a rowdy rendition of the late David Bowie’s “Rebel Rebel.” Suddenly, the 1974 hit seemed made for 2017, giving us the political anthem we needed for a new year. Sleater-Kinney was joined by Spoon’s Britt Daniel and the Thermals’ Hutch Harris, who also sang lead vocals on the song. But Tucker truly stole the stage with her final verse. Beating her chest with her fist and pulling at her hair while belting Bowie’s iconic words, Tucker became a conduit for all the emotion buzzing around the end 2016. Hot tramps, the new year is upon us. Let’s channel Bowie’s badness and Sleater-Kinney’s fierceness with all our might, and charge fists first into 2017.  See the entire performance below:  \n",
      "https://www.huffingtonpost.com/entry/sleater-kinney-rebel-rebel_us_586cff2ce4b0de3a08fa3a29  working!\n"
     ]
    },
    {
     "name": "stderr",
     "output_type": "stream",
     "text": [
      "\r",
      " 85%|████████████████████████████████████████████████████████████████████▊            | 85/100 [01:06<00:16,  1.10s/it]"
     ]
    },
    {
     "name": "stdout",
     "output_type": "stream",
     "text": [
      "Sen. Kirsten Gillibrand (D-N.Y.) stands by her decision to call for former Sen. Al Franken (D-Minn.) to give up his office after accusations that he groped and forcibly kissed nearly 10 women surfaced late last year.\n",
      "Gillibrand faced criticisms for her stance on Franken from some other members of their party, who argued his transgressions didn’t warrant his resignation.\n",
      "But in a lengthy interview with Glamour magazine published Monday, she said the only thing she would change about urging Franken to quit is that “I might have done it sooner.”\n",
      "She and several of her fellow female Democratic senators spoke out only after eight women had come forward with stories of sexual misconduct by Franken, who ultimately resigned on Jan. 2.\n",
      "Gillibrand, a leading advocate for victims of sexual misconduct, also defended her recent comment that former President Bill Clinton should have resigned over his affair with Monica Lewinsky and the history of sexual misconduct lodged against him. Similar to the way the #MeToo movement has catalyzed a national conversation about sexual harassment and assault, Gillibrand said that her own legislative work on sexual violence helped shift her views on such matters.\n",
      "Some of Franken’s defenders said that he faced unfair scrutiny, arguing that his alleged sexual misconduct was less severe than that of Republicans, particularly failed Alabama Senate candidate Roy Moore and President Donald Trump. The latter won the White House despite facing accusations of sexual misconduct from nearly 20 women and bragging about sexual assault.\n",
      "While Gillibrand said that she agrees there is a distinction, particularly from a legal standpoint, no sexual misconduct is “entitled to my silence.”\n",
      "“I was asked, ‘Should Al Franken resign?’ And with the eighth allegation becoming public, enough was enough,” she said. “I was not going to have the conversation of, ‘Well, his behavior’s not as bad as Roy Moore’s behavior or President Trump’s behavior,’ at a moment that demands leadership. I was asked what my view was. And I gave my view. It doesn’t mean Sen. Franken wasn’t entitled to any bit of due process or ethics investigation that he wanted. He just wasn’t entitled to my silence any longer.”\n",
      "Gillibrand also recalled a conversation she had with her teenage son as the furor grew around Franken.\n",
      " I wasn’t going to tell him, “It’s OK to squeeze someone on their ass, it’s OK to squeeze somebody on their boob, but it’s not OK to squeeze somebody somewhere else, where President Trump did.” That is not a conversation I want to have with my son, because it’s not OK. And I don’t think I should be protecting someone who has behaved that way. And I’m the leader of this debate about sexual assault, sexual harassment in the military, on college campuses, in Congress. And I couldn’t stay silent any longer. It was literally that simple. \n",
      "Gillibrand, frequently mentioned as a possible presidential contender in 2020, conceded that the decision to speak out her Democratic colleague “was exceedingly painful.” But she said she had to do it, given the “multiple credible allegations” against Franken and her legislative efforts to combat sexual misconduct in the military and on college campuses.\n",
      "She said she couldn’t take the position that “I’ll be a leader on this issue, as long as it’s not about my friends.”\n",
      "“That’s not moral clarity,” she said. “That’s not leadership.”\n",
      "As for her view that Clinton should have stepped down in that wake of the Lewinsky scandal 20 years ago, Gillibrand acknowledged that “we’re in a very different place today,” alluding to the #MeToo movement.\n",
      "She recalled that it was through her own work with survivors of sexual assault in recent years that she reconsidered her views.\n",
      " “I would have been somebody who would have blamed the victim, who said, ‘Oh, she was drinking too much. She shouldn’t have stayed out that late,’” she said. “The same excuses that a lot of people who are so uninformed make.” “I didn’t hold President Clinton accountable, ever, because I was the person who didn’t believe the survivors,” she continued. “And so that’s why in this #MeToo moment, when I’m asked this question, given all the allegations, should President Clinton have resigned?... I said, ‘Yeah, he should have.’” She added: “Yes, today’s standards are different. And I didn’t have that lens then, neither did most people I know. But today … our willingness to accept this kind of behavior is different. And we should be having a very different conversation.” \n",
      "Read the full interview here.\n",
      "https://www.huffingtonpost.com/entry/kirsten-gillibrand-al-franken-sexual-misconduct_us_5a81b24de4b08dfc93065fc3  working!\n"
     ]
    },
    {
     "name": "stderr",
     "output_type": "stream",
     "text": [
      "\r",
      " 86%|█████████████████████████████████████████████████████████████████████▋           | 86/100 [01:08<00:15,  1.10s/it]"
     ]
    },
    {
     "name": "stdout",
     "output_type": "stream",
     "text": [
      "After Mitzie Perez filled out a preliminary form online to inquire about a student loan from Wells Fargo last summer, a message flashed across the screen saying the bank had no options for her. “This could be due to the school you selected, your field of study, and/or your citizenship status,” the bank’s website said. \n",
      "The third-year bachelor’s student in gender and sexuality studies at the University of California, Riverside, didn’t think her citizenship status would be a problem. Though she’s undocumented, in 2012 she received work authorization under the Deferred Action for Childhood Arrivals program. That program shields undocumented immigrants who arrived as youths from deportation and allows them to work legally. \n",
      "Curious, Perez hit the back button on her browser and changed her answer on one of the preliminary questions to say she was a permanent resident. After she resubmit her application, Wells Fargo allegedly offered her a loan option she could apply for. \n",
      "“I didn’t expect it,” Perez told The Huffington Post. “I’ve been approved for credit cards. It was weird to me that a loan wouldn’t be approved, but creditors would provide me that support.”\n",
      "A class action lawsuit filed in U.S. District Court in Northern California says rejecting her application based on immigration status violates both federal and state law. \n",
      "The lawsuit could have sweeping implications if successful. It asks the court to create a class of people affected by the Wells Fargo policy that would include not only people like Perez, with DACA, but also any financially qualified person who applied for a loan and was denied for lack of U.S. citizenship since 2013.\n",
      "The Mexican American Legal Defense and Education Fund brought the lawsuit on behalf of Perez and the California chapter of the League of United Latin American Citizens, whose membership includes DACA recipients affected by the bank’s loan policies.\n",
      "“We don’t think Wells Fargo was unique, but it was the case that came to us first,” MALDEF President Thomas Saenz told HuffPost. “Our hope is that if we can resolve the issue with Wells Fargo, perhaps the other banks seeing what we’re doing will change their policy.”\n",
      "Wells Fargo spokesman Jason Vasquez pointed out that the bank only accounts for roughly 1 percent of total student loans and that its policies are in line with the U.S. Department of Education, which also does not loan to DACA recipients. The bank offers two products for which DACA recipients qualify ― a credit card and secured personal loan.\n",
      "“While we respect the important role that the California League of United Latino Citizens and the Mexican American Legal Defense and Educational Fund play in support of the community, we are disappointed they filed a lawsuit rather than work with us on solutions to help people realize their goals of higher education,” Vasquez wrote in an email to HuffPost. “Wells Fargo understands the dream of pursuing higher education and we remain focused on our responsible lending practices to assist temporary and permanent residents and U.S. citizens in obtaining student financing.” \n",
      "When assessing whether to offer a loan, a financial institution is only supposed to establish the applicant’s true identity and the risk the applicant will default, the lawsuit says. The lawsuit contends that using an applicant’s immigration status as a factor when considering whether to extend a loan violates the U.S. Civil Rights Act of 1866, which allows anyone in the country to enter into contracts. \n",
      "“It’s discriminatory,” Saenz said. “The bottom line is that banks are supposed to make loans based on the assessment of risk. ... A person’s immigration status is simply not relevant.” \n",
      "The lawsuit alleges the Wells Fargo policy also violates a California state law protecting against discrimination and another that prohibits unfair business practices. \n",
      "Barring Perez from applying for a private loan added one more financial hurdle to her path toward a college degree. The DACA program provides some protection from deportation and allows her to work legally, but she’s still not allowed to apply for federal student aid ― the largest pool of financial assistance that people use to pay for a college education.\n",
      "Already indebted, she charged her tuition on credit cards and works a schedule that includes two full days from 9 a.m. to 9 p.m. in class and the rest of the week working as a community organizer. She also works on weekends ― not just to service her debt, but to help support her family. “I’m trying to be a good student,” Perez said. “I’m trying to give back to my community and be involved.” \n",
      "The lawsuit seeks damages on her behalf and for the bank to end its policies of weighing immigration status as part of its loan applications. If the class were granted, it could affect many more people in similar situations. \n",
      "“We deserve a chance to get a student loan,” Perez said. “We want to be a part of this economy. We want to do well in school. But sometimes we’re not getting the support we need.”\n",
      "https://www.huffingtonpost.com/entry/wells-fargo-sued-for-barring-daca-recipient-from-student-loans_us_588f9ca2e4b02772c4e850d4  working!\n"
     ]
    },
    {
     "name": "stderr",
     "output_type": "stream",
     "text": [
      "\r",
      " 87%|██████████████████████████████████████████████████████████████████████▍          | 87/100 [01:08<00:11,  1.14it/s]"
     ]
    },
    {
     "name": "stdout",
     "output_type": "stream",
     "text": [
      "Indian Taught To Wear Hat.\n",
      "https://www.theonion.com/historical-archives-amazing-publick-spectacle-1819570183  working!\n"
     ]
    },
    {
     "name": "stderr",
     "output_type": "stream",
     "text": [
      "\r",
      " 88%|███████████████████████████████████████████████████████████████████████▎         | 88/100 [01:08<00:08,  1.39it/s]"
     ]
    },
    {
     "name": "stdout",
     "output_type": "stream",
     "text": [
      "JERUSALEM—In what is being regarded internationally as a powerful declaration of national purpose, Israel passed a binding resolution Thursday cementing itself as the exclusive nation-state of Benjamin Netanyahu. “Israel was created by and for Benjamin Netanyahu, and as a homeland for the Netanyahuan people,” said Speaker of the Knesset Yuli-Yoel Edelstein, noting that the land of Israel is regarded as the ancestral homeland of Netanyahu and thus should be administered solely at his discretion. “Today’s vote reaffirms our commitment to protecting Bibi’s privileged status as the preeminent population of Israel. We recognize that this country was formed to be a Netanyahu state and will remain so in perpetuity. Furthermore, as our very existence depends upon the establishment of one Netanyahu, undivided, a unified Jerusalem must always be the capital of Netanyahu.” Edelstein added that the resolution authorizes Israel to continue annexing Palestinian land in the occupied West Bank as well as the construction of Netanyahu-only settlements.\n",
      "https://www.theonion.com/israel-passes-law-cementing-itself-as-exclusive-nation-1828058658  working!\n"
     ]
    },
    {
     "name": "stderr",
     "output_type": "stream",
     "text": [
      "\r",
      " 89%|████████████████████████████████████████████████████████████████████████         | 89/100 [01:09<00:06,  1.64it/s]"
     ]
    },
    {
     "name": "stdout",
     "output_type": "stream",
     "text": [
      "PALO ALTO, CA—In response to countless reports of misogynistic abuse taking place on the social network, Onion Social announced Wednesday that it intends to crack down on sexual harassment by banning women from the platform. “Our female user base should know that we’ve heard their concerns and are taking all necessary steps to address harassment; namely, by deactivating the accounts of any and all women,” said Onion Social CEO Jeremy Rosenbaum. “We’re taking a proactive, zero-tolerance approach on harassment, and since removing women from the environment in which it occurs, we’ve already started to see a significant reduction in complaints. Once again, Onion Social is the innovator in the field, though I have no doubt other companies will soon follow suit in addressing the root cause of this problem.” Rosenbaum refused to comment on the multimillion-dollar class-action lawsuit being brought against the company by women alleging gender discrimination.\n",
      "https://www.theonion.com/onion-social-cracks-down-on-sexual-harassment-by-bannin-1826973222  working!\n"
     ]
    },
    {
     "name": "stderr",
     "output_type": "stream",
     "text": [
      "\r",
      " 90%|████████████████████████████████████████████████████████████████████████▉        | 90/100 [01:09<00:06,  1.46it/s]"
     ]
    },
    {
     "name": "stdout",
     "output_type": "stream",
     "text": [
      "Stephen Colbert’s live election show is going to be yuuuugggee.\n",
      "The “Late Show with Stephen Colbert” host is headed to Showtime Nov. 8 for “Stephen Colbert’s Live Election Night Democracy’s Series Finale: Who’s Going To Clean Up This S**t?” and one candidate in particular should be nervous.\n",
      "Colbert’s criticism of Donald Trump has been relatively tame on CBS, but as Colbert says in the exclusive promo above, on Showtime it’s “no holds barred.”\n",
      "“I get to do my show on Election Night, and I get to say f**k,” he says. \n",
      "Airing live from The Ed Sullivan Theater in New York City, the one-hour show promises to feature “remote segments and several surprise guests,” which may include anyone from Barack Obama to Amelia Earhart. And, yes, there will be plenty of swearing.\n",
      "“Don’t we all just wanna scream foul language when we look at this election?” says Colbert. \n",
      "You’re damn right, dude.\n",
      "“Stephen Colbert’s Live Election Night Democracy’s Series Finale: Who’s Going To Clean Up This Sh*t? will air on Tuesday, Nov. 8, at 11 p.m. ET on Showtime.\n",
      "Editor’s note: Donald Trump regularly incites political violence and is a serial liar, rampant xenophobe, racist, misogynist and birther who has repeatedly pledged to ban all Muslims — 1.6 billion members of an entire religion — from entering the U.S.\n",
      "https://www.huffingtonpost.com/entry/exclusive-promo-hints-stephen-colbert-will-unleash-on-trump-in-live-election-show_us_5818aa8fe4b0390e69d289f9  working!\n"
     ]
    },
    {
     "name": "stderr",
     "output_type": "stream",
     "text": [
      "\r",
      " 91%|█████████████████████████████████████████████████████████████████████████▋       | 91/100 [01:11<00:07,  1.27it/s]"
     ]
    },
    {
     "name": "stdout",
     "output_type": "stream",
     "text": [
      "Banksy is thrilling New York City residents once again with one of his trademark rat stencils. \n",
      "The anonymous British street artist held a citywide, monthlong open-air exhibition in October 2013 called “Better Out Than In.” \n",
      "This time, he added a rodent to the clock face of a former bank building that is slated for demolition in Greenwich Village on Wednesday. Some fans likened the image to a hamster in a wheel and suggested it was a critique on the “rat race.”\n",
      "Banksy’s official Instagram account shared images of the street art, which can be found on the corner of 14th St. and Sixth Avenue, soon after ― in an apparent confirmation that he was behind the work.\n",
      "Needless to say, it sent fans of the street artist on Twitter into a mini meltdown:\n",
      "A limited edition canvas of the Bristol-born artist’s “Girl and Balloon” fetched 345,000 pounds (around $481,000) at auction last week.\n",
      "https://www.huffingtonpost.com/entry/banksy-new-york-city-new-piece_us_5aaa79a8e4b0004c0407fae3  working!\n"
     ]
    },
    {
     "name": "stderr",
     "output_type": "stream",
     "text": [
      "\r",
      " 92%|██████████████████████████████████████████████████████████████████████████▌      | 92/100 [01:11<00:06,  1.19it/s]"
     ]
    },
    {
     "name": "stdout",
     "output_type": "stream",
     "text": [
      "WASHINGTON -- Louisiana Gov. Bobby Jindal’s presidential campaign has been propped up by the $4.6 million he helped two supposedly independent outside groups raise in the first half of 2015. The majority of the funds raised by these groups comes from people and companies that have benefited from Jindal’s administration or continue to lobby his office.\n",
      "In total, a handful of donors with influence in Baton Rouge combined to contribute $2.5 million to Believe Again, a super PAC, and American Future Project, a 527 group.\n",
      "The contributions from companies and executives with clear business interests before the governor or who have already received plum assignments provides yet another example of how the Supreme Court's 2010 Citizens United decision expanded opportunities for those looking to benefit from government decisions.\n",
      "Twelve donors who combined to give $725,000 were previously appointed to important board positions by the governor to oversee things ranging from Louisiana State University to the state airport authority and a panel overseeing the construction of a new hospital. (Some of these donors were corporations whose officers received appointments from the Jindal administration.)\n",
      "Among the donations was a $100,000 contribution from the insurance company USAA to American Future Project two years after Jindal appointed the company’s senior vice president for public affairs and government relations to the Louisiana State Mineral Board. The Excel Group’s David Roberts, who was appointed by Jindal to both the Louisiana Board of Commissioners of the Stadium and Exposition District and the Louisiana Racing Commission, gave $100,000. A Baton Rouge company tied to Art Favre, who was appointed to the Louisiana Workforce Investment Council in 2008, gave $250,000.\n",
      "\"USAA provides financial support to candidates and organizations that embrace policies that help us serve military families,\" USAA spokesman Roger Wildermuth said in a statement.\n",
      "The Jindal campaign did not respond to a request for comment.\n",
      "Other companies and executives employ lobbyists in the state capital. The California auto auction company Copart and its top executive Willis Johnson gave $200,000 to Believe Again while employing lobbyists in Baton Rouge. Richard Zuschlag, the head of another company employing lobbyists aiming to influence Louisiana government decisions, Louisiana-based ambulance service provider Acadian Companies, gave $25,000.\n",
      "The already powerful Louisiana nursing home industry has gained from Jindal's administration and also battled him to a standstill over related Medicaid reimbursement policies and his privatization agenda. \n",
      "One of the state’s largest industry lobbies, with millions in campaign donations made every year, the nursing home industry takes advantage of policies the state has enacted and maintained to fund beds with Medicaid funds -- even when they are empty.\n",
      "An investigation by WVUE New Orleans revealed that the funding of nursing home beds, including empty ones, was maintained at the same levels even as the Jindal administration and the Republican legislature pursued austerity policies to slash other health care and education spending.\n",
      "Now, thanks to Citizens United, the nursing home industry is able to bundle more than it previously could to help Jindal’s presidential campaign tread water.\n",
      "A total of 78 nursing and rehabilitation homes operating in Louisiana contributed a combined $357,879 to American Future Project or Believe Again.\n",
      "Nearly all of the nursing home contributions to both American Future Project and Believe Again were made on April 13, meaning they were collected at a fundraiser attended by Jindal. The governor did not announce his presidential bid until June 24, and with the lack of enforcement from the Federal Election Commission, was able to raise unlimited sums for supposedly independent outside groups.\n",
      "One nursing home operator, Teddy Rae Price, donated $150,004 through 22 separate entities. This included a $50,000 contribution from Price’s Central Management Company to the super PAC Believe Again.\n",
      "This year the industry lobbied against the Jindal administration’s push to privatize the management of long-term care services provided under Medicaid. Nursing homes fear that management companies will divert funds from them toward home and community services, including home health aides and other services that allow seniors to stay in their own homes. Jindal's administration punted on the privatization of elder care, stating that the next governor, elected in 2015, will have to deal with the decision.\n",
      "Another beneficiary of Jindal’s health care policies is MCNA Healthcare. In 2014, the Florida company won a bid to be the operator of Louisiana’s dental plans under Medicaid and CHIP, which Jindal privatized. MCNA Healthcare won the bid to run the plans in 2014. In 2015, the company contributed $100,000 to Jindal’s Believe Again super PAC.\n",
      "Billionaire ship builder Gary Chouest, a longtime supporter of Louisiana Republicans and Jindal, gave $1 million to Believe Again. In 2008, when Jindal took office the very first state contract for economic development went to Chouest’s Edison Chouest to expand a shipbuilding facility. The contract was initially negotiated with Jindal’s predecessor, Democrat Kathleen Blanco, but was requested and approved by Jindal’s administration and the legislature. \n",
      "Tom Benson, owner of the New Orleans Saints and New Orleans Pelicans, contributed $25,000 to Jindal’s super PAC in April. In 2009, the state entered into an agreement with Benson’s Saints to spend $85 million on renovations to the Superdome that would expand profits for the franchise. If the team did not meet the total increase in revenue expected by the renovations, the state would pay out up to $6 million to cover the shortfall.\n",
      "This does not even cover all of the money donated to outside groups to support Jindal’s presidential campaign. Another group, America Next, is registered as a 501(c)(4) nonprofit and does not have a to disclose its donors. The group has already spent more than $700,000 in dark money asking Iowans to vote for Jindal in the first-in-the-nation caucus. Its donors will, in all likelihood, not be revealed.\n",
      "https://www.huffingtonpost.com/entry/bobby-jindals-biggest-donors-benefited-from-his-administration_us_55e9e976e4b002d5c075fb17  working!\n"
     ]
    },
    {
     "name": "stderr",
     "output_type": "stream",
     "text": [
      "\r",
      " 93%|███████████████████████████████████████████████████████████████████████████▎     | 93/100 [01:12<00:04,  1.44it/s]"
     ]
    },
    {
     "name": "stdout",
     "output_type": "stream",
     "text": [
      "STOUGHTON, WI—Alcoholic and car owner Jim Torkleson attributes his \"best-ever\" 11-mile, 0.14 blood-alcohol-content drunken drive home from Abley's Bar Friday to being totally \"in the zone.\" \"It was like everything was happening in slow motion, even though I must have been doing well over a hundred,\" said Torkleson, who claimed that he has been driving drunk for more than 10 years, but only recently \"really hit [his] stride.\" \"Some kind of sixth sense let me just slip past other cars, over raccoons, between kids on bikes, you name it. It was like the road and everyone on it just went away.\" Torkleson said the cruise afforded him the greatest high while driving since the time a police officer forgot to put his cruiser in park after pulling Torkleson over.\n",
      "https://www.theonion.com/drunk-driver-in-the-zone-1819568966  working!\n"
     ]
    },
    {
     "name": "stderr",
     "output_type": "stream",
     "text": [
      "\r",
      " 94%|████████████████████████████████████████████████████████████████████████████▏    | 94/100 [01:12<00:03,  1.69it/s]"
     ]
    },
    {
     "name": "stdout",
     "output_type": "stream",
     "text": [
      "CAIRO—Sighing dejectedly Thursday morning as she watched her screaming husband depart for yet another massive anti-American protest in Tahrir Square, local woman Samira Khalil told reporters that she wished the hysterical man would go completely and utterly berserk for her once in a while. “Considering he spends all day unleashing a violent messianic fervor against our enemies, you’d think he could bring some of that same hysterical passion back to the bedroom sometimes,” said Khalil, adding that every time they’re about to get get hot and heavy in the sack, her husband’s mind wanders off to thoughts of jihad and fatwa. “As soon as he hears about a depiction of Muhammad, or some other brazenly evil work of the infidel, there’s this smoldering gleam in his eyes. But he never looks at me like that anymore.” Khalil added that when her husband returned home that night, she would try desecrating a Quran right in front of him to “get him all hot and bothered.”\n",
      "https://www.theonion.com/egyptian-woman-wishes-screaming-protester-husband-would-1819573942  working!\n"
     ]
    },
    {
     "name": "stderr",
     "output_type": "stream",
     "text": [
      "\r",
      " 95%|████████████████████████████████████████████████████████████████████████████▉    | 95/100 [01:13<00:03,  1.35it/s]"
     ]
    },
    {
     "name": "stdout",
     "output_type": "stream",
     "text": [
      "Mike* is a 25-year-old man from Seattle, Washington. He is also an unabashed fan of Hillary Clinton, and has been since the moment her 2016 presidential campaign kicked off.\n",
      "“It’s all about experience and preparation. Hillary has been involved in politics on a national level for decades,” Mike told The Huffington Post. \n",
      "“I’m very enthusiastic,” he added. “I’m all in for Hillary.”\n",
      "It’s a sentiment you don’t hear a lot from young men, at least not in the media. Bernie had his “bros.” Trump has his. As for Hillary, well, she’s got women, the story goes ― and mostly older ones. (After all, as NPR reports, this election is poised to have the biggest gender voting divide in more than 60 years.)\n",
      "But voters like Mike who are a) young b) men and c) enthusiastic Clinton fans? They’re seldom spoken of, unless it’s to express veiled surprise that, yes, a fair number of men support her candidacy. And while Clinton may not need the male millennial vote to win or “legitimize” her candidacy, it’s important to complicate the narrative that her success as a candidate rests solely on the shoulders of women ― especially because women bear the brunt of abuse for publicly supporting her. \n",
      "Because many young millennial men do, of course, support Clinton, and some are becoming increasingly vocal about their enthusiasm as the general election inches into view. HuffPost Women spoke to several of them, and here’s what they had to say. \n",
      "I’m with Sanders her\n",
      "Many of Clinton’s vocal fans used to support Bernie Sanders. Sean Sanford, 29 ― also from Washington ― “jumped on the Bernie Bandwagon” early in the Democratic primary, he says, then switched his allegiance to Clinton after Sanders endorsed her. He’s not necessarily enamored with her personality, but he likes her platform. \n",
      "“I’m allergic to the kind of support that is personality-based,” Sanford said. “I like to think that my decisions are more policy-based ... and I find that I am becoming more vocal in support of her policies. I find myself trying to convince friends and family to vote for her rather than not vote at all.” \n",
      "Danial*, 26, was also a Sanders supporter, voting for him in the Ohio Democratic primary. But he was never a diehard “Bernie bro,” he says, and when it became clear Sanders was not going to win the nomination, Danial also threw his support behind Clinton.\n",
      "“She is the most qualified for the job. I’m not as enthusiastic as I was about Barack Obama, but there’s no doubt in my mind that she is reasonable and really qualified to handle the position,” he said.\n",
      "Danial has been in an ongoing argument with his brother, who was also a Sanders supporter and now intends to vote for Trump. Seeing his brother’s conversion has compelled him to speak out in favor of Clinton.\n",
      "“I always thought people would look at how Trump behaves and how he treats others, and his positions on his key issues and they’d think, ‘OK, I can’t support this guy. I may not be thrilled with Hillary, but at least she’s a stable candidate ― stable person,’” he said. “And I’m just not seeing that. It became really terrifying, almost, with my brother, because you can point out all the flaws that disqualify [Trump] from being president, and it’s like he doesn’t care. He just doesn’t care.”\n",
      "Others, like Mike, say they’ve taken heat from friends and families for being Clinton supporters all along. At times during the Democratic primary campaign, he found the amount of pro-Sanders/anti-Clinton rhetoric being expressed in his social media circles almost “overwhelming.” He was surprised that people in his life simply assumed that as a liberal, millennial man living in uber-liberal Seattle, he would support Sanders without question.\n",
      "“At a certain point I said, you know what? I try to avoid being overly political in my social media presence, but I want to make a stand,” Mike said.\n",
      "The response was mixed. Friends who were Sanders supporters commented questioning Clinton’s authenticity. Some questioned Mike’s personal “authenticity” as a progressive. Others messaged him privately on Facebook, admitting that they were Clinton supporters, too, but they weren’t necessarily willing to talk about it openly.\n",
      "A glimpse at the double standard\n",
      "Mike adds that the experience of supporting Clinton has made him even more aware of just how difficult it is to be a woman in power. \n",
      "“Guys like Trump can raise their voice and say all kinds of incendiary things, and Bernie can mess his hair up and wave his arms in the air,” he said. “If Hillary did those things, she would get a lot more criticism for how she presents herself. As a woman in power, seeking to hold the nation’s highest office, she has to find this very fine balance.”\n",
      "Dave,* 28, a vocal Clinton supporter from New York who admits he sometimes feels like an outlier, says that when he talks to people who are anti-Clinton about why he personally supports her, they tend to diminish her accomplishments. \n",
      "“When I talk to people about her success, they will quickly attribute it to her powerful husband. But if you dig in and study her life and accomplishments, you see that every inch of progress she’s made has been earned, and every time she’s gotten knocked down, she has gotten right back up,” he said. Dave likens her to the protagonists in the sports movies he grew up loving, like Rocky and Rudy ― a true underdog who has persevered and is on the cusp of what was once thought of as impossible. \n",
      "Then there’s Joshua Inocencio, 26, from Texas, who was a fan of both Sanders and Clinton early on in the primary season, but as of last fall became a full-fledged Clinton supporter. He is gay, and got into arguments with friends who objected to Clinton’s changing position on same-sex marriage, among other things. But ultimately Inocencio was swayed by her policies and by her gender.\n",
      "“I really value someone who is as detailed as she is on how she is going to accomplish everything. She’s a policy wonk, and that’s what I look for when I look at candidates,” he said. He’s found it striking that many voters will support a candidate, like Trump, who is inexperienced politically while Clinton must be extremely qualified. \n",
      "“I do think that some ― not all, but some ― of the vitriol against Clinton does have to do with the fact that she’s a woman. Policy-wise and culturally, we do not treat women well in this country. Having a woman become the most powerful person in the world will be hugely significant,” he said. \n",
      "“You know, in 2008 any time a prominent African-American voted for Obama, there was [this idea] of, ‘Well of course they voted for him, because they’re both black.’ ... People are already saying the same thing about Clinton and women,” he said. “On the one hand, it’s not surprising because she is centralizing important issues, like equal pay and women’s health. So it’s important that women are supporting Hillary. And it’s important for me, and for any man who is supporting her, to say that.”\n",
      "Or, as Reductress reminds us: You can vote for Clinton and still keep your d*ck. \n",
      "* Only first names have been used to protect anonymity. \n",
      "https://www.huffingtonpost.com/entry/meet-the-millennial-men-who-love-hillary-clinton_us_57a1fe11e4b0e2e15eb7f4de  working!\n"
     ]
    },
    {
     "name": "stderr",
     "output_type": "stream",
     "text": [
      "\r",
      " 96%|█████████████████████████████████████████████████████████████████████████████▊   | 96/100 [01:16<00:05,  1.35s/it]"
     ]
    },
    {
     "name": "stdout",
     "output_type": "stream",
     "text": [
      "The number of homeless students in the United States reached a record high during the 2012-13 school year, according to the latest data from the U.S. Department of Education. \n",
      "The report released Monday shows that homeless children enrolled in public preschool and grades K-12 jumped 8 percent from the previous school year to hit 1,258,182.\n",
      "\n",
      "Numbers Of Homeless Students In America | Create Infographics\n",
      "According to the Education Department, three-quarters of these students live \"doubled up\" -- that is, with friends or extended family members -- while 16 percent live in shelters. Some 3 percent live without shelter. And about 6 percent are \"unaccompanied,\" meaning they live completely on their own without parents or other family members.\n",
      "A significant number of homeless students have disabilities or have limited English language skills.\n",
      "\n",
      "Who Are The Homeless Students? | Create Infographics\n",
      "As the number of homeless students in America has risen in recent years, their scores on state assessment exams have decreased.\n",
      "\n",
      "Homeless Students Lack Skills In Reading And Math | Create Infographics\n",
      "Troubling as these numbers are, they likely understate the problem of homelessness among the young, the First Focus Campaign for Children said in a statement. The nonprofit pointed out that the data do not include children too young for school or those not enrolled in public schools. \n",
      "“A record number of homeless students mean a record number of our children being exposed to sexual trafficking, abuse, hunger, and denial of their basic needs,” said Bruce Lesley, president of the First Focus Campaign for Children. “The new data means that a record number of kids in our schools and communities are spending restless nights in bed-bug infested motels and falling more behind in school by the day because they’re too tired and hungry to concentrate.\"\n",
      "See ways to help homeless individuals here. \n",
      "https://www.huffingtonpost.com/entry/homeless-students_n_5864414.html  working!\n"
     ]
    },
    {
     "name": "stderr",
     "output_type": "stream",
     "text": [
      "\r",
      " 97%|██████████████████████████████████████████████████████████████████████████████▌  | 97/100 [01:16<00:03,  1.05s/it]"
     ]
    },
    {
     "name": "stdout",
     "output_type": "stream",
     "text": [
      "SEATTLE—According to a University of Washington report published Friday, more than two-thirds of major lifestyle reassessments take place after exiting a Buffalo Wild Wings franchise. \"Typically, the moment of self-reflection begins when people find themselves in the parking lot asking questions like, 'Why the hell am I here?' and 'What terrible life path am I currently on that led me to a Buffalo Wild Wings?'\" said researcher Dr. Priyank Sarin, adding that most individuals hit bottom when they notice the stench of stale barbecue sauce clinging to their clothes and remember how depressed they felt when they caught their own saddened reflection in one of the many televisions surrounding the restaurant. \"By the time you leave a Buffalo Wild Wings, you're ready for a fresh start, because at that point, there's nowhere to go but up.\" The report shows, however, that 98 percent of people experiencing such epiphanies will return within a week to the very same Buffalo Wild Wings location.\n",
      "https://www.theonion.com/report-majority-of-instances-of-people-getting-lives-b-1819573397  working!\n"
     ]
    },
    {
     "name": "stderr",
     "output_type": "stream",
     "text": [
      "\r",
      " 98%|███████████████████████████████████████████████████████████████████████████████▍ | 98/100 [01:17<00:01,  1.20it/s]"
     ]
    },
    {
     "name": "stdout",
     "output_type": "stream",
     "text": [
      "MEDFORD, MA—In a finding that upends longstanding assumptions about human mental capabilities, a Tufts University study published Monday has determined that gratification can actually be deliberately postponed. “We now have sound scientific evidence that suggests one can intentionally enjoy something at a point in time beyond this very moment,” said study co-author Bennett Sims, adding that the data indicated that it could be possible to delay gratification for minutes, hours, or, theoretically, even days. “It appears that humans are, in fact, able to wait for a thing they want, and on very rare occasion even perceive that delaying the gratification might enhance it.” The research comes on the heels of another study that found that humans actually have the emotional capacity to not complain every five minutes.\n",
      "https://www.theonion.com/groundbreaking-study-finds-gratification-can-be-deliber-1819578388  working!\n"
     ]
    },
    {
     "name": "stderr",
     "output_type": "stream",
     "text": [
      "\r",
      " 99%|████████████████████████████████████████████████████████████████████████████████▏| 99/100 [01:18<00:01,  1.08s/it]"
     ]
    },
    {
     "name": "stdout",
     "output_type": "stream",
     "text": [
      "When your ex gets engaged, most of us try to respond maturely, which basically means hiding their Facebook posts from the news feed. It's the adult thing to do. But not even Facebook has a setting that can ignore Mariah Carey's new engagement ring. (Sorry, Nick Cannon, you're on your own.)\n",
      "Cannon's ex-wife, Carey, and her boyfriend, billionaire James Packer, got engaged earlier this week. While many of us might go into an existential crisis when our ex starts wearing bling brighter than the sun, Cannon did something pretty fantastic.\n",
      "The comedian took to Instagram and shared a meme showing him apparently being hospitalized because of the news:\n",
      "In the caption, Cannon explained how the photo made him LOL (for real) and offered his congratulations to the couple.\n",
      "\"Congrats to @MariahCarey and James! May God Bless Your Future Union... #GreatPeople#GreatCouple,\" wrote the comedian.\n",
      "Despite Carey and Cannon's split last year, the singer and the \"America's Got Talent\" host have remained close. The pair even celebrated the holidays together with their twins last December.\n",
      "Congratulations to the happy couple! And congrats to Nick Cannon for being about the coolest ex ever. Dude's got talent.\n",
      "Also on HuffPost:\n",
      "https://www.huffingtonpost.com/entry/nick-cannon-mariah-carey-engagement_us_56a39582e4b076aadcc6cba0  working!\n"
     ]
    },
    {
     "name": "stderr",
     "output_type": "stream",
     "text": [
      "100%|████████████████████████████████████████████████████████████████████████████████| 100/100 [01:20<00:00,  1.25it/s]"
     ]
    },
    {
     "name": "stdout",
     "output_type": "stream",
     "text": [
      "https://www.huffingtonpost.com/entry/midlife-obesity-may-speed-up-alzheimers_us_55e5c574e4b0aec9f354865a  not working..\n",
      "14\n"
     ]
    },
    {
     "name": "stderr",
     "output_type": "stream",
     "text": [
      "\n"
     ]
    }
   ],
   "source": [
    "# from urllib.error import HTTPError\n",
    "\n",
    "# print(full_data[:10])\n",
    "broken_urls = []\n",
    "\n",
    "for item in tqdm(full_data[:100]):\n",
    "    URL = item['article_link']\n",
    "#     print(URL)\n",
    "    try:\n",
    "        page = requests.get(URL)\n",
    "        page.raise_for_status()\n",
    "    \n",
    "        soup = BeautifulSoup(page.content, 'html.parser')\n",
    "        \n",
    "        if \"huffingtonpost\" in URL:\n",
    "            body = soup.find('section', class_='entry__content-list js-entry-content js-cet-subunit')\n",
    "            content = body.find_all('div', class_='primary-cli cli cli-text')\n",
    "\n",
    "            for i in content:\n",
    "                print(i.text)\n",
    "                \n",
    "        elif \"theonion\" in URL:\n",
    "            soup = BeautifulSoup(page.content, 'html.parser')\n",
    "            body = soup.find('p', class_='sc-77igqf-0 bOfvBY')\n",
    "\n",
    "            print(body.text)          \n",
    "    except:\n",
    "        print(URL,' not working..')\n",
    "        broken_urls.append(URL)\n",
    "    else:\n",
    "        print(URL,' working!')\n",
    "\n",
    "        \n",
    "print(len(broken_urls))\n"
   ]
  },
  {
   "cell_type": "code",
   "execution_count": null,
   "id": "bd2e79e7",
   "metadata": {},
   "outputs": [],
   "source": [
    "print(len(broken_urls))"
   ]
  },
  {
   "cell_type": "code",
   "execution_count": 160,
   "id": "7038023e",
   "metadata": {},
   "outputs": [
    {
     "name": "stdout",
     "output_type": "stream",
     "text": [
      "working!\n",
      "not working..\n"
     ]
    }
   ],
   "source": [
    "urls = ['https://www.huffpost.com/entry/job-openings-federal-reserve_n_633c89d4e4b04cf8f3677d0d','https://www.huffpost.com/entry/job-openings-federal-reserve_n_633c89d4e47d0d']\n",
    "\n",
    "for url in urls:\n",
    "    try:\n",
    "        page = requests.get(url)\n",
    "        page.raise_for_status()\n",
    "    except:\n",
    "        print('not working..')\n",
    "    else:\n",
    "        print('working!')"
   ]
  }
 ],
 "metadata": {
  "kernelspec": {
   "display_name": "Python 3",
   "language": "python",
   "name": "python3"
  },
  "language_info": {
   "codemirror_mode": {
    "name": "ipython",
    "version": 3
   },
   "file_extension": ".py",
   "mimetype": "text/x-python",
   "name": "python",
   "nbconvert_exporter": "python",
   "pygments_lexer": "ipython3",
   "version": "3.8.8"
  }
 },
 "nbformat": 4,
 "nbformat_minor": 5
}
